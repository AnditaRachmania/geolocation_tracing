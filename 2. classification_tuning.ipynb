{
 "cells": [
  {
   "cell_type": "code",
   "execution_count": 217,
   "metadata": {},
   "outputs": [],
   "source": [
    "import pandas as pd\n",
    "import numpy as np\n",
    "import matplotlib.pyplot as plt\n",
    "import seaborn as sns\n",
    "%matplotlib inline\n",
    "\n",
    "import warnings\n",
    "warnings.filterwarnings('ignore')"
   ]
  },
  {
   "cell_type": "code",
   "execution_count": 218,
   "metadata": {},
   "outputs": [],
   "source": [
    "temp = pd.read_csv('raw_train.csv', index_col=0, parse_dates=['time_entry', 'time_exit'])\n",
    "temp = temp.set_index('trajectory_id')"
   ]
  },
  {
   "cell_type": "code",
   "execution_count": 219,
   "metadata": {},
   "outputs": [
    {
     "data": {
      "text/html": [
       "<div>\n",
       "<style scoped>\n",
       "    .dataframe tbody tr th:only-of-type {\n",
       "        vertical-align: middle;\n",
       "    }\n",
       "\n",
       "    .dataframe tbody tr th {\n",
       "        vertical-align: top;\n",
       "    }\n",
       "\n",
       "    .dataframe thead th {\n",
       "        text-align: right;\n",
       "    }\n",
       "</style>\n",
       "<table border=\"1\" class=\"dataframe\">\n",
       "  <thead>\n",
       "    <tr style=\"text-align: right;\">\n",
       "      <th></th>\n",
       "      <th>hash</th>\n",
       "      <th>time_entry</th>\n",
       "      <th>time_exit</th>\n",
       "      <th>x_entry</th>\n",
       "      <th>y_entry</th>\n",
       "      <th>x_exit</th>\n",
       "      <th>y_exit</th>\n",
       "      <th>entry_hour</th>\n",
       "      <th>exit_hour</th>\n",
       "      <th>duration</th>\n",
       "      <th>duration_s</th>\n",
       "    </tr>\n",
       "    <tr>\n",
       "      <th>trajectory_id</th>\n",
       "      <th></th>\n",
       "      <th></th>\n",
       "      <th></th>\n",
       "      <th></th>\n",
       "      <th></th>\n",
       "      <th></th>\n",
       "      <th></th>\n",
       "      <th></th>\n",
       "      <th></th>\n",
       "      <th></th>\n",
       "      <th></th>\n",
       "    </tr>\n",
       "  </thead>\n",
       "  <tbody>\n",
       "    <tr>\n",
       "      <th>traj_0000a8602cf2def930488dee7cdad104_1_0</th>\n",
       "      <td>0000a8602cf2def930488dee7cdad104_1</td>\n",
       "      <td>2021-03-21 07:04:31</td>\n",
       "      <td>2021-03-21 07:08:32</td>\n",
       "      <td>3.751014e+06</td>\n",
       "      <td>-1.909398e+07</td>\n",
       "      <td>3.750326e+06</td>\n",
       "      <td>-1.913634e+07</td>\n",
       "      <td>7</td>\n",
       "      <td>7</td>\n",
       "      <td>0 days 00:04:01.000000000</td>\n",
       "      <td>241.0</td>\n",
       "    </tr>\n",
       "    <tr>\n",
       "      <th>traj_0000a8602cf2def930488dee7cdad104_1_1</th>\n",
       "      <td>0000a8602cf2def930488dee7cdad104_1</td>\n",
       "      <td>2021-03-21 07:20:34</td>\n",
       "      <td>2021-03-21 07:25:42</td>\n",
       "      <td>3.743937e+06</td>\n",
       "      <td>-1.932247e+07</td>\n",
       "      <td>3.744975e+06</td>\n",
       "      <td>-1.931966e+07</td>\n",
       "      <td>7</td>\n",
       "      <td>7</td>\n",
       "      <td>0 days 00:05:08.000000000</td>\n",
       "      <td>308.0</td>\n",
       "    </tr>\n",
       "    <tr>\n",
       "      <th>traj_0000a8602cf2def930488dee7cdad104_1_2</th>\n",
       "      <td>0000a8602cf2def930488dee7cdad104_1</td>\n",
       "      <td>2021-03-21 07:53:32</td>\n",
       "      <td>2021-03-21 08:03:25</td>\n",
       "      <td>3.744868e+06</td>\n",
       "      <td>-1.929356e+07</td>\n",
       "      <td>3.744816e+06</td>\n",
       "      <td>-1.929284e+07</td>\n",
       "      <td>7</td>\n",
       "      <td>8</td>\n",
       "      <td>0 days 00:09:53.000000000</td>\n",
       "      <td>593.0</td>\n",
       "    </tr>\n",
       "    <tr>\n",
       "      <th>traj_0000a8602cf2def930488dee7cdad104_1_3</th>\n",
       "      <td>0000a8602cf2def930488dee7cdad104_1</td>\n",
       "      <td>2021-03-21 08:17:50</td>\n",
       "      <td>2021-03-21 08:37:23</td>\n",
       "      <td>3.744880e+06</td>\n",
       "      <td>-1.929229e+07</td>\n",
       "      <td>3.744809e+06</td>\n",
       "      <td>-1.929049e+07</td>\n",
       "      <td>8</td>\n",
       "      <td>8</td>\n",
       "      <td>0 days 00:19:33.000000000</td>\n",
       "      <td>1173.0</td>\n",
       "    </tr>\n",
       "    <tr>\n",
       "      <th>traj_0000a8602cf2def930488dee7cdad104_1_4</th>\n",
       "      <td>0000a8602cf2def930488dee7cdad104_1</td>\n",
       "      <td>2021-03-21 14:38:09</td>\n",
       "      <td>2021-03-21 14:38:09</td>\n",
       "      <td>3.744909e+06</td>\n",
       "      <td>-1.928558e+07</td>\n",
       "      <td>3.744909e+06</td>\n",
       "      <td>-1.928558e+07</td>\n",
       "      <td>14</td>\n",
       "      <td>14</td>\n",
       "      <td>0 days 00:00:00.000000000</td>\n",
       "      <td>0.0</td>\n",
       "    </tr>\n",
       "  </tbody>\n",
       "</table>\n",
       "</div>"
      ],
      "text/plain": [
       "                                                                         hash  \\\n",
       "trajectory_id                                                                   \n",
       "traj_0000a8602cf2def930488dee7cdad104_1_0  0000a8602cf2def930488dee7cdad104_1   \n",
       "traj_0000a8602cf2def930488dee7cdad104_1_1  0000a8602cf2def930488dee7cdad104_1   \n",
       "traj_0000a8602cf2def930488dee7cdad104_1_2  0000a8602cf2def930488dee7cdad104_1   \n",
       "traj_0000a8602cf2def930488dee7cdad104_1_3  0000a8602cf2def930488dee7cdad104_1   \n",
       "traj_0000a8602cf2def930488dee7cdad104_1_4  0000a8602cf2def930488dee7cdad104_1   \n",
       "\n",
       "                                                   time_entry  \\\n",
       "trajectory_id                                                   \n",
       "traj_0000a8602cf2def930488dee7cdad104_1_0 2021-03-21 07:04:31   \n",
       "traj_0000a8602cf2def930488dee7cdad104_1_1 2021-03-21 07:20:34   \n",
       "traj_0000a8602cf2def930488dee7cdad104_1_2 2021-03-21 07:53:32   \n",
       "traj_0000a8602cf2def930488dee7cdad104_1_3 2021-03-21 08:17:50   \n",
       "traj_0000a8602cf2def930488dee7cdad104_1_4 2021-03-21 14:38:09   \n",
       "\n",
       "                                                    time_exit       x_entry  \\\n",
       "trajectory_id                                                                 \n",
       "traj_0000a8602cf2def930488dee7cdad104_1_0 2021-03-21 07:08:32  3.751014e+06   \n",
       "traj_0000a8602cf2def930488dee7cdad104_1_1 2021-03-21 07:25:42  3.743937e+06   \n",
       "traj_0000a8602cf2def930488dee7cdad104_1_2 2021-03-21 08:03:25  3.744868e+06   \n",
       "traj_0000a8602cf2def930488dee7cdad104_1_3 2021-03-21 08:37:23  3.744880e+06   \n",
       "traj_0000a8602cf2def930488dee7cdad104_1_4 2021-03-21 14:38:09  3.744909e+06   \n",
       "\n",
       "                                                y_entry        x_exit  \\\n",
       "trajectory_id                                                           \n",
       "traj_0000a8602cf2def930488dee7cdad104_1_0 -1.909398e+07  3.750326e+06   \n",
       "traj_0000a8602cf2def930488dee7cdad104_1_1 -1.932247e+07  3.744975e+06   \n",
       "traj_0000a8602cf2def930488dee7cdad104_1_2 -1.929356e+07  3.744816e+06   \n",
       "traj_0000a8602cf2def930488dee7cdad104_1_3 -1.929229e+07  3.744809e+06   \n",
       "traj_0000a8602cf2def930488dee7cdad104_1_4 -1.928558e+07  3.744909e+06   \n",
       "\n",
       "                                                 y_exit  entry_hour  \\\n",
       "trajectory_id                                                         \n",
       "traj_0000a8602cf2def930488dee7cdad104_1_0 -1.913634e+07           7   \n",
       "traj_0000a8602cf2def930488dee7cdad104_1_1 -1.931966e+07           7   \n",
       "traj_0000a8602cf2def930488dee7cdad104_1_2 -1.929284e+07           7   \n",
       "traj_0000a8602cf2def930488dee7cdad104_1_3 -1.929049e+07           8   \n",
       "traj_0000a8602cf2def930488dee7cdad104_1_4 -1.928558e+07          14   \n",
       "\n",
       "                                           exit_hour  \\\n",
       "trajectory_id                                          \n",
       "traj_0000a8602cf2def930488dee7cdad104_1_0          7   \n",
       "traj_0000a8602cf2def930488dee7cdad104_1_1          7   \n",
       "traj_0000a8602cf2def930488dee7cdad104_1_2          8   \n",
       "traj_0000a8602cf2def930488dee7cdad104_1_3          8   \n",
       "traj_0000a8602cf2def930488dee7cdad104_1_4         14   \n",
       "\n",
       "                                                            duration  \\\n",
       "trajectory_id                                                          \n",
       "traj_0000a8602cf2def930488dee7cdad104_1_0  0 days 00:04:01.000000000   \n",
       "traj_0000a8602cf2def930488dee7cdad104_1_1  0 days 00:05:08.000000000   \n",
       "traj_0000a8602cf2def930488dee7cdad104_1_2  0 days 00:09:53.000000000   \n",
       "traj_0000a8602cf2def930488dee7cdad104_1_3  0 days 00:19:33.000000000   \n",
       "traj_0000a8602cf2def930488dee7cdad104_1_4  0 days 00:00:00.000000000   \n",
       "\n",
       "                                           duration_s  \n",
       "trajectory_id                                          \n",
       "traj_0000a8602cf2def930488dee7cdad104_1_0       241.0  \n",
       "traj_0000a8602cf2def930488dee7cdad104_1_1       308.0  \n",
       "traj_0000a8602cf2def930488dee7cdad104_1_2       593.0  \n",
       "traj_0000a8602cf2def930488dee7cdad104_1_3      1173.0  \n",
       "traj_0000a8602cf2def930488dee7cdad104_1_4         0.0  "
      ]
     },
     "execution_count": 219,
     "metadata": {},
     "output_type": "execute_result"
    }
   ],
   "source": [
    "temp.head()"
   ]
  },
  {
   "cell_type": "code",
   "execution_count": 220,
   "metadata": {},
   "outputs": [
    {
     "name": "stdout",
     "output_type": "stream",
     "text": [
      "<class 'pandas.core.frame.DataFrame'>\n",
      "Index: 814262 entries, traj_0000a8602cf2def930488dee7cdad104_1_0 to traj_ffffc6359725f0e1feac9ef1872ab207_11_10\n",
      "Data columns (total 11 columns):\n",
      " #   Column      Non-Null Count   Dtype         \n",
      "---  ------      --------------   -----         \n",
      " 0   hash        814262 non-null  object        \n",
      " 1   time_entry  814262 non-null  datetime64[ns]\n",
      " 2   time_exit   814262 non-null  datetime64[ns]\n",
      " 3   x_entry     814262 non-null  float64       \n",
      " 4   y_entry     814262 non-null  float64       \n",
      " 5   x_exit      814262 non-null  float64       \n",
      " 6   y_exit      814262 non-null  float64       \n",
      " 7   entry_hour  814262 non-null  int64         \n",
      " 8   exit_hour   814262 non-null  int64         \n",
      " 9   duration    814262 non-null  object        \n",
      " 10  duration_s  814262 non-null  float64       \n",
      "dtypes: datetime64[ns](2), float64(5), int64(2), object(2)\n",
      "memory usage: 74.5+ MB\n"
     ]
    }
   ],
   "source": [
    "temp.info()"
   ]
  },
  {
   "cell_type": "code",
   "execution_count": 221,
   "metadata": {},
   "outputs": [
    {
     "data": {
      "text/html": [
       "<div>\n",
       "<style scoped>\n",
       "    .dataframe tbody tr th:only-of-type {\n",
       "        vertical-align: middle;\n",
       "    }\n",
       "\n",
       "    .dataframe tbody tr th {\n",
       "        vertical-align: top;\n",
       "    }\n",
       "\n",
       "    .dataframe thead th {\n",
       "        text-align: right;\n",
       "    }\n",
       "</style>\n",
       "<table border=\"1\" class=\"dataframe\">\n",
       "  <thead>\n",
       "    <tr style=\"text-align: right;\">\n",
       "      <th></th>\n",
       "      <th>x_entry</th>\n",
       "      <th>y_entry</th>\n",
       "      <th>x_exit</th>\n",
       "      <th>y_exit</th>\n",
       "      <th>entry_hour</th>\n",
       "      <th>exit_hour</th>\n",
       "      <th>duration_s</th>\n",
       "    </tr>\n",
       "    <tr>\n",
       "      <th>trajectory_id</th>\n",
       "      <th></th>\n",
       "      <th></th>\n",
       "      <th></th>\n",
       "      <th></th>\n",
       "      <th></th>\n",
       "      <th></th>\n",
       "      <th></th>\n",
       "    </tr>\n",
       "  </thead>\n",
       "  <tbody>\n",
       "    <tr>\n",
       "      <th>traj_0000a8602cf2def930488dee7cdad104_1_0</th>\n",
       "      <td>3.751014e+06</td>\n",
       "      <td>-1.909398e+07</td>\n",
       "      <td>3.750326e+06</td>\n",
       "      <td>-1.913634e+07</td>\n",
       "      <td>7</td>\n",
       "      <td>7</td>\n",
       "      <td>241.0</td>\n",
       "    </tr>\n",
       "    <tr>\n",
       "      <th>traj_0000a8602cf2def930488dee7cdad104_1_1</th>\n",
       "      <td>3.743937e+06</td>\n",
       "      <td>-1.932247e+07</td>\n",
       "      <td>3.744975e+06</td>\n",
       "      <td>-1.931966e+07</td>\n",
       "      <td>7</td>\n",
       "      <td>7</td>\n",
       "      <td>308.0</td>\n",
       "    </tr>\n",
       "    <tr>\n",
       "      <th>traj_0000a8602cf2def930488dee7cdad104_1_2</th>\n",
       "      <td>3.744868e+06</td>\n",
       "      <td>-1.929356e+07</td>\n",
       "      <td>3.744816e+06</td>\n",
       "      <td>-1.929284e+07</td>\n",
       "      <td>7</td>\n",
       "      <td>8</td>\n",
       "      <td>593.0</td>\n",
       "    </tr>\n",
       "    <tr>\n",
       "      <th>traj_0000a8602cf2def930488dee7cdad104_1_3</th>\n",
       "      <td>3.744880e+06</td>\n",
       "      <td>-1.929229e+07</td>\n",
       "      <td>3.744809e+06</td>\n",
       "      <td>-1.929049e+07</td>\n",
       "      <td>8</td>\n",
       "      <td>8</td>\n",
       "      <td>1173.0</td>\n",
       "    </tr>\n",
       "    <tr>\n",
       "      <th>traj_0000a8602cf2def930488dee7cdad104_1_4</th>\n",
       "      <td>3.744909e+06</td>\n",
       "      <td>-1.928558e+07</td>\n",
       "      <td>3.744909e+06</td>\n",
       "      <td>-1.928558e+07</td>\n",
       "      <td>14</td>\n",
       "      <td>14</td>\n",
       "      <td>0.0</td>\n",
       "    </tr>\n",
       "  </tbody>\n",
       "</table>\n",
       "</div>"
      ],
      "text/plain": [
       "                                                x_entry       y_entry  \\\n",
       "trajectory_id                                                           \n",
       "traj_0000a8602cf2def930488dee7cdad104_1_0  3.751014e+06 -1.909398e+07   \n",
       "traj_0000a8602cf2def930488dee7cdad104_1_1  3.743937e+06 -1.932247e+07   \n",
       "traj_0000a8602cf2def930488dee7cdad104_1_2  3.744868e+06 -1.929356e+07   \n",
       "traj_0000a8602cf2def930488dee7cdad104_1_3  3.744880e+06 -1.929229e+07   \n",
       "traj_0000a8602cf2def930488dee7cdad104_1_4  3.744909e+06 -1.928558e+07   \n",
       "\n",
       "                                                 x_exit        y_exit  \\\n",
       "trajectory_id                                                           \n",
       "traj_0000a8602cf2def930488dee7cdad104_1_0  3.750326e+06 -1.913634e+07   \n",
       "traj_0000a8602cf2def930488dee7cdad104_1_1  3.744975e+06 -1.931966e+07   \n",
       "traj_0000a8602cf2def930488dee7cdad104_1_2  3.744816e+06 -1.929284e+07   \n",
       "traj_0000a8602cf2def930488dee7cdad104_1_3  3.744809e+06 -1.929049e+07   \n",
       "traj_0000a8602cf2def930488dee7cdad104_1_4  3.744909e+06 -1.928558e+07   \n",
       "\n",
       "                                           entry_hour  exit_hour  duration_s  \n",
       "trajectory_id                                                                 \n",
       "traj_0000a8602cf2def930488dee7cdad104_1_0           7          7       241.0  \n",
       "traj_0000a8602cf2def930488dee7cdad104_1_1           7          7       308.0  \n",
       "traj_0000a8602cf2def930488dee7cdad104_1_2           7          8       593.0  \n",
       "traj_0000a8602cf2def930488dee7cdad104_1_3           8          8      1173.0  \n",
       "traj_0000a8602cf2def930488dee7cdad104_1_4          14         14         0.0  "
      ]
     },
     "execution_count": 221,
     "metadata": {},
     "output_type": "execute_result"
    }
   ],
   "source": [
    "dff = temp.drop(columns=['hash', 'time_entry', 'time_exit', 'duration'])\n",
    "dff.head()"
   ]
  },
  {
   "cell_type": "code",
   "execution_count": 168,
   "metadata": {},
   "outputs": [],
   "source": [
    "def impute_loc(cols):\n",
    "    x_exit = cols[0]\n",
    "    y_exit = cols[1]\n",
    "    if 3750901.5068 <= x_exit <= 3770901.5068:\n",
    "        if -19268905.6133 <= y_exit <= -19208905.6133:\n",
    "            return 1\n",
    "        else:\n",
    "            return 0\n",
    "    else:\n",
    "        return 0"
   ]
  },
  {
   "cell_type": "raw",
   "metadata": {},
   "source": [
    "dff['target'] = dff[['x_exit', 'y_exit']].apply(impute_loc, axis=1)"
   ]
  },
  {
   "cell_type": "code",
   "execution_count": 170,
   "metadata": {},
   "outputs": [
    {
     "data": {
      "text/html": [
       "<div>\n",
       "<style scoped>\n",
       "    .dataframe tbody tr th:only-of-type {\n",
       "        vertical-align: middle;\n",
       "    }\n",
       "\n",
       "    .dataframe tbody tr th {\n",
       "        vertical-align: top;\n",
       "    }\n",
       "\n",
       "    .dataframe thead th {\n",
       "        text-align: right;\n",
       "    }\n",
       "</style>\n",
       "<table border=\"1\" class=\"dataframe\">\n",
       "  <thead>\n",
       "    <tr style=\"text-align: right;\">\n",
       "      <th></th>\n",
       "      <th>x_entry</th>\n",
       "      <th>y_entry</th>\n",
       "      <th>x_exit</th>\n",
       "      <th>y_exit</th>\n",
       "      <th>entry_hour</th>\n",
       "      <th>exit_hour</th>\n",
       "      <th>duration_s</th>\n",
       "      <th>target</th>\n",
       "    </tr>\n",
       "    <tr>\n",
       "      <th>trajectory_id</th>\n",
       "      <th></th>\n",
       "      <th></th>\n",
       "      <th></th>\n",
       "      <th></th>\n",
       "      <th></th>\n",
       "      <th></th>\n",
       "      <th></th>\n",
       "      <th></th>\n",
       "    </tr>\n",
       "  </thead>\n",
       "  <tbody>\n",
       "    <tr>\n",
       "      <th>traj_0000a8602cf2def930488dee7cdad104_1_0</th>\n",
       "      <td>3.751014e+06</td>\n",
       "      <td>-1.909398e+07</td>\n",
       "      <td>3.750326e+06</td>\n",
       "      <td>-1.913634e+07</td>\n",
       "      <td>7</td>\n",
       "      <td>7</td>\n",
       "      <td>241.0</td>\n",
       "      <td>0</td>\n",
       "    </tr>\n",
       "    <tr>\n",
       "      <th>traj_0000a8602cf2def930488dee7cdad104_1_1</th>\n",
       "      <td>3.743937e+06</td>\n",
       "      <td>-1.932247e+07</td>\n",
       "      <td>3.744975e+06</td>\n",
       "      <td>-1.931966e+07</td>\n",
       "      <td>7</td>\n",
       "      <td>7</td>\n",
       "      <td>308.0</td>\n",
       "      <td>0</td>\n",
       "    </tr>\n",
       "    <tr>\n",
       "      <th>traj_0000a8602cf2def930488dee7cdad104_1_2</th>\n",
       "      <td>3.744868e+06</td>\n",
       "      <td>-1.929356e+07</td>\n",
       "      <td>3.744816e+06</td>\n",
       "      <td>-1.929284e+07</td>\n",
       "      <td>7</td>\n",
       "      <td>8</td>\n",
       "      <td>593.0</td>\n",
       "      <td>0</td>\n",
       "    </tr>\n",
       "    <tr>\n",
       "      <th>traj_0000a8602cf2def930488dee7cdad104_1_3</th>\n",
       "      <td>3.744880e+06</td>\n",
       "      <td>-1.929229e+07</td>\n",
       "      <td>3.744809e+06</td>\n",
       "      <td>-1.929049e+07</td>\n",
       "      <td>8</td>\n",
       "      <td>8</td>\n",
       "      <td>1173.0</td>\n",
       "      <td>0</td>\n",
       "    </tr>\n",
       "    <tr>\n",
       "      <th>traj_0000a8602cf2def930488dee7cdad104_1_4</th>\n",
       "      <td>3.744909e+06</td>\n",
       "      <td>-1.928558e+07</td>\n",
       "      <td>3.744909e+06</td>\n",
       "      <td>-1.928558e+07</td>\n",
       "      <td>14</td>\n",
       "      <td>14</td>\n",
       "      <td>0.0</td>\n",
       "      <td>0</td>\n",
       "    </tr>\n",
       "  </tbody>\n",
       "</table>\n",
       "</div>"
      ],
      "text/plain": [
       "                                                x_entry       y_entry  \\\n",
       "trajectory_id                                                           \n",
       "traj_0000a8602cf2def930488dee7cdad104_1_0  3.751014e+06 -1.909398e+07   \n",
       "traj_0000a8602cf2def930488dee7cdad104_1_1  3.743937e+06 -1.932247e+07   \n",
       "traj_0000a8602cf2def930488dee7cdad104_1_2  3.744868e+06 -1.929356e+07   \n",
       "traj_0000a8602cf2def930488dee7cdad104_1_3  3.744880e+06 -1.929229e+07   \n",
       "traj_0000a8602cf2def930488dee7cdad104_1_4  3.744909e+06 -1.928558e+07   \n",
       "\n",
       "                                                 x_exit        y_exit  \\\n",
       "trajectory_id                                                           \n",
       "traj_0000a8602cf2def930488dee7cdad104_1_0  3.750326e+06 -1.913634e+07   \n",
       "traj_0000a8602cf2def930488dee7cdad104_1_1  3.744975e+06 -1.931966e+07   \n",
       "traj_0000a8602cf2def930488dee7cdad104_1_2  3.744816e+06 -1.929284e+07   \n",
       "traj_0000a8602cf2def930488dee7cdad104_1_3  3.744809e+06 -1.929049e+07   \n",
       "traj_0000a8602cf2def930488dee7cdad104_1_4  3.744909e+06 -1.928558e+07   \n",
       "\n",
       "                                           entry_hour  exit_hour  duration_s  \\\n",
       "trajectory_id                                                                  \n",
       "traj_0000a8602cf2def930488dee7cdad104_1_0           7          7       241.0   \n",
       "traj_0000a8602cf2def930488dee7cdad104_1_1           7          7       308.0   \n",
       "traj_0000a8602cf2def930488dee7cdad104_1_2           7          8       593.0   \n",
       "traj_0000a8602cf2def930488dee7cdad104_1_3           8          8      1173.0   \n",
       "traj_0000a8602cf2def930488dee7cdad104_1_4          14         14         0.0   \n",
       "\n",
       "                                           target  \n",
       "trajectory_id                                      \n",
       "traj_0000a8602cf2def930488dee7cdad104_1_0       0  \n",
       "traj_0000a8602cf2def930488dee7cdad104_1_1       0  \n",
       "traj_0000a8602cf2def930488dee7cdad104_1_2       0  \n",
       "traj_0000a8602cf2def930488dee7cdad104_1_3       0  \n",
       "traj_0000a8602cf2def930488dee7cdad104_1_4       0  "
      ]
     },
     "execution_count": 170,
     "metadata": {},
     "output_type": "execute_result"
    }
   ],
   "source": [
    "dff.head()"
   ]
  },
  {
   "cell_type": "code",
   "execution_count": 171,
   "metadata": {},
   "outputs": [],
   "source": [
    "# dff.to_csv('data_with_target.csv')"
   ]
  },
  {
   "cell_type": "markdown",
   "metadata": {},
   "source": [
    "============================================================================="
   ]
  },
  {
   "cell_type": "markdown",
   "metadata": {},
   "source": [
    "## ** EDA **"
   ]
  },
  {
   "cell_type": "code",
   "execution_count": 222,
   "metadata": {},
   "outputs": [],
   "source": [
    "dff = pd.read_csv('data_with_target.csv', index_col=0)"
   ]
  },
  {
   "cell_type": "code",
   "execution_count": 223,
   "metadata": {},
   "outputs": [
    {
     "data": {
      "text/html": [
       "<div>\n",
       "<style scoped>\n",
       "    .dataframe tbody tr th:only-of-type {\n",
       "        vertical-align: middle;\n",
       "    }\n",
       "\n",
       "    .dataframe tbody tr th {\n",
       "        vertical-align: top;\n",
       "    }\n",
       "\n",
       "    .dataframe thead th {\n",
       "        text-align: right;\n",
       "    }\n",
       "</style>\n",
       "<table border=\"1\" class=\"dataframe\">\n",
       "  <thead>\n",
       "    <tr style=\"text-align: right;\">\n",
       "      <th></th>\n",
       "      <th>x_entry</th>\n",
       "      <th>y_entry</th>\n",
       "      <th>x_exit</th>\n",
       "      <th>y_exit</th>\n",
       "      <th>entry_hour</th>\n",
       "      <th>exit_hour</th>\n",
       "      <th>duration_s</th>\n",
       "      <th>target</th>\n",
       "    </tr>\n",
       "    <tr>\n",
       "      <th>trajectory_id</th>\n",
       "      <th></th>\n",
       "      <th></th>\n",
       "      <th></th>\n",
       "      <th></th>\n",
       "      <th></th>\n",
       "      <th></th>\n",
       "      <th></th>\n",
       "      <th></th>\n",
       "    </tr>\n",
       "  </thead>\n",
       "  <tbody>\n",
       "    <tr>\n",
       "      <th>traj_0000a8602cf2def930488dee7cdad104_1_0</th>\n",
       "      <td>3.751014e+06</td>\n",
       "      <td>-1.909398e+07</td>\n",
       "      <td>3.750326e+06</td>\n",
       "      <td>-1.913634e+07</td>\n",
       "      <td>7</td>\n",
       "      <td>7</td>\n",
       "      <td>241.0</td>\n",
       "      <td>0</td>\n",
       "    </tr>\n",
       "    <tr>\n",
       "      <th>traj_0000a8602cf2def930488dee7cdad104_1_1</th>\n",
       "      <td>3.743937e+06</td>\n",
       "      <td>-1.932247e+07</td>\n",
       "      <td>3.744975e+06</td>\n",
       "      <td>-1.931966e+07</td>\n",
       "      <td>7</td>\n",
       "      <td>7</td>\n",
       "      <td>308.0</td>\n",
       "      <td>0</td>\n",
       "    </tr>\n",
       "    <tr>\n",
       "      <th>traj_0000a8602cf2def930488dee7cdad104_1_2</th>\n",
       "      <td>3.744868e+06</td>\n",
       "      <td>-1.929356e+07</td>\n",
       "      <td>3.744816e+06</td>\n",
       "      <td>-1.929284e+07</td>\n",
       "      <td>7</td>\n",
       "      <td>8</td>\n",
       "      <td>593.0</td>\n",
       "      <td>0</td>\n",
       "    </tr>\n",
       "    <tr>\n",
       "      <th>traj_0000a8602cf2def930488dee7cdad104_1_3</th>\n",
       "      <td>3.744880e+06</td>\n",
       "      <td>-1.929229e+07</td>\n",
       "      <td>3.744809e+06</td>\n",
       "      <td>-1.929049e+07</td>\n",
       "      <td>8</td>\n",
       "      <td>8</td>\n",
       "      <td>1173.0</td>\n",
       "      <td>0</td>\n",
       "    </tr>\n",
       "    <tr>\n",
       "      <th>traj_0000a8602cf2def930488dee7cdad104_1_4</th>\n",
       "      <td>3.744909e+06</td>\n",
       "      <td>-1.928558e+07</td>\n",
       "      <td>3.744909e+06</td>\n",
       "      <td>-1.928558e+07</td>\n",
       "      <td>14</td>\n",
       "      <td>14</td>\n",
       "      <td>0.0</td>\n",
       "      <td>0</td>\n",
       "    </tr>\n",
       "  </tbody>\n",
       "</table>\n",
       "</div>"
      ],
      "text/plain": [
       "                                                x_entry       y_entry  \\\n",
       "trajectory_id                                                           \n",
       "traj_0000a8602cf2def930488dee7cdad104_1_0  3.751014e+06 -1.909398e+07   \n",
       "traj_0000a8602cf2def930488dee7cdad104_1_1  3.743937e+06 -1.932247e+07   \n",
       "traj_0000a8602cf2def930488dee7cdad104_1_2  3.744868e+06 -1.929356e+07   \n",
       "traj_0000a8602cf2def930488dee7cdad104_1_3  3.744880e+06 -1.929229e+07   \n",
       "traj_0000a8602cf2def930488dee7cdad104_1_4  3.744909e+06 -1.928558e+07   \n",
       "\n",
       "                                                 x_exit        y_exit  \\\n",
       "trajectory_id                                                           \n",
       "traj_0000a8602cf2def930488dee7cdad104_1_0  3.750326e+06 -1.913634e+07   \n",
       "traj_0000a8602cf2def930488dee7cdad104_1_1  3.744975e+06 -1.931966e+07   \n",
       "traj_0000a8602cf2def930488dee7cdad104_1_2  3.744816e+06 -1.929284e+07   \n",
       "traj_0000a8602cf2def930488dee7cdad104_1_3  3.744809e+06 -1.929049e+07   \n",
       "traj_0000a8602cf2def930488dee7cdad104_1_4  3.744909e+06 -1.928558e+07   \n",
       "\n",
       "                                           entry_hour  exit_hour  duration_s  \\\n",
       "trajectory_id                                                                  \n",
       "traj_0000a8602cf2def930488dee7cdad104_1_0           7          7       241.0   \n",
       "traj_0000a8602cf2def930488dee7cdad104_1_1           7          7       308.0   \n",
       "traj_0000a8602cf2def930488dee7cdad104_1_2           7          8       593.0   \n",
       "traj_0000a8602cf2def930488dee7cdad104_1_3           8          8      1173.0   \n",
       "traj_0000a8602cf2def930488dee7cdad104_1_4          14         14         0.0   \n",
       "\n",
       "                                           target  \n",
       "trajectory_id                                      \n",
       "traj_0000a8602cf2def930488dee7cdad104_1_0       0  \n",
       "traj_0000a8602cf2def930488dee7cdad104_1_1       0  \n",
       "traj_0000a8602cf2def930488dee7cdad104_1_2       0  \n",
       "traj_0000a8602cf2def930488dee7cdad104_1_3       0  \n",
       "traj_0000a8602cf2def930488dee7cdad104_1_4       0  "
      ]
     },
     "execution_count": 223,
     "metadata": {},
     "output_type": "execute_result"
    }
   ],
   "source": [
    "dff.head()"
   ]
  },
  {
   "cell_type": "code",
   "execution_count": 225,
   "metadata": {},
   "outputs": [
    {
     "name": "stdout",
     "output_type": "stream",
     "text": [
      "<class 'pandas.core.frame.DataFrame'>\n",
      "Index: 814262 entries, traj_0000a8602cf2def930488dee7cdad104_1_0 to traj_ffffc6359725f0e1feac9ef1872ab207_11_10\n",
      "Data columns (total 8 columns):\n",
      " #   Column      Non-Null Count   Dtype  \n",
      "---  ------      --------------   -----  \n",
      " 0   x_entry     814262 non-null  float64\n",
      " 1   y_entry     814262 non-null  float64\n",
      " 2   x_exit      814262 non-null  float64\n",
      " 3   y_exit      814262 non-null  float64\n",
      " 4   entry_hour  814262 non-null  int64  \n",
      " 5   exit_hour   814262 non-null  int64  \n",
      " 6   duration_s  814262 non-null  float64\n",
      " 7   target      814262 non-null  int64  \n",
      "dtypes: float64(5), int64(3)\n",
      "memory usage: 55.9+ MB\n"
     ]
    }
   ],
   "source": [
    "dff.info()"
   ]
  },
  {
   "cell_type": "code",
   "execution_count": 226,
   "metadata": {},
   "outputs": [
    {
     "data": {
      "text/html": [
       "<div>\n",
       "<style scoped>\n",
       "    .dataframe tbody tr th:only-of-type {\n",
       "        vertical-align: middle;\n",
       "    }\n",
       "\n",
       "    .dataframe tbody tr th {\n",
       "        vertical-align: top;\n",
       "    }\n",
       "\n",
       "    .dataframe thead th {\n",
       "        text-align: right;\n",
       "    }\n",
       "</style>\n",
       "<table border=\"1\" class=\"dataframe\">\n",
       "  <thead>\n",
       "    <tr style=\"text-align: right;\">\n",
       "      <th></th>\n",
       "      <th>x_entry</th>\n",
       "      <th>y_entry</th>\n",
       "      <th>x_exit</th>\n",
       "      <th>y_exit</th>\n",
       "      <th>entry_hour</th>\n",
       "      <th>exit_hour</th>\n",
       "      <th>duration_s</th>\n",
       "      <th>target</th>\n",
       "    </tr>\n",
       "    <tr>\n",
       "      <th>trajectory_id</th>\n",
       "      <th></th>\n",
       "      <th></th>\n",
       "      <th></th>\n",
       "      <th></th>\n",
       "      <th></th>\n",
       "      <th></th>\n",
       "      <th></th>\n",
       "      <th></th>\n",
       "    </tr>\n",
       "  </thead>\n",
       "  <tbody>\n",
       "    <tr>\n",
       "      <th>traj_0002124248b0ca510dea42824723ccac_31_6</th>\n",
       "      <td>3.763879e+06</td>\n",
       "      <td>-1.921491e+07</td>\n",
       "      <td>3.763879e+06</td>\n",
       "      <td>-1.921491e+07</td>\n",
       "      <td>14</td>\n",
       "      <td>14</td>\n",
       "      <td>0.0</td>\n",
       "      <td>1</td>\n",
       "    </tr>\n",
       "    <tr>\n",
       "      <th>traj_0002124248b0ca510dea42824723ccac_31_7</th>\n",
       "      <td>3.759740e+06</td>\n",
       "      <td>-1.921491e+07</td>\n",
       "      <td>3.759740e+06</td>\n",
       "      <td>-1.921491e+07</td>\n",
       "      <td>14</td>\n",
       "      <td>14</td>\n",
       "      <td>0.0</td>\n",
       "      <td>1</td>\n",
       "    </tr>\n",
       "    <tr>\n",
       "      <th>traj_0002124248b0ca510dea42824723ccac_31_8</th>\n",
       "      <td>3.756596e+06</td>\n",
       "      <td>-1.921483e+07</td>\n",
       "      <td>3.756596e+06</td>\n",
       "      <td>-1.921483e+07</td>\n",
       "      <td>14</td>\n",
       "      <td>14</td>\n",
       "      <td>0.0</td>\n",
       "      <td>1</td>\n",
       "    </tr>\n",
       "    <tr>\n",
       "      <th>traj_000219c2a6380c307e8bffd85b5e404b_23_0</th>\n",
       "      <td>3.760336e+06</td>\n",
       "      <td>-1.922818e+07</td>\n",
       "      <td>3.760353e+06</td>\n",
       "      <td>-1.923307e+07</td>\n",
       "      <td>0</td>\n",
       "      <td>0</td>\n",
       "      <td>183.0</td>\n",
       "      <td>1</td>\n",
       "    </tr>\n",
       "    <tr>\n",
       "      <th>traj_000219c2a6380c307e8bffd85b5e404b_23_2</th>\n",
       "      <td>3.760507e+06</td>\n",
       "      <td>-1.923410e+07</td>\n",
       "      <td>3.760033e+06</td>\n",
       "      <td>-1.923611e+07</td>\n",
       "      <td>0</td>\n",
       "      <td>0</td>\n",
       "      <td>227.0</td>\n",
       "      <td>1</td>\n",
       "    </tr>\n",
       "    <tr>\n",
       "      <th>...</th>\n",
       "      <td>...</td>\n",
       "      <td>...</td>\n",
       "      <td>...</td>\n",
       "      <td>...</td>\n",
       "      <td>...</td>\n",
       "      <td>...</td>\n",
       "      <td>...</td>\n",
       "      <td>...</td>\n",
       "    </tr>\n",
       "    <tr>\n",
       "      <th>traj_fffb5854a6684f0ce97641edca797ca9_11_8</th>\n",
       "      <td>3.767625e+06</td>\n",
       "      <td>-1.914185e+07</td>\n",
       "      <td>3.761843e+06</td>\n",
       "      <td>-1.921731e+07</td>\n",
       "      <td>14</td>\n",
       "      <td>14</td>\n",
       "      <td>668.0</td>\n",
       "      <td>1</td>\n",
       "    </tr>\n",
       "    <tr>\n",
       "      <th>traj_fffb5854a6684f0ce97641edca797ca9_11_9</th>\n",
       "      <td>3.761757e+06</td>\n",
       "      <td>-1.921893e+07</td>\n",
       "      <td>3.760572e+06</td>\n",
       "      <td>-1.922793e+07</td>\n",
       "      <td>15</td>\n",
       "      <td>15</td>\n",
       "      <td>299.0</td>\n",
       "      <td>1</td>\n",
       "    </tr>\n",
       "    <tr>\n",
       "      <th>traj_fffd57d840cb6c16553cc8efc907ef6d_29_1</th>\n",
       "      <td>3.776224e+06</td>\n",
       "      <td>-1.920180e+07</td>\n",
       "      <td>3.760932e+06</td>\n",
       "      <td>-1.923454e+07</td>\n",
       "      <td>11</td>\n",
       "      <td>12</td>\n",
       "      <td>2005.0</td>\n",
       "      <td>1</td>\n",
       "    </tr>\n",
       "    <tr>\n",
       "      <th>traj_fffd57d840cb6c16553cc8efc907ef6d_29_3</th>\n",
       "      <td>3.760960e+06</td>\n",
       "      <td>-1.923437e+07</td>\n",
       "      <td>3.760960e+06</td>\n",
       "      <td>-1.923437e+07</td>\n",
       "      <td>12</td>\n",
       "      <td>12</td>\n",
       "      <td>0.0</td>\n",
       "      <td>1</td>\n",
       "    </tr>\n",
       "    <tr>\n",
       "      <th>traj_fffe0c49b72b5d066949457ea383a77e_3_0</th>\n",
       "      <td>3.743732e+06</td>\n",
       "      <td>-1.931220e+07</td>\n",
       "      <td>3.757495e+06</td>\n",
       "      <td>-1.922344e+07</td>\n",
       "      <td>7</td>\n",
       "      <td>8</td>\n",
       "      <td>1554.0</td>\n",
       "      <td>1</td>\n",
       "    </tr>\n",
       "  </tbody>\n",
       "</table>\n",
       "<p>243212 rows × 8 columns</p>\n",
       "</div>"
      ],
      "text/plain": [
       "                                                 x_entry       y_entry  \\\n",
       "trajectory_id                                                            \n",
       "traj_0002124248b0ca510dea42824723ccac_31_6  3.763879e+06 -1.921491e+07   \n",
       "traj_0002124248b0ca510dea42824723ccac_31_7  3.759740e+06 -1.921491e+07   \n",
       "traj_0002124248b0ca510dea42824723ccac_31_8  3.756596e+06 -1.921483e+07   \n",
       "traj_000219c2a6380c307e8bffd85b5e404b_23_0  3.760336e+06 -1.922818e+07   \n",
       "traj_000219c2a6380c307e8bffd85b5e404b_23_2  3.760507e+06 -1.923410e+07   \n",
       "...                                                  ...           ...   \n",
       "traj_fffb5854a6684f0ce97641edca797ca9_11_8  3.767625e+06 -1.914185e+07   \n",
       "traj_fffb5854a6684f0ce97641edca797ca9_11_9  3.761757e+06 -1.921893e+07   \n",
       "traj_fffd57d840cb6c16553cc8efc907ef6d_29_1  3.776224e+06 -1.920180e+07   \n",
       "traj_fffd57d840cb6c16553cc8efc907ef6d_29_3  3.760960e+06 -1.923437e+07   \n",
       "traj_fffe0c49b72b5d066949457ea383a77e_3_0   3.743732e+06 -1.931220e+07   \n",
       "\n",
       "                                                  x_exit        y_exit  \\\n",
       "trajectory_id                                                            \n",
       "traj_0002124248b0ca510dea42824723ccac_31_6  3.763879e+06 -1.921491e+07   \n",
       "traj_0002124248b0ca510dea42824723ccac_31_7  3.759740e+06 -1.921491e+07   \n",
       "traj_0002124248b0ca510dea42824723ccac_31_8  3.756596e+06 -1.921483e+07   \n",
       "traj_000219c2a6380c307e8bffd85b5e404b_23_0  3.760353e+06 -1.923307e+07   \n",
       "traj_000219c2a6380c307e8bffd85b5e404b_23_2  3.760033e+06 -1.923611e+07   \n",
       "...                                                  ...           ...   \n",
       "traj_fffb5854a6684f0ce97641edca797ca9_11_8  3.761843e+06 -1.921731e+07   \n",
       "traj_fffb5854a6684f0ce97641edca797ca9_11_9  3.760572e+06 -1.922793e+07   \n",
       "traj_fffd57d840cb6c16553cc8efc907ef6d_29_1  3.760932e+06 -1.923454e+07   \n",
       "traj_fffd57d840cb6c16553cc8efc907ef6d_29_3  3.760960e+06 -1.923437e+07   \n",
       "traj_fffe0c49b72b5d066949457ea383a77e_3_0   3.757495e+06 -1.922344e+07   \n",
       "\n",
       "                                            entry_hour  exit_hour  duration_s  \\\n",
       "trajectory_id                                                                   \n",
       "traj_0002124248b0ca510dea42824723ccac_31_6          14         14         0.0   \n",
       "traj_0002124248b0ca510dea42824723ccac_31_7          14         14         0.0   \n",
       "traj_0002124248b0ca510dea42824723ccac_31_8          14         14         0.0   \n",
       "traj_000219c2a6380c307e8bffd85b5e404b_23_0           0          0       183.0   \n",
       "traj_000219c2a6380c307e8bffd85b5e404b_23_2           0          0       227.0   \n",
       "...                                                ...        ...         ...   \n",
       "traj_fffb5854a6684f0ce97641edca797ca9_11_8          14         14       668.0   \n",
       "traj_fffb5854a6684f0ce97641edca797ca9_11_9          15         15       299.0   \n",
       "traj_fffd57d840cb6c16553cc8efc907ef6d_29_1          11         12      2005.0   \n",
       "traj_fffd57d840cb6c16553cc8efc907ef6d_29_3          12         12         0.0   \n",
       "traj_fffe0c49b72b5d066949457ea383a77e_3_0            7          8      1554.0   \n",
       "\n",
       "                                            target  \n",
       "trajectory_id                                       \n",
       "traj_0002124248b0ca510dea42824723ccac_31_6       1  \n",
       "traj_0002124248b0ca510dea42824723ccac_31_7       1  \n",
       "traj_0002124248b0ca510dea42824723ccac_31_8       1  \n",
       "traj_000219c2a6380c307e8bffd85b5e404b_23_0       1  \n",
       "traj_000219c2a6380c307e8bffd85b5e404b_23_2       1  \n",
       "...                                            ...  \n",
       "traj_fffb5854a6684f0ce97641edca797ca9_11_8       1  \n",
       "traj_fffb5854a6684f0ce97641edca797ca9_11_9       1  \n",
       "traj_fffd57d840cb6c16553cc8efc907ef6d_29_1       1  \n",
       "traj_fffd57d840cb6c16553cc8efc907ef6d_29_3       1  \n",
       "traj_fffe0c49b72b5d066949457ea383a77e_3_0        1  \n",
       "\n",
       "[243212 rows x 8 columns]"
      ]
     },
     "execution_count": 226,
     "metadata": {},
     "output_type": "execute_result"
    }
   ],
   "source": [
    "inside = dff[dff['target'] == 1]\n",
    "inside"
   ]
  },
  {
   "cell_type": "markdown",
   "metadata": {},
   "source": [
    "### Insight:\n",
    "\n",
    "There are 243,212 people (represented by device's ID) located in the city center of Atlanta during the record period (some 11 working days in October 2018)"
   ]
  },
  {
   "cell_type": "code",
   "execution_count": 228,
   "metadata": {},
   "outputs": [
    {
     "data": {
      "text/plain": [
       "count    243212.000000\n",
       "mean        346.991250\n",
       "std         623.263338\n",
       "min           0.000000\n",
       "25%           0.000000\n",
       "50%           0.000000\n",
       "75%         479.000000\n",
       "max       17680.000000\n",
       "Name: duration_s, dtype: float64"
      ]
     },
     "execution_count": 228,
     "metadata": {},
     "output_type": "execute_result"
    }
   ],
   "source": [
    "inside['duration_s'].describe()"
   ]
  },
  {
   "cell_type": "code",
   "execution_count": 231,
   "metadata": {},
   "outputs": [
    {
     "data": {
      "image/png": "[encoded data removed]",
      "text/plain": [
       "<Figure size 720x576 with 1 Axes>"
      ]
     },
     "metadata": {},
     "output_type": "display_data"
    }
   ],
   "source": [
    "plt.figure(figsize=(10, 8))\n",
    "sns.set(style='darkgrid')\n",
    "sns.distplot(inside['duration_s'], bins=100, color='teal')\n",
    "plt.title('Duration of people being in the city center of Atlanta', fontsize=17)\n",
    "plt.xlabel('Seconds', fontsize=10)\n",
    "plt.ylabel('Frequency', fontsize=10)\n",
    "plt.show()"
   ]
  },
  {
   "cell_type": "markdown",
   "metadata": {},
   "source": [
    "### Insight\n",
    "\n",
    "1. The longest duration of a person being in the city center of Atlanta in selected period of time is 17680 seconds, or 4 hour, 54 minutes, and 40 seconds.\n",
    "2. Average time someone being in the city center of Atlanta during the selected period of time is 346.9 seconds, or 5 minutes and 46 seconds."
   ]
  },
  {
   "cell_type": "code",
   "execution_count": 256,
   "metadata": {},
   "outputs": [
    {
     "data": {
      "image/png": "[encoded data removed]",
      "text/plain": [
       "<Figure size 648x432 with 1 Axes>"
      ]
     },
     "metadata": {},
     "output_type": "display_data"
    }
   ],
   "source": [
    "plt.figure(figsize=(9, 6))\n",
    "sns.countplot(inside['entry_hour'])\n",
    "plt.title('Time when people enter city center of Atlanta', fontsize=17)\n",
    "plt.xlabel('Hour', fontsize=12)\n",
    "plt.ylabel('Frequency', fontsize=12)\n",
    "plt.show()"
   ]
  },
  {
   "cell_type": "code",
   "execution_count": 248,
   "metadata": {},
   "outputs": [
    {
     "data": {
      "text/plain": [
       "31677"
      ]
     },
     "execution_count": 248,
     "metadata": {},
     "output_type": "execute_result"
    }
   ],
   "source": [
    "inside[inside['entry_hour'] == 14]['entry_hour'].count()"
   ]
  },
  {
   "cell_type": "code",
   "execution_count": 249,
   "metadata": {},
   "outputs": [
    {
     "data": {
      "text/plain": [
       "31764"
      ]
     },
     "execution_count": 249,
     "metadata": {},
     "output_type": "execute_result"
    }
   ],
   "source": [
    "inside[inside['entry_hour'] == 15]['entry_hour'].count()"
   ]
  },
  {
   "cell_type": "markdown",
   "metadata": {},
   "source": [
    "## Insight\n",
    "\n",
    "People being inside the city center of Atlanta during the time of record mostly enter the city at 15.00 (31764 people represented by device's ID), and 14.00, that is 31677 people."
   ]
  },
  {
   "cell_type": "code",
   "execution_count": 257,
   "metadata": {},
   "outputs": [
    {
     "data": {
      "image/png": "[encoded data removed]",
      "text/plain": [
       "<Figure size 648x432 with 1 Axes>"
      ]
     },
     "metadata": {},
     "output_type": "display_data"
    }
   ],
   "source": [
    "plt.figure(figsize=(9, 6))\n",
    "sns.countplot(inside['exit_hour'])\n",
    "plt.title('Time when people exit the city center of Atlanta', fontsize=17)\n",
    "plt.xlabel('Hour', fontsize=12)\n",
    "plt.ylabel('Frequency', fontsize=12)\n",
    "plt.show()"
   ]
  },
  {
   "cell_type": "code",
   "execution_count": 251,
   "metadata": {},
   "outputs": [
    {
     "data": {
      "text/plain": [
       "36373"
      ]
     },
     "execution_count": 251,
     "metadata": {},
     "output_type": "execute_result"
    }
   ],
   "source": [
    "inside[inside['exit_hour'] == 15]['entry_hour'].count()"
   ]
  },
  {
   "cell_type": "markdown",
   "metadata": {},
   "source": [
    "## Insight\n",
    "\n",
    "People leaving city center of Atlanta usually at 15.00 (36373 people represented by device's ID)"
   ]
  },
  {
   "cell_type": "code",
   "execution_count": 173,
   "metadata": {},
   "outputs": [
    {
     "data": {
      "image/png": "[encoded data removed]",
      "text/plain": [
       "<Figure size 504x288 with 1 Axes>"
      ]
     },
     "metadata": {
      "needs_background": "light"
     },
     "output_type": "display_data"
    }
   ],
   "source": [
    "# Check data imbalances\n",
    "plt.figure(figsize=(7, 4))\n",
    "sns.countplot(x='target', data=dff)\n",
    "plt.show()"
   ]
  },
  {
   "cell_type": "code",
   "execution_count": 174,
   "metadata": {},
   "outputs": [
    {
     "data": {
      "text/plain": [
       "0    571050\n",
       "1    243212\n",
       "Name: target, dtype: int64"
      ]
     },
     "execution_count": 174,
     "metadata": {},
     "output_type": "execute_result"
    }
   ],
   "source": [
    "dff['target'].value_counts()"
   ]
  },
  {
   "cell_type": "markdown",
   "metadata": {},
   "source": [
    "### Insight:\n",
    "\n",
    "Device's ID recorded mostly being outside in the city center of Atlanta"
   ]
  },
  {
   "cell_type": "markdown",
   "metadata": {},
   "source": [
    "### Train Test Split"
   ]
  },
  {
   "cell_type": "code",
   "execution_count": 175,
   "metadata": {},
   "outputs": [],
   "source": [
    "from sklearn.model_selection import train_test_split"
   ]
  },
  {
   "cell_type": "code",
   "execution_count": 176,
   "metadata": {},
   "outputs": [],
   "source": [
    "X = dff.drop(columns='target')\n",
    "y = dff['target']"
   ]
  },
  {
   "cell_type": "code",
   "execution_count": 177,
   "metadata": {},
   "outputs": [],
   "source": [
    "X_train, X_test, y_train, y_test = train_test_split(X, y, stratify=y, test_size=0.2, random_state=42)"
   ]
  },
  {
   "cell_type": "markdown",
   "metadata": {},
   "source": [
    "## Oversampling"
   ]
  },
  {
   "cell_type": "code",
   "execution_count": 96,
   "metadata": {},
   "outputs": [],
   "source": [
    "from sklearn.utils import resample"
   ]
  },
  {
   "cell_type": "code",
   "execution_count": 180,
   "metadata": {},
   "outputs": [],
   "source": [
    "X = pd.concat([X_train, y_train], axis=1)"
   ]
  },
  {
   "cell_type": "code",
   "execution_count": 181,
   "metadata": {},
   "outputs": [
    {
     "data": {
      "text/html": [
       "<div>\n",
       "<style scoped>\n",
       "    .dataframe tbody tr th:only-of-type {\n",
       "        vertical-align: middle;\n",
       "    }\n",
       "\n",
       "    .dataframe tbody tr th {\n",
       "        vertical-align: top;\n",
       "    }\n",
       "\n",
       "    .dataframe thead th {\n",
       "        text-align: right;\n",
       "    }\n",
       "</style>\n",
       "<table border=\"1\" class=\"dataframe\">\n",
       "  <thead>\n",
       "    <tr style=\"text-align: right;\">\n",
       "      <th></th>\n",
       "      <th>x_entry</th>\n",
       "      <th>y_entry</th>\n",
       "      <th>x_exit</th>\n",
       "      <th>y_exit</th>\n",
       "      <th>entry_hour</th>\n",
       "      <th>exit_hour</th>\n",
       "      <th>duration_s</th>\n",
       "      <th>target</th>\n",
       "    </tr>\n",
       "    <tr>\n",
       "      <th>trajectory_id</th>\n",
       "      <th></th>\n",
       "      <th></th>\n",
       "      <th></th>\n",
       "      <th></th>\n",
       "      <th></th>\n",
       "      <th></th>\n",
       "      <th></th>\n",
       "      <th></th>\n",
       "    </tr>\n",
       "  </thead>\n",
       "  <tbody>\n",
       "    <tr>\n",
       "      <th>traj_f8072f900926c23cb9234492b8ce473e_11_3</th>\n",
       "      <td>3.763392e+06</td>\n",
       "      <td>-1.920935e+07</td>\n",
       "      <td>3.763392e+06</td>\n",
       "      <td>-1.920935e+07</td>\n",
       "      <td>9</td>\n",
       "      <td>9</td>\n",
       "      <td>0.0</td>\n",
       "      <td>1</td>\n",
       "    </tr>\n",
       "    <tr>\n",
       "      <th>traj_949d7fa4bebd8f484a283fa2cec5d38f_29_2</th>\n",
       "      <td>3.756471e+06</td>\n",
       "      <td>-1.925569e+07</td>\n",
       "      <td>3.756461e+06</td>\n",
       "      <td>-1.925579e+07</td>\n",
       "      <td>7</td>\n",
       "      <td>7</td>\n",
       "      <td>89.0</td>\n",
       "      <td>1</td>\n",
       "    </tr>\n",
       "    <tr>\n",
       "      <th>traj_c4be7b04547d1e66fb6124cf7b4fbbcb_15_10</th>\n",
       "      <td>3.761934e+06</td>\n",
       "      <td>-1.915377e+07</td>\n",
       "      <td>3.761934e+06</td>\n",
       "      <td>-1.915377e+07</td>\n",
       "      <td>12</td>\n",
       "      <td>12</td>\n",
       "      <td>0.0</td>\n",
       "      <td>0</td>\n",
       "    </tr>\n",
       "    <tr>\n",
       "      <th>traj_08aaaf370b098e4680de8e12521f33d3_1_4</th>\n",
       "      <td>3.755549e+06</td>\n",
       "      <td>-1.926675e+07</td>\n",
       "      <td>3.755549e+06</td>\n",
       "      <td>-1.926675e+07</td>\n",
       "      <td>12</td>\n",
       "      <td>12</td>\n",
       "      <td>0.0</td>\n",
       "      <td>1</td>\n",
       "    </tr>\n",
       "    <tr>\n",
       "      <th>traj_cfeb352cc571132564e28565a0e681da_3_4</th>\n",
       "      <td>3.755254e+06</td>\n",
       "      <td>-1.922022e+07</td>\n",
       "      <td>3.755254e+06</td>\n",
       "      <td>-1.922022e+07</td>\n",
       "      <td>10</td>\n",
       "      <td>10</td>\n",
       "      <td>0.0</td>\n",
       "      <td>1</td>\n",
       "    </tr>\n",
       "  </tbody>\n",
       "</table>\n",
       "</div>"
      ],
      "text/plain": [
       "                                                  x_entry       y_entry  \\\n",
       "trajectory_id                                                             \n",
       "traj_f8072f900926c23cb9234492b8ce473e_11_3   3.763392e+06 -1.920935e+07   \n",
       "traj_949d7fa4bebd8f484a283fa2cec5d38f_29_2   3.756471e+06 -1.925569e+07   \n",
       "traj_c4be7b04547d1e66fb6124cf7b4fbbcb_15_10  3.761934e+06 -1.915377e+07   \n",
       "traj_08aaaf370b098e4680de8e12521f33d3_1_4    3.755549e+06 -1.926675e+07   \n",
       "traj_cfeb352cc571132564e28565a0e681da_3_4    3.755254e+06 -1.922022e+07   \n",
       "\n",
       "                                                   x_exit        y_exit  \\\n",
       "trajectory_id                                                             \n",
       "traj_f8072f900926c23cb9234492b8ce473e_11_3   3.763392e+06 -1.920935e+07   \n",
       "traj_949d7fa4bebd8f484a283fa2cec5d38f_29_2   3.756461e+06 -1.925579e+07   \n",
       "traj_c4be7b04547d1e66fb6124cf7b4fbbcb_15_10  3.761934e+06 -1.915377e+07   \n",
       "traj_08aaaf370b098e4680de8e12521f33d3_1_4    3.755549e+06 -1.926675e+07   \n",
       "traj_cfeb352cc571132564e28565a0e681da_3_4    3.755254e+06 -1.922022e+07   \n",
       "\n",
       "                                             entry_hour  exit_hour  \\\n",
       "trajectory_id                                                        \n",
       "traj_f8072f900926c23cb9234492b8ce473e_11_3            9          9   \n",
       "traj_949d7fa4bebd8f484a283fa2cec5d38f_29_2            7          7   \n",
       "traj_c4be7b04547d1e66fb6124cf7b4fbbcb_15_10          12         12   \n",
       "traj_08aaaf370b098e4680de8e12521f33d3_1_4            12         12   \n",
       "traj_cfeb352cc571132564e28565a0e681da_3_4            10         10   \n",
       "\n",
       "                                             duration_s  target  \n",
       "trajectory_id                                                    \n",
       "traj_f8072f900926c23cb9234492b8ce473e_11_3          0.0       1  \n",
       "traj_949d7fa4bebd8f484a283fa2cec5d38f_29_2         89.0       1  \n",
       "traj_c4be7b04547d1e66fb6124cf7b4fbbcb_15_10         0.0       0  \n",
       "traj_08aaaf370b098e4680de8e12521f33d3_1_4           0.0       1  \n",
       "traj_cfeb352cc571132564e28565a0e681da_3_4           0.0       1  "
      ]
     },
     "execution_count": 181,
     "metadata": {},
     "output_type": "execute_result"
    }
   ],
   "source": [
    "X.head()"
   ]
  },
  {
   "cell_type": "code",
   "execution_count": 182,
   "metadata": {},
   "outputs": [],
   "source": [
    "out_loc = dff[dff['target'] == 0]\n",
    "in_loc = dff[dff['target'] == 1]"
   ]
  },
  {
   "cell_type": "code",
   "execution_count": 183,
   "metadata": {},
   "outputs": [
    {
     "data": {
      "text/plain": [
       "0    571050\n",
       "1    243212\n",
       "Name: target, dtype: int64"
      ]
     },
     "execution_count": 183,
     "metadata": {},
     "output_type": "execute_result"
    }
   ],
   "source": [
    "dff['target'].value_counts()"
   ]
  },
  {
   "cell_type": "code",
   "execution_count": 184,
   "metadata": {},
   "outputs": [],
   "source": [
    "in_loc_oversample = resample(in_loc,\n",
    "                            replace=True,\n",
    "                            n_samples=len(out_loc),\n",
    "                            random_state=42\n",
    "                            )"
   ]
  },
  {
   "cell_type": "code",
   "execution_count": 185,
   "metadata": {},
   "outputs": [],
   "source": [
    "oversampled = pd.concat([out_loc, in_loc_oversample])"
   ]
  },
  {
   "cell_type": "code",
   "execution_count": 186,
   "metadata": {},
   "outputs": [
    {
     "data": {
      "text/plain": [
       "1    571050\n",
       "0    571050\n",
       "Name: target, dtype: int64"
      ]
     },
     "execution_count": 186,
     "metadata": {},
     "output_type": "execute_result"
    }
   ],
   "source": [
    "oversampled['target'].value_counts()"
   ]
  },
  {
   "cell_type": "code",
   "execution_count": 187,
   "metadata": {},
   "outputs": [],
   "source": [
    "X_train = oversampled.drop(columns='target')\n",
    "y_train = oversampled['target']"
   ]
  },
  {
   "cell_type": "markdown",
   "metadata": {},
   "source": [
    "## 1. LogisticRegression with Oversampling"
   ]
  },
  {
   "cell_type": "code",
   "execution_count": 105,
   "metadata": {},
   "outputs": [],
   "source": [
    "from sklearn.pipeline import Pipeline\n",
    "from sklearn.preprocessing import StandardScaler, RobustScaler\n",
    "from sklearn.compose import ColumnTransformer\n",
    "from sklearn.linear_model import LogisticRegression\n",
    "\n",
    "from sklearn.metrics import roc_auc_score, classification_report, log_loss, roc_auc_score, roc_curve, auc, confusion_matrix, accuracy_score, balanced_accuracy_score, f1_score, recall_score, precision_score"
   ]
  },
  {
   "cell_type": "code",
   "execution_count": 188,
   "metadata": {},
   "outputs": [],
   "source": [
    "model_log = Pipeline([\n",
    "    ('algo', LogisticRegression())\n",
    "])"
   ]
  },
  {
   "cell_type": "code",
   "execution_count": 189,
   "metadata": {},
   "outputs": [
    {
     "data": {
      "text/plain": [
       "Pipeline(steps=[('algo', LogisticRegression())])"
      ]
     },
     "execution_count": 189,
     "metadata": {},
     "output_type": "execute_result"
    }
   ],
   "source": [
    "model_log.fit(X_train, y_train)"
   ]
  },
  {
   "cell_type": "code",
   "execution_count": 190,
   "metadata": {},
   "outputs": [
    {
     "data": {
      "text/plain": [
       "0.6089295254002075"
      ]
     },
     "execution_count": 190,
     "metadata": {},
     "output_type": "execute_result"
    }
   ],
   "source": [
    "model_log.score(X_test, y_test)"
   ]
  },
  {
   "cell_type": "code",
   "execution_count": 191,
   "metadata": {},
   "outputs": [
    {
     "data": {
      "text/html": [
       "<div>\n",
       "<style scoped>\n",
       "    .dataframe tbody tr th:only-of-type {\n",
       "        vertical-align: middle;\n",
       "    }\n",
       "\n",
       "    .dataframe tbody tr th {\n",
       "        vertical-align: top;\n",
       "    }\n",
       "\n",
       "    .dataframe thead th {\n",
       "        text-align: right;\n",
       "    }\n",
       "</style>\n",
       "<table border=\"1\" class=\"dataframe\">\n",
       "  <thead>\n",
       "    <tr style=\"text-align: right;\">\n",
       "      <th></th>\n",
       "      <th>Score Logistic Regression(%)</th>\n",
       "    </tr>\n",
       "  </thead>\n",
       "  <tbody>\n",
       "    <tr>\n",
       "      <th>accuracy</th>\n",
       "      <td>60.892953</td>\n",
       "    </tr>\n",
       "    <tr>\n",
       "      <th>recall</th>\n",
       "      <td>71.066752</td>\n",
       "    </tr>\n",
       "    <tr>\n",
       "      <th>precision</th>\n",
       "      <td>41.064598</td>\n",
       "    </tr>\n",
       "    <tr>\n",
       "      <th>roc_auc_score</th>\n",
       "      <td>57.988414</td>\n",
       "    </tr>\n",
       "    <tr>\n",
       "      <th>f1_score</th>\n",
       "      <td>52.051948</td>\n",
       "    </tr>\n",
       "  </tbody>\n",
       "</table>\n",
       "</div>"
      ],
      "text/plain": [
       "               Score Logistic Regression(%)\n",
       "accuracy                          60.892953\n",
       "recall                            71.066752\n",
       "precision                         41.064598\n",
       "roc_auc_score                     57.988414\n",
       "f1_score                          52.051948"
      ]
     },
     "execution_count": 191,
     "metadata": {},
     "output_type": "execute_result"
    }
   ],
   "source": [
    "y_pred_1 = model_log.predict(X_test)\n",
    "test_labels_log = model_log.predict_proba(X_test)[:,1]\n",
    "\n",
    "model_1_metrics = pd.DataFrame(data = \n",
    "             [accuracy_score(y_test, y_pred_1) * 100, \n",
    "              recall_score(y_test, y_pred_1) * 100,\n",
    "              precision_score(y_test, y_pred_1) * 100, \n",
    "              roc_auc_score(y_test, test_labels_log) * 100,\n",
    "              f1_score(y_test, y_pred_1) * 100],\n",
    "            index = ['accuracy', 'recall', 'precision', 'roc_auc_score', 'f1_score'],\n",
    "            columns = ['Score Logistic Regression(%)'])\n",
    "model_1_metrics"
   ]
  },
  {
   "cell_type": "code",
   "execution_count": 192,
   "metadata": {},
   "outputs": [
    {
     "name": "stdout",
     "output_type": "stream",
     "text": [
      "              precision    recall  f1-score   support\n",
      "\n",
      "           0       0.82      0.57      0.67    114210\n",
      "           1       0.41      0.71      0.52     48643\n",
      "\n",
      "    accuracy                           0.61    162853\n",
      "   macro avg       0.62      0.64      0.60    162853\n",
      "weighted avg       0.70      0.61      0.63    162853\n",
      "\n"
     ]
    }
   ],
   "source": [
    "print(classification_report(y_test, y_pred_1))"
   ]
  },
  {
   "cell_type": "code",
   "execution_count": 193,
   "metadata": {},
   "outputs": [
    {
     "data": {
      "image/png": "[encoded data removed]",
      "text/plain": [
       "<Figure size 432x288 with 2 Axes>"
      ]
     },
     "metadata": {
      "needs_background": "light"
     },
     "output_type": "display_data"
    }
   ],
   "source": [
    "cm = confusion_matrix(y_test, y_pred_1, labels=[1, 0])\n",
    "df = pd.DataFrame(cm, columns=['Pred 1', 'Pred 0'], index=['Act 1', 'Act 0'])\n",
    "sns.heatmap(df, annot=True);"
   ]
  },
  {
   "cell_type": "code",
   "execution_count": 194,
   "metadata": {},
   "outputs": [
    {
     "data": {
      "image/png": "[encoded data removed]",
      "text/plain": [
       "<Figure size 432x288 with 1 Axes>"
      ]
     },
     "metadata": {
      "needs_background": "light"
     },
     "output_type": "display_data"
    }
   ],
   "source": [
    "# calculate roc curves\n",
    "fpr1, tpr1, _ = roc_curve(y_test, test_labels_log)\n",
    "sc1 = round(auc(fpr1, tpr1),2)\n",
    "# plot the roc curve for the model\n",
    "plt.plot(fpr1, tpr1, linestyle='--', label=f'AUC model={sc1}')\n",
    "plt.plot([0,1], [0,1], 'r-.')\n",
    "# axis labels\n",
    "plt.xlabel('False Positive Rate')\n",
    "plt.ylabel('True Positive Rate')\n",
    "# show the legend\n",
    "plt.title('ROC Curve Logistic Regression')\n",
    "plt.legend();"
   ]
  },
  {
   "cell_type": "markdown",
   "metadata": {},
   "source": [
    "## 2. RandomForest Hyperparameter Tuning"
   ]
  },
  {
   "cell_type": "code",
   "execution_count": 113,
   "metadata": {},
   "outputs": [],
   "source": [
    "from sklearn.ensemble import RandomForestClassifier\n",
    "from sklearn.model_selection import GridSearchCV, RandomizedSearchCV"
   ]
  },
  {
   "cell_type": "code",
   "execution_count": 114,
   "metadata": {},
   "outputs": [],
   "source": [
    "hype_RF = Pipeline([\n",
    "    ('algo', RandomForestClassifier())\n",
    "])"
   ]
  },
  {
   "cell_type": "code",
   "execution_count": 115,
   "metadata": {},
   "outputs": [
    {
     "data": {
      "text/plain": [
       "{'memory': None,\n",
       " 'steps': [('algo', RandomForestClassifier())],\n",
       " 'verbose': False,\n",
       " 'algo': RandomForestClassifier(),\n",
       " 'algo__bootstrap': True,\n",
       " 'algo__ccp_alpha': 0.0,\n",
       " 'algo__class_weight': None,\n",
       " 'algo__criterion': 'gini',\n",
       " 'algo__max_depth': None,\n",
       " 'algo__max_features': 'auto',\n",
       " 'algo__max_leaf_nodes': None,\n",
       " 'algo__max_samples': None,\n",
       " 'algo__min_impurity_decrease': 0.0,\n",
       " 'algo__min_impurity_split': None,\n",
       " 'algo__min_samples_leaf': 1,\n",
       " 'algo__min_samples_split': 2,\n",
       " 'algo__min_weight_fraction_leaf': 0.0,\n",
       " 'algo__n_estimators': 100,\n",
       " 'algo__n_jobs': None,\n",
       " 'algo__oob_score': False,\n",
       " 'algo__random_state': None,\n",
       " 'algo__verbose': 0,\n",
       " 'algo__warm_start': False}"
      ]
     },
     "execution_count": 115,
     "metadata": {},
     "output_type": "execute_result"
    }
   ],
   "source": [
    "hype_RF.get_params()"
   ]
  },
  {
   "cell_type": "code",
   "execution_count": 116,
   "metadata": {},
   "outputs": [],
   "source": [
    "params_RF = {\n",
    "    'algo__n_estimators': range(100, 200, 50),\n",
    "    'algo__max_depth': [None, 3, 5],\n",
    "    'algo__min_samples_leaf': [1, 3, 5, 7],\n",
    "    'algo__max_features': [None, 'auto']\n",
    "}"
   ]
  },
  {
   "cell_type": "code",
   "execution_count": 117,
   "metadata": {},
   "outputs": [],
   "source": [
    "RF_rs = RandomizedSearchCV(hype_RF, params_RF, cv=5, n_jobs=-1, verbose=1)"
   ]
  },
  {
   "cell_type": "code",
   "execution_count": 118,
   "metadata": {},
   "outputs": [
    {
     "name": "stdout",
     "output_type": "stream",
     "text": [
      "Fitting 5 folds for each of 10 candidates, totalling 50 fits\n"
     ]
    },
    {
     "name": "stderr",
     "output_type": "stream",
     "text": [
      "[Parallel(n_jobs=-1)]: Using backend LokyBackend with 12 concurrent workers.\n",
      "[Parallel(n_jobs=-1)]: Done  26 tasks      | elapsed:  9.4min\n",
      "[Parallel(n_jobs=-1)]: Done  50 out of  50 | elapsed: 16.0min finished\n"
     ]
    },
    {
     "data": {
      "text/plain": [
       "RandomizedSearchCV(cv=5,\n",
       "                   estimator=Pipeline(steps=[('algo',\n",
       "                                              RandomForestClassifier())]),\n",
       "                   n_jobs=-1,\n",
       "                   param_distributions={'algo__max_depth': [None, 3, 5],\n",
       "                                        'algo__max_features': [None, 'auto'],\n",
       "                                        'algo__min_samples_leaf': [1, 3, 5, 7],\n",
       "                                        'algo__n_estimators': range(100, 200, 50)},\n",
       "                   verbose=1)"
      ]
     },
     "execution_count": 118,
     "metadata": {},
     "output_type": "execute_result"
    }
   ],
   "source": [
    "RF_rs.fit(X_train, y_train)"
   ]
  },
  {
   "cell_type": "code",
   "execution_count": 119,
   "metadata": {},
   "outputs": [
    {
     "data": {
      "text/plain": [
       "{'algo__n_estimators': 150,\n",
       " 'algo__min_samples_leaf': 7,\n",
       " 'algo__max_features': None,\n",
       " 'algo__max_depth': None}"
      ]
     },
     "execution_count": 119,
     "metadata": {},
     "output_type": "execute_result"
    }
   ],
   "source": [
    "# find best params from hyperparameter tuning\n",
    "RF_rs.best_params_"
   ]
  },
  {
   "cell_type": "code",
   "execution_count": 124,
   "metadata": {},
   "outputs": [],
   "source": [
    "# model with best parameter from tuning\n",
    "model_RF = RandomForestClassifier(n_estimators=150, min_samples_leaf=7, max_features=None, max_depth=None)"
   ]
  },
  {
   "cell_type": "code",
   "execution_count": 121,
   "metadata": {},
   "outputs": [
    {
     "data": {
      "text/plain": [
       "RandomForestClassifier(max_features=None, min_samples_leaf=7, n_estimators=150)"
      ]
     },
     "execution_count": 121,
     "metadata": {},
     "output_type": "execute_result"
    }
   ],
   "source": [
    "model_RF.fit(X_train, y_train)"
   ]
  },
  {
   "cell_type": "code",
   "execution_count": 122,
   "metadata": {},
   "outputs": [],
   "source": [
    "y_predRF = model_RF.predict(X_test)"
   ]
  },
  {
   "cell_type": "code",
   "execution_count": 123,
   "metadata": {},
   "outputs": [
    {
     "data": {
      "text/plain": [
       "1.0"
      ]
     },
     "execution_count": 123,
     "metadata": {},
     "output_type": "execute_result"
    }
   ],
   "source": [
    "model_RF.score(X_test, y_test)"
   ]
  },
  {
   "cell_type": "code",
   "execution_count": 127,
   "metadata": {},
   "outputs": [
    {
     "name": "stdout",
     "output_type": "stream",
     "text": [
      "              precision    recall  f1-score   support\n",
      "\n",
      "           0       1.00      1.00      1.00    114210\n",
      "           1       1.00      1.00      1.00     48643\n",
      "\n",
      "    accuracy                           1.00    162853\n",
      "   macro avg       1.00      1.00      1.00    162853\n",
      "weighted avg       1.00      1.00      1.00    162853\n",
      "\n"
     ]
    }
   ],
   "source": [
    "print(classification_report(y_test, y_predRF))"
   ]
  },
  {
   "cell_type": "code",
   "execution_count": 130,
   "metadata": {},
   "outputs": [
    {
     "data": {
      "image/png": "[encoded data removed]",
      "text/plain": [
       "<Figure size 432x288 with 2 Axes>"
      ]
     },
     "metadata": {
      "needs_background": "light"
     },
     "output_type": "display_data"
    }
   ],
   "source": [
    "cm = confusion_matrix(y_test, y_predRF, labels=[1, 0])\n",
    "df = pd.DataFrame(cm, columns=['Pred 1', 'Pred 0'], index=['Act 1', 'Act 0'])\n",
    "sns.heatmap(df, annot=True);"
   ]
  },
  {
   "cell_type": "code",
   "execution_count": 133,
   "metadata": {},
   "outputs": [
    {
     "data": {
      "image/png": "[encoded data removed]",
      "text/plain": [
       "<Figure size 432x288 with 1 Axes>"
      ]
     },
     "metadata": {
      "needs_background": "light"
     },
     "output_type": "display_data"
    }
   ],
   "source": [
    "# calculate roc curves\n",
    "fpr1, tpr1, _ = roc_curve(y_test, test_labels_RF)\n",
    "sc1 = round(auc(fpr1, tpr1),2)\n",
    "# plot the roc curve for the model\n",
    "plt.plot(fpr1, tpr1, linestyle='--', label=f'AUC model={sc1}')\n",
    "plt.plot([0,1], [0,1], 'r-.')\n",
    "# axis labels\n",
    "plt.xlabel('False Positive Rate')\n",
    "plt.ylabel('True Positive Rate')\n",
    "# show the legend\n",
    "plt.title('ROC Curve Random Forest')\n",
    "plt.legend();"
   ]
  },
  {
   "cell_type": "markdown",
   "metadata": {},
   "source": [
    "======================================================================"
   ]
  },
  {
   "cell_type": "markdown",
   "metadata": {},
   "source": [
    "### 3. RandomForest without Data Imbalanced Handling"
   ]
  },
  {
   "cell_type": "code",
   "execution_count": 195,
   "metadata": {},
   "outputs": [],
   "source": [
    "data = pd.read_csv('data_with_target.csv', index_col=0)"
   ]
  },
  {
   "cell_type": "code",
   "execution_count": 196,
   "metadata": {},
   "outputs": [
    {
     "data": {
      "text/html": [
       "<div>\n",
       "<style scoped>\n",
       "    .dataframe tbody tr th:only-of-type {\n",
       "        vertical-align: middle;\n",
       "    }\n",
       "\n",
       "    .dataframe tbody tr th {\n",
       "        vertical-align: top;\n",
       "    }\n",
       "\n",
       "    .dataframe thead th {\n",
       "        text-align: right;\n",
       "    }\n",
       "</style>\n",
       "<table border=\"1\" class=\"dataframe\">\n",
       "  <thead>\n",
       "    <tr style=\"text-align: right;\">\n",
       "      <th></th>\n",
       "      <th>x_entry</th>\n",
       "      <th>y_entry</th>\n",
       "      <th>x_exit</th>\n",
       "      <th>y_exit</th>\n",
       "      <th>entry_hour</th>\n",
       "      <th>exit_hour</th>\n",
       "      <th>duration_s</th>\n",
       "      <th>target</th>\n",
       "    </tr>\n",
       "    <tr>\n",
       "      <th>trajectory_id</th>\n",
       "      <th></th>\n",
       "      <th></th>\n",
       "      <th></th>\n",
       "      <th></th>\n",
       "      <th></th>\n",
       "      <th></th>\n",
       "      <th></th>\n",
       "      <th></th>\n",
       "    </tr>\n",
       "  </thead>\n",
       "  <tbody>\n",
       "    <tr>\n",
       "      <th>traj_0000a8602cf2def930488dee7cdad104_1_0</th>\n",
       "      <td>3.751014e+06</td>\n",
       "      <td>-1.909398e+07</td>\n",
       "      <td>3.750326e+06</td>\n",
       "      <td>-1.913634e+07</td>\n",
       "      <td>7</td>\n",
       "      <td>7</td>\n",
       "      <td>241.0</td>\n",
       "      <td>0</td>\n",
       "    </tr>\n",
       "    <tr>\n",
       "      <th>traj_0000a8602cf2def930488dee7cdad104_1_1</th>\n",
       "      <td>3.743937e+06</td>\n",
       "      <td>-1.932247e+07</td>\n",
       "      <td>3.744975e+06</td>\n",
       "      <td>-1.931966e+07</td>\n",
       "      <td>7</td>\n",
       "      <td>7</td>\n",
       "      <td>308.0</td>\n",
       "      <td>0</td>\n",
       "    </tr>\n",
       "    <tr>\n",
       "      <th>traj_0000a8602cf2def930488dee7cdad104_1_2</th>\n",
       "      <td>3.744868e+06</td>\n",
       "      <td>-1.929356e+07</td>\n",
       "      <td>3.744816e+06</td>\n",
       "      <td>-1.929284e+07</td>\n",
       "      <td>7</td>\n",
       "      <td>8</td>\n",
       "      <td>593.0</td>\n",
       "      <td>0</td>\n",
       "    </tr>\n",
       "    <tr>\n",
       "      <th>traj_0000a8602cf2def930488dee7cdad104_1_3</th>\n",
       "      <td>3.744880e+06</td>\n",
       "      <td>-1.929229e+07</td>\n",
       "      <td>3.744809e+06</td>\n",
       "      <td>-1.929049e+07</td>\n",
       "      <td>8</td>\n",
       "      <td>8</td>\n",
       "      <td>1173.0</td>\n",
       "      <td>0</td>\n",
       "    </tr>\n",
       "    <tr>\n",
       "      <th>traj_0000a8602cf2def930488dee7cdad104_1_4</th>\n",
       "      <td>3.744909e+06</td>\n",
       "      <td>-1.928558e+07</td>\n",
       "      <td>3.744909e+06</td>\n",
       "      <td>-1.928558e+07</td>\n",
       "      <td>14</td>\n",
       "      <td>14</td>\n",
       "      <td>0.0</td>\n",
       "      <td>0</td>\n",
       "    </tr>\n",
       "  </tbody>\n",
       "</table>\n",
       "</div>"
      ],
      "text/plain": [
       "                                                x_entry       y_entry  \\\n",
       "trajectory_id                                                           \n",
       "traj_0000a8602cf2def930488dee7cdad104_1_0  3.751014e+06 -1.909398e+07   \n",
       "traj_0000a8602cf2def930488dee7cdad104_1_1  3.743937e+06 -1.932247e+07   \n",
       "traj_0000a8602cf2def930488dee7cdad104_1_2  3.744868e+06 -1.929356e+07   \n",
       "traj_0000a8602cf2def930488dee7cdad104_1_3  3.744880e+06 -1.929229e+07   \n",
       "traj_0000a8602cf2def930488dee7cdad104_1_4  3.744909e+06 -1.928558e+07   \n",
       "\n",
       "                                                 x_exit        y_exit  \\\n",
       "trajectory_id                                                           \n",
       "traj_0000a8602cf2def930488dee7cdad104_1_0  3.750326e+06 -1.913634e+07   \n",
       "traj_0000a8602cf2def930488dee7cdad104_1_1  3.744975e+06 -1.931966e+07   \n",
       "traj_0000a8602cf2def930488dee7cdad104_1_2  3.744816e+06 -1.929284e+07   \n",
       "traj_0000a8602cf2def930488dee7cdad104_1_3  3.744809e+06 -1.929049e+07   \n",
       "traj_0000a8602cf2def930488dee7cdad104_1_4  3.744909e+06 -1.928558e+07   \n",
       "\n",
       "                                           entry_hour  exit_hour  duration_s  \\\n",
       "trajectory_id                                                                  \n",
       "traj_0000a8602cf2def930488dee7cdad104_1_0           7          7       241.0   \n",
       "traj_0000a8602cf2def930488dee7cdad104_1_1           7          7       308.0   \n",
       "traj_0000a8602cf2def930488dee7cdad104_1_2           7          8       593.0   \n",
       "traj_0000a8602cf2def930488dee7cdad104_1_3           8          8      1173.0   \n",
       "traj_0000a8602cf2def930488dee7cdad104_1_4          14         14         0.0   \n",
       "\n",
       "                                           target  \n",
       "trajectory_id                                      \n",
       "traj_0000a8602cf2def930488dee7cdad104_1_0       0  \n",
       "traj_0000a8602cf2def930488dee7cdad104_1_1       0  \n",
       "traj_0000a8602cf2def930488dee7cdad104_1_2       0  \n",
       "traj_0000a8602cf2def930488dee7cdad104_1_3       0  \n",
       "traj_0000a8602cf2def930488dee7cdad104_1_4       0  "
      ]
     },
     "execution_count": 196,
     "metadata": {},
     "output_type": "execute_result"
    }
   ],
   "source": [
    "data.head()"
   ]
  },
  {
   "cell_type": "code",
   "execution_count": 197,
   "metadata": {},
   "outputs": [
    {
     "name": "stdout",
     "output_type": "stream",
     "text": [
      "<class 'pandas.core.frame.DataFrame'>\n",
      "Index: 814262 entries, traj_0000a8602cf2def930488dee7cdad104_1_0 to traj_ffffc6359725f0e1feac9ef1872ab207_11_10\n",
      "Data columns (total 8 columns):\n",
      " #   Column      Non-Null Count   Dtype  \n",
      "---  ------      --------------   -----  \n",
      " 0   x_entry     814262 non-null  float64\n",
      " 1   y_entry     814262 non-null  float64\n",
      " 2   x_exit      814262 non-null  float64\n",
      " 3   y_exit      814262 non-null  float64\n",
      " 4   entry_hour  814262 non-null  int64  \n",
      " 5   exit_hour   814262 non-null  int64  \n",
      " 6   duration_s  814262 non-null  float64\n",
      " 7   target      814262 non-null  int64  \n",
      "dtypes: float64(5), int64(3)\n",
      "memory usage: 55.9+ MB\n"
     ]
    }
   ],
   "source": [
    "data.info()"
   ]
  },
  {
   "cell_type": "markdown",
   "metadata": {},
   "source": [
    "#### ** Train Test Split **"
   ]
  },
  {
   "cell_type": "code",
   "execution_count": 198,
   "metadata": {},
   "outputs": [],
   "source": [
    "from sklearn.model_selection import train_test_split"
   ]
  },
  {
   "cell_type": "code",
   "execution_count": 199,
   "metadata": {},
   "outputs": [],
   "source": [
    "X = data.drop(columns='target')\n",
    "y = data['target']"
   ]
  },
  {
   "cell_type": "code",
   "execution_count": 200,
   "metadata": {},
   "outputs": [],
   "source": [
    "X_train, X_test, y_train, y_test = train_test_split(X, y, stratify=y, test_size=0.2, random_state=42)"
   ]
  },
  {
   "cell_type": "code",
   "execution_count": 201,
   "metadata": {},
   "outputs": [],
   "source": [
    "mod_RF = Pipeline([\n",
    "    ('algo', RandomForestClassifier())\n",
    "])"
   ]
  },
  {
   "cell_type": "code",
   "execution_count": 202,
   "metadata": {},
   "outputs": [
    {
     "data": {
      "text/plain": [
       "{'memory': None,\n",
       " 'steps': [('algo', RandomForestClassifier())],\n",
       " 'verbose': False,\n",
       " 'algo': RandomForestClassifier(),\n",
       " 'algo__bootstrap': True,\n",
       " 'algo__ccp_alpha': 0.0,\n",
       " 'algo__class_weight': None,\n",
       " 'algo__criterion': 'gini',\n",
       " 'algo__max_depth': None,\n",
       " 'algo__max_features': 'auto',\n",
       " 'algo__max_leaf_nodes': None,\n",
       " 'algo__max_samples': None,\n",
       " 'algo__min_impurity_decrease': 0.0,\n",
       " 'algo__min_impurity_split': None,\n",
       " 'algo__min_samples_leaf': 1,\n",
       " 'algo__min_samples_split': 2,\n",
       " 'algo__min_weight_fraction_leaf': 0.0,\n",
       " 'algo__n_estimators': 100,\n",
       " 'algo__n_jobs': None,\n",
       " 'algo__oob_score': False,\n",
       " 'algo__random_state': None,\n",
       " 'algo__verbose': 0,\n",
       " 'algo__warm_start': False}"
      ]
     },
     "execution_count": 202,
     "metadata": {},
     "output_type": "execute_result"
    }
   ],
   "source": [
    "mod_RF.get_params()"
   ]
  },
  {
   "cell_type": "code",
   "execution_count": 203,
   "metadata": {},
   "outputs": [],
   "source": [
    "params = {\n",
    "    'algo__n_estimators': range(100, 200, 50),\n",
    "    'algo__max_depth': [None, 3, 5],\n",
    "    'algo__min_samples_leaf': [1, 3, 5, 7],\n",
    "    'algo__max_features': [None, 'auto']\n",
    "}"
   ]
  },
  {
   "cell_type": "code",
   "execution_count": 204,
   "metadata": {},
   "outputs": [],
   "source": [
    "RF_gs = GridSearchCV(mod_RF, params, cv=5, n_jobs=-1, verbose=1)"
   ]
  },
  {
   "cell_type": "code",
   "execution_count": 205,
   "metadata": {},
   "outputs": [
    {
     "name": "stdout",
     "output_type": "stream",
     "text": [
      "Fitting 5 folds for each of 48 candidates, totalling 240 fits\n"
     ]
    },
    {
     "name": "stderr",
     "output_type": "stream",
     "text": [
      "[Parallel(n_jobs=-1)]: Using backend LokyBackend with 12 concurrent workers.\n",
      "[Parallel(n_jobs=-1)]: Done  26 tasks      | elapsed:  7.1min\n",
      "[Parallel(n_jobs=-1)]: Done 176 tasks      | elapsed: 34.2min\n",
      "[Parallel(n_jobs=-1)]: Done 240 out of 240 | elapsed: 44.0min finished\n"
     ]
    },
    {
     "data": {
      "text/plain": [
       "GridSearchCV(cv=5,\n",
       "             estimator=Pipeline(steps=[('algo', RandomForestClassifier())]),\n",
       "             n_jobs=-1,\n",
       "             param_grid={'algo__max_depth': [None, 3, 5],\n",
       "                         'algo__max_features': [None, 'auto'],\n",
       "                         'algo__min_samples_leaf': [1, 3, 5, 7],\n",
       "                         'algo__n_estimators': range(100, 200, 50)},\n",
       "             verbose=1)"
      ]
     },
     "execution_count": 205,
     "metadata": {},
     "output_type": "execute_result"
    }
   ],
   "source": [
    "RF_gs.fit(X_train, y_train)"
   ]
  },
  {
   "cell_type": "code",
   "execution_count": 207,
   "metadata": {},
   "outputs": [
    {
     "data": {
      "text/plain": [
       "{'algo__max_depth': None,\n",
       " 'algo__max_features': None,\n",
       " 'algo__min_samples_leaf': 1,\n",
       " 'algo__n_estimators': 100}"
      ]
     },
     "execution_count": 207,
     "metadata": {},
     "output_type": "execute_result"
    }
   ],
   "source": [
    "# find best params from hyperparameter tuning\n",
    "RF_gs.best_params_"
   ]
  },
  {
   "cell_type": "code",
   "execution_count": 208,
   "metadata": {},
   "outputs": [],
   "source": [
    "model_RF = RandomForestClassifier(n_estimators=100, min_samples_leaf=1, max_features=None, max_depth=None)"
   ]
  },
  {
   "cell_type": "code",
   "execution_count": 209,
   "metadata": {},
   "outputs": [
    {
     "data": {
      "text/plain": [
       "RandomForestClassifier(max_features=None)"
      ]
     },
     "execution_count": 209,
     "metadata": {},
     "output_type": "execute_result"
    }
   ],
   "source": [
    "model_RF.fit(X_train, y_train)"
   ]
  },
  {
   "cell_type": "code",
   "execution_count": 210,
   "metadata": {},
   "outputs": [],
   "source": [
    "y_predRF = model_RF.predict(X_test)"
   ]
  },
  {
   "cell_type": "code",
   "execution_count": 211,
   "metadata": {},
   "outputs": [
    {
     "data": {
      "text/plain": [
       "1.0"
      ]
     },
     "execution_count": 211,
     "metadata": {},
     "output_type": "execute_result"
    }
   ],
   "source": [
    "model_RF.score(X_test, y_test)"
   ]
  },
  {
   "cell_type": "code",
   "execution_count": 212,
   "metadata": {},
   "outputs": [
    {
     "data": {
      "text/html": [
       "<div>\n",
       "<style scoped>\n",
       "    .dataframe tbody tr th:only-of-type {\n",
       "        vertical-align: middle;\n",
       "    }\n",
       "\n",
       "    .dataframe tbody tr th {\n",
       "        vertical-align: top;\n",
       "    }\n",
       "\n",
       "    .dataframe thead th {\n",
       "        text-align: right;\n",
       "    }\n",
       "</style>\n",
       "<table border=\"1\" class=\"dataframe\">\n",
       "  <thead>\n",
       "    <tr style=\"text-align: right;\">\n",
       "      <th></th>\n",
       "      <th>Score Best Parameters from RandomForest Algorithm(%)</th>\n",
       "    </tr>\n",
       "  </thead>\n",
       "  <tbody>\n",
       "    <tr>\n",
       "      <th>accuracy</th>\n",
       "      <td>100.0</td>\n",
       "    </tr>\n",
       "    <tr>\n",
       "      <th>recall</th>\n",
       "      <td>100.0</td>\n",
       "    </tr>\n",
       "    <tr>\n",
       "      <th>precision</th>\n",
       "      <td>100.0</td>\n",
       "    </tr>\n",
       "    <tr>\n",
       "      <th>roc_auc_score</th>\n",
       "      <td>100.0</td>\n",
       "    </tr>\n",
       "    <tr>\n",
       "      <th>f1_score</th>\n",
       "      <td>100.0</td>\n",
       "    </tr>\n",
       "  </tbody>\n",
       "</table>\n",
       "</div>"
      ],
      "text/plain": [
       "               Score Best Parameters from RandomForest Algorithm(%)\n",
       "accuracy                                                   100.0   \n",
       "recall                                                     100.0   \n",
       "precision                                                  100.0   \n",
       "roc_auc_score                                              100.0   \n",
       "f1_score                                                   100.0   "
      ]
     },
     "execution_count": 212,
     "metadata": {},
     "output_type": "execute_result"
    }
   ],
   "source": [
    "y_pred_1 = model_RF.predict(X_test)\n",
    "test_labels_RF = model_RF.predict_proba(X_test)[:,1]\n",
    "\n",
    "model_1_metrics = pd.DataFrame(data = \n",
    "             [accuracy_score(y_test, y_pred_1) * 100, \n",
    "              recall_score(y_test, y_pred_1) * 100,\n",
    "              precision_score(y_test, y_pred_1) * 100, \n",
    "              roc_auc_score(y_test, test_labels_RF) * 100,\n",
    "              f1_score(y_test, y_pred_1) * 100],\n",
    "            index = ['accuracy', 'recall', 'precision', 'roc_auc_score', 'f1_score'],\n",
    "            columns = ['Score Best Parameters from RandomForest Algorithm(%)'])\n",
    "model_1_metrics"
   ]
  },
  {
   "cell_type": "code",
   "execution_count": 213,
   "metadata": {},
   "outputs": [
    {
     "name": "stdout",
     "output_type": "stream",
     "text": [
      "              precision    recall  f1-score   support\n",
      "\n",
      "           0       1.00      1.00      1.00    114210\n",
      "           1       1.00      1.00      1.00     48643\n",
      "\n",
      "    accuracy                           1.00    162853\n",
      "   macro avg       1.00      1.00      1.00    162853\n",
      "weighted avg       1.00      1.00      1.00    162853\n",
      "\n"
     ]
    }
   ],
   "source": [
    "print(classification_report(y_test, y_pred_1))"
   ]
  },
  {
   "cell_type": "code",
   "execution_count": 214,
   "metadata": {},
   "outputs": [
    {
     "data": {
      "image/png": "[encoded data removed]",
      "text/plain": [
       "<Figure size 432x288 with 2 Axes>"
      ]
     },
     "metadata": {
      "needs_background": "light"
     },
     "output_type": "display_data"
    }
   ],
   "source": [
    "cm = confusion_matrix(y_test, y_pred_1, labels=[1, 0])\n",
    "df = pd.DataFrame(cm, columns=['Pred 1', 'Pred 0'], index=['Act 1', 'Act 0'])\n",
    "sns.heatmap(df, annot=True);"
   ]
  },
  {
   "cell_type": "code",
   "execution_count": 215,
   "metadata": {},
   "outputs": [
    {
     "data": {
      "image/png": "[encoded data removed]",
      "text/plain": [
       "<Figure size 432x288 with 1 Axes>"
      ]
     },
     "metadata": {
      "needs_background": "light"
     },
     "output_type": "display_data"
    }
   ],
   "source": [
    "# calculate roc curves\n",
    "fpr1, tpr1, _ = roc_curve(y_test, test_labels_RF)\n",
    "sc1 = round(auc(fpr1, tpr1),2)\n",
    "# plot the roc curve for the model\n",
    "plt.plot(fpr1, tpr1, linestyle='--', label=f'AUC model={sc1}')\n",
    "plt.plot([0,1], [0,1], 'r-.')\n",
    "# axis labels\n",
    "plt.xlabel('False Positive Rate')\n",
    "plt.ylabel('True Positive Rate')\n",
    "# show the legend\n",
    "plt.title('ROC Curve Random Forest')\n",
    "plt.legend();"
   ]
  },
  {
   "cell_type": "markdown",
   "metadata": {},
   "source": [
    "RandomForest without handling imbalanced data shows same result as one with handling imbalanced data, therefore model that is chosen for predict whether the exit point of device is inside or outside the city center is the last model (RandomForest without imbalanced data handled)"
   ]
  },
  {
   "cell_type": "markdown",
   "metadata": {},
   "source": [
    "=============================================================================================="
   ]
  },
  {
   "cell_type": "markdown",
   "metadata": {},
   "source": [
    "## Export Model"
   ]
  },
  {
   "cell_type": "code",
   "execution_count": 80,
   "metadata": {},
   "outputs": [],
   "source": [
    "import joblib"
   ]
  },
  {
   "cell_type": "code",
   "execution_count": 216,
   "metadata": {},
   "outputs": [
    {
     "data": {
      "text/plain": [
       "['prediction']"
      ]
     },
     "execution_count": 216,
     "metadata": {},
     "output_type": "execute_result"
    }
   ],
   "source": [
    "# joblib.dump(model_RF, 'prediction')"
   ]
  },
  {
   "cell_type": "code",
   "execution_count": null,
   "metadata": {},
   "outputs": [],
   "source": []
  }
 ],
 "metadata": {
  "kernelspec": {
   "display_name": "Python 3",
   "language": "python",
   "name": "python3"
  },
  "language_info": {
   "codemirror_mode": {
    "name": "ipython",
    "version": 3
   },
   "file_extension": ".py",
   "mimetype": "text/x-python",
   "name": "python",
   "nbconvert_exporter": "python",
   "pygments_lexer": "ipython3",
   "version": "3.8.3"
  }
 },
 "nbformat": 4,
 "nbformat_minor": 4
}
