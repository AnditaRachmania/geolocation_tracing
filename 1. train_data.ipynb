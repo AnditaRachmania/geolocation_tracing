{
 "cells": [
  {
   "cell_type": "code",
   "execution_count": 1,
   "metadata": {},
   "outputs": [],
   "source": [
    "import pandas as pd\n",
    "import numpy as np\n",
    "import matplotlib.pyplot as plt\n",
    "import seaborn as sns\n",
    "%matplotlib inline"
   ]
  },
  {
   "cell_type": "markdown",
   "metadata": {},
   "source": [
    "# ** DATA PREPROCESSING **"
   ]
  },
  {
   "cell_type": "code",
   "execution_count": 2,
   "metadata": {},
   "outputs": [],
   "source": [
    "raw = pd.read_csv('data_train.csv', index_col=0)"
   ]
  },
  {
   "cell_type": "code",
   "execution_count": 3,
   "metadata": {},
   "outputs": [
    {
     "data": {
      "text/html": [
       "<div>\n",
       "<style scoped>\n",
       "    .dataframe tbody tr th:only-of-type {\n",
       "        vertical-align: middle;\n",
       "    }\n",
       "\n",
       "    .dataframe tbody tr th {\n",
       "        vertical-align: top;\n",
       "    }\n",
       "\n",
       "    .dataframe thead th {\n",
       "        text-align: right;\n",
       "    }\n",
       "</style>\n",
       "<table border=\"1\" class=\"dataframe\">\n",
       "  <thead>\n",
       "    <tr style=\"text-align: right;\">\n",
       "      <th></th>\n",
       "      <th>hash</th>\n",
       "      <th>trajectory_id</th>\n",
       "      <th>time_entry</th>\n",
       "      <th>time_exit</th>\n",
       "      <th>vmax</th>\n",
       "      <th>vmin</th>\n",
       "      <th>vmean</th>\n",
       "      <th>x_entry</th>\n",
       "      <th>y_entry</th>\n",
       "      <th>x_exit</th>\n",
       "      <th>y_exit</th>\n",
       "    </tr>\n",
       "  </thead>\n",
       "  <tbody>\n",
       "    <tr>\n",
       "      <th>0</th>\n",
       "      <td>0000a8602cf2def930488dee7cdad104_1</td>\n",
       "      <td>traj_0000a8602cf2def930488dee7cdad104_1_0</td>\n",
       "      <td>07:04:31</td>\n",
       "      <td>07:08:32</td>\n",
       "      <td>NaN</td>\n",
       "      <td>NaN</td>\n",
       "      <td>NaN</td>\n",
       "      <td>3.751014e+06</td>\n",
       "      <td>-1.909398e+07</td>\n",
       "      <td>3.750326e+06</td>\n",
       "      <td>-1.913634e+07</td>\n",
       "    </tr>\n",
       "    <tr>\n",
       "      <th>1</th>\n",
       "      <td>0000a8602cf2def930488dee7cdad104_1</td>\n",
       "      <td>traj_0000a8602cf2def930488dee7cdad104_1_1</td>\n",
       "      <td>07:20:34</td>\n",
       "      <td>07:25:42</td>\n",
       "      <td>NaN</td>\n",
       "      <td>NaN</td>\n",
       "      <td>NaN</td>\n",
       "      <td>3.743937e+06</td>\n",
       "      <td>-1.932247e+07</td>\n",
       "      <td>3.744975e+06</td>\n",
       "      <td>-1.931966e+07</td>\n",
       "    </tr>\n",
       "    <tr>\n",
       "      <th>2</th>\n",
       "      <td>0000a8602cf2def930488dee7cdad104_1</td>\n",
       "      <td>traj_0000a8602cf2def930488dee7cdad104_1_2</td>\n",
       "      <td>07:53:32</td>\n",
       "      <td>08:03:25</td>\n",
       "      <td>NaN</td>\n",
       "      <td>NaN</td>\n",
       "      <td>NaN</td>\n",
       "      <td>3.744868e+06</td>\n",
       "      <td>-1.929356e+07</td>\n",
       "      <td>3.744816e+06</td>\n",
       "      <td>-1.929284e+07</td>\n",
       "    </tr>\n",
       "    <tr>\n",
       "      <th>3</th>\n",
       "      <td>0000a8602cf2def930488dee7cdad104_1</td>\n",
       "      <td>traj_0000a8602cf2def930488dee7cdad104_1_3</td>\n",
       "      <td>08:17:50</td>\n",
       "      <td>08:37:23</td>\n",
       "      <td>NaN</td>\n",
       "      <td>NaN</td>\n",
       "      <td>NaN</td>\n",
       "      <td>3.744880e+06</td>\n",
       "      <td>-1.929229e+07</td>\n",
       "      <td>3.744809e+06</td>\n",
       "      <td>-1.929049e+07</td>\n",
       "    </tr>\n",
       "    <tr>\n",
       "      <th>4</th>\n",
       "      <td>0000a8602cf2def930488dee7cdad104_1</td>\n",
       "      <td>traj_0000a8602cf2def930488dee7cdad104_1_4</td>\n",
       "      <td>14:38:09</td>\n",
       "      <td>14:38:09</td>\n",
       "      <td>NaN</td>\n",
       "      <td>NaN</td>\n",
       "      <td>NaN</td>\n",
       "      <td>3.744909e+06</td>\n",
       "      <td>-1.928558e+07</td>\n",
       "      <td>3.744909e+06</td>\n",
       "      <td>-1.928558e+07</td>\n",
       "    </tr>\n",
       "  </tbody>\n",
       "</table>\n",
       "</div>"
      ],
      "text/plain": [
       "                                 hash  \\\n",
       "0  0000a8602cf2def930488dee7cdad104_1   \n",
       "1  0000a8602cf2def930488dee7cdad104_1   \n",
       "2  0000a8602cf2def930488dee7cdad104_1   \n",
       "3  0000a8602cf2def930488dee7cdad104_1   \n",
       "4  0000a8602cf2def930488dee7cdad104_1   \n",
       "\n",
       "                               trajectory_id time_entry time_exit  vmax  vmin  \\\n",
       "0  traj_0000a8602cf2def930488dee7cdad104_1_0   07:04:31  07:08:32   NaN   NaN   \n",
       "1  traj_0000a8602cf2def930488dee7cdad104_1_1   07:20:34  07:25:42   NaN   NaN   \n",
       "2  traj_0000a8602cf2def930488dee7cdad104_1_2   07:53:32  08:03:25   NaN   NaN   \n",
       "3  traj_0000a8602cf2def930488dee7cdad104_1_3   08:17:50  08:37:23   NaN   NaN   \n",
       "4  traj_0000a8602cf2def930488dee7cdad104_1_4   14:38:09  14:38:09   NaN   NaN   \n",
       "\n",
       "   vmean       x_entry       y_entry        x_exit        y_exit  \n",
       "0    NaN  3.751014e+06 -1.909398e+07  3.750326e+06 -1.913634e+07  \n",
       "1    NaN  3.743937e+06 -1.932247e+07  3.744975e+06 -1.931966e+07  \n",
       "2    NaN  3.744868e+06 -1.929356e+07  3.744816e+06 -1.929284e+07  \n",
       "3    NaN  3.744880e+06 -1.929229e+07  3.744809e+06 -1.929049e+07  \n",
       "4    NaN  3.744909e+06 -1.928558e+07  3.744909e+06 -1.928558e+07  "
      ]
     },
     "execution_count": 3,
     "metadata": {},
     "output_type": "execute_result"
    }
   ],
   "source": [
    "raw.head()"
   ]
  },
  {
   "cell_type": "markdown",
   "metadata": {},
   "source": [
    "## Variables Description\n",
    "\n",
    "|Variables|Type|Description|\n",
    "|:--|:--|:--|\n",
    "|hash|String|Represents the unique identifier of a device|\n",
    "|trajectory_id|String|Represents the unique identifier of a trajectory associated to a device|\n",
    "|time_entry|Date|Indicates the local time for the starting point of the trajectory (HH:mm:ss)|\n",
    "|time_exit|Date|Indicates the local time for the ending point of the trajectory (HH:mm:ss)|\n",
    "|vmax|Integer|Represents the maximum velocity registered in the course of a trajectory|\n",
    "|vmin|Integer|Represents the minimum velocity registered in the course of a trajectory|\n",
    "|vmean|Integer|Represents the average velocity registered in the course of a trajectory|\n",
    "|x_entry|Double|Entry x coordinate (cartessian projected position)|\n",
    "|y_entry|Double|Entry y coordinate (cartessian projected position)|\n",
    "|x_exit|Double|Exit x coordinate (cartessian projected position)|\n",
    "|y_entry|Double|Exit y coordinate (cartessian projected position)|"
   ]
  },
  {
   "cell_type": "code",
   "execution_count": 4,
   "metadata": {},
   "outputs": [
    {
     "name": "stdout",
     "output_type": "stream",
     "text": [
      "<class 'pandas.core.frame.DataFrame'>\n",
      "Int64Index: 814262 entries, 0 to 814261\n",
      "Data columns (total 11 columns):\n",
      " #   Column         Non-Null Count   Dtype  \n",
      "---  ------         --------------   -----  \n",
      " 0   hash           814262 non-null  object \n",
      " 1   trajectory_id  814262 non-null  object \n",
      " 2   time_entry     814262 non-null  object \n",
      " 3   time_exit      814262 non-null  object \n",
      " 4   vmax           256769 non-null  float64\n",
      " 5   vmin           256769 non-null  float64\n",
      " 6   vmean          270778 non-null  float64\n",
      " 7   x_entry        814262 non-null  float64\n",
      " 8   y_entry        814262 non-null  float64\n",
      " 9   x_exit         814262 non-null  float64\n",
      " 10  y_exit         814262 non-null  float64\n",
      "dtypes: float64(7), object(4)\n",
      "memory usage: 74.5+ MB\n"
     ]
    }
   ],
   "source": [
    "raw.info()"
   ]
  },
  {
   "cell_type": "code",
   "execution_count": 5,
   "metadata": {},
   "outputs": [
    {
     "data": {
      "text/html": [
       "<div>\n",
       "<style scoped>\n",
       "    .dataframe tbody tr th:only-of-type {\n",
       "        vertical-align: middle;\n",
       "    }\n",
       "\n",
       "    .dataframe tbody tr th {\n",
       "        vertical-align: top;\n",
       "    }\n",
       "\n",
       "    .dataframe thead th {\n",
       "        text-align: right;\n",
       "    }\n",
       "</style>\n",
       "<table border=\"1\" class=\"dataframe\">\n",
       "  <thead>\n",
       "    <tr style=\"text-align: right;\">\n",
       "      <th></th>\n",
       "      <th>count</th>\n",
       "      <th>mean</th>\n",
       "      <th>std</th>\n",
       "      <th>min</th>\n",
       "      <th>25%</th>\n",
       "      <th>50%</th>\n",
       "      <th>75%</th>\n",
       "      <th>max</th>\n",
       "    </tr>\n",
       "  </thead>\n",
       "  <tbody>\n",
       "    <tr>\n",
       "      <th>vmax</th>\n",
       "      <td>256769.0</td>\n",
       "      <td>2.680249e+00</td>\n",
       "      <td>7.591053</td>\n",
       "      <td>-1.000000e+00</td>\n",
       "      <td>0.000000e+00</td>\n",
       "      <td>0.000000e+00</td>\n",
       "      <td>5.000000e-01</td>\n",
       "      <td>1.620000e+02</td>\n",
       "    </tr>\n",
       "    <tr>\n",
       "      <th>vmin</th>\n",
       "      <td>256769.0</td>\n",
       "      <td>2.279469e+00</td>\n",
       "      <td>7.118452</td>\n",
       "      <td>-1.000000e+00</td>\n",
       "      <td>-1.000000e+00</td>\n",
       "      <td>0.000000e+00</td>\n",
       "      <td>2.200000e-01</td>\n",
       "      <td>1.620000e+02</td>\n",
       "    </tr>\n",
       "    <tr>\n",
       "      <th>vmean</th>\n",
       "      <td>270778.0</td>\n",
       "      <td>2.454799e+00</td>\n",
       "      <td>7.160578</td>\n",
       "      <td>-1.000000e+00</td>\n",
       "      <td>0.000000e+00</td>\n",
       "      <td>0.000000e+00</td>\n",
       "      <td>4.400000e-01</td>\n",
       "      <td>1.620000e+02</td>\n",
       "    </tr>\n",
       "    <tr>\n",
       "      <th>x_entry</th>\n",
       "      <td>814262.0</td>\n",
       "      <td>3.760411e+06</td>\n",
       "      <td>8974.393381</td>\n",
       "      <td>3.741027e+06</td>\n",
       "      <td>3.755174e+06</td>\n",
       "      <td>3.760071e+06</td>\n",
       "      <td>3.767509e+06</td>\n",
       "      <td>3.777099e+06</td>\n",
       "    </tr>\n",
       "    <tr>\n",
       "      <th>y_entry</th>\n",
       "      <td>814262.0</td>\n",
       "      <td>-1.922153e+07</td>\n",
       "      <td>76322.341694</td>\n",
       "      <td>-1.938291e+07</td>\n",
       "      <td>-1.927454e+07</td>\n",
       "      <td>-1.923020e+07</td>\n",
       "      <td>-1.916999e+07</td>\n",
       "      <td>-1.904266e+07</td>\n",
       "    </tr>\n",
       "    <tr>\n",
       "      <th>x_exit</th>\n",
       "      <td>814262.0</td>\n",
       "      <td>3.760426e+06</td>\n",
       "      <td>8904.450508</td>\n",
       "      <td>3.740998e+06</td>\n",
       "      <td>3.755359e+06</td>\n",
       "      <td>3.760076e+06</td>\n",
       "      <td>3.767455e+06</td>\n",
       "      <td>3.777055e+06</td>\n",
       "    </tr>\n",
       "    <tr>\n",
       "      <th>y_exit</th>\n",
       "      <td>814262.0</td>\n",
       "      <td>-1.922181e+07</td>\n",
       "      <td>75155.599195</td>\n",
       "      <td>-1.937688e+07</td>\n",
       "      <td>-1.927308e+07</td>\n",
       "      <td>-1.923031e+07</td>\n",
       "      <td>-1.917193e+07</td>\n",
       "      <td>-1.904666e+07</td>\n",
       "    </tr>\n",
       "  </tbody>\n",
       "</table>\n",
       "</div>"
      ],
      "text/plain": [
       "            count          mean           std           min           25%  \\\n",
       "vmax     256769.0  2.680249e+00      7.591053 -1.000000e+00  0.000000e+00   \n",
       "vmin     256769.0  2.279469e+00      7.118452 -1.000000e+00 -1.000000e+00   \n",
       "vmean    270778.0  2.454799e+00      7.160578 -1.000000e+00  0.000000e+00   \n",
       "x_entry  814262.0  3.760411e+06   8974.393381  3.741027e+06  3.755174e+06   \n",
       "y_entry  814262.0 -1.922153e+07  76322.341694 -1.938291e+07 -1.927454e+07   \n",
       "x_exit   814262.0  3.760426e+06   8904.450508  3.740998e+06  3.755359e+06   \n",
       "y_exit   814262.0 -1.922181e+07  75155.599195 -1.937688e+07 -1.927308e+07   \n",
       "\n",
       "                  50%           75%           max  \n",
       "vmax     0.000000e+00  5.000000e-01  1.620000e+02  \n",
       "vmin     0.000000e+00  2.200000e-01  1.620000e+02  \n",
       "vmean    0.000000e+00  4.400000e-01  1.620000e+02  \n",
       "x_entry  3.760071e+06  3.767509e+06  3.777099e+06  \n",
       "y_entry -1.923020e+07 -1.916999e+07 -1.904266e+07  \n",
       "x_exit   3.760076e+06  3.767455e+06  3.777055e+06  \n",
       "y_exit  -1.923031e+07 -1.917193e+07 -1.904666e+07  "
      ]
     },
     "execution_count": 5,
     "metadata": {},
     "output_type": "execute_result"
    }
   ],
   "source": [
    "raw.describe().T"
   ]
  },
  {
   "cell_type": "code",
   "execution_count": 6,
   "metadata": {},
   "outputs": [
    {
     "data": {
      "text/html": [
       "<div>\n",
       "<style scoped>\n",
       "    .dataframe tbody tr th:only-of-type {\n",
       "        vertical-align: middle;\n",
       "    }\n",
       "\n",
       "    .dataframe tbody tr th {\n",
       "        vertical-align: top;\n",
       "    }\n",
       "\n",
       "    .dataframe thead th {\n",
       "        text-align: right;\n",
       "    }\n",
       "</style>\n",
       "<table border=\"1\" class=\"dataframe\">\n",
       "  <thead>\n",
       "    <tr style=\"text-align: right;\">\n",
       "      <th></th>\n",
       "      <th>count</th>\n",
       "      <th>unique</th>\n",
       "      <th>top</th>\n",
       "      <th>freq</th>\n",
       "    </tr>\n",
       "  </thead>\n",
       "  <tbody>\n",
       "    <tr>\n",
       "      <th>hash</th>\n",
       "      <td>814262</td>\n",
       "      <td>134063</td>\n",
       "      <td>76a5c3305379ff57d1d967d08ce554a5_31</td>\n",
       "      <td>20</td>\n",
       "    </tr>\n",
       "    <tr>\n",
       "      <th>trajectory_id</th>\n",
       "      <td>814262</td>\n",
       "      <td>814262</td>\n",
       "      <td>traj_16bcf89061f0ed0164ba0ee1a241dbf2_19_3</td>\n",
       "      <td>1</td>\n",
       "    </tr>\n",
       "    <tr>\n",
       "      <th>time_entry</th>\n",
       "      <td>814262</td>\n",
       "      <td>56765</td>\n",
       "      <td>15:03:00</td>\n",
       "      <td>103</td>\n",
       "    </tr>\n",
       "    <tr>\n",
       "      <th>time_exit</th>\n",
       "      <td>814262</td>\n",
       "      <td>56772</td>\n",
       "      <td>15:07:03</td>\n",
       "      <td>104</td>\n",
       "    </tr>\n",
       "  </tbody>\n",
       "</table>\n",
       "</div>"
      ],
      "text/plain": [
       "                count  unique                                         top freq\n",
       "hash           814262  134063         76a5c3305379ff57d1d967d08ce554a5_31   20\n",
       "trajectory_id  814262  814262  traj_16bcf89061f0ed0164ba0ee1a241dbf2_19_3    1\n",
       "time_entry     814262   56765                                    15:03:00  103\n",
       "time_exit      814262   56772                                    15:07:03  104"
      ]
     },
     "execution_count": 6,
     "metadata": {},
     "output_type": "execute_result"
    }
   ],
   "source": [
    "raw.describe(include='O').T"
   ]
  },
  {
   "cell_type": "markdown",
   "metadata": {},
   "source": [
    "trajectory_id is unique (primary key)"
   ]
  },
  {
   "cell_type": "code",
   "execution_count": 7,
   "metadata": {},
   "outputs": [],
   "source": [
    "# change data type from object to datetime\n",
    "raw['time_entry'] = pd.to_datetime(raw['time_entry'])\n",
    "raw['time_exit'] = pd.to_datetime(raw['time_exit'])"
   ]
  },
  {
   "cell_type": "code",
   "execution_count": 8,
   "metadata": {},
   "outputs": [],
   "source": [
    "entry_dt = raw['time_entry'].dt\n",
    "exit_dt = raw['time_exit'].dt"
   ]
  },
  {
   "cell_type": "code",
   "execution_count": 9,
   "metadata": {},
   "outputs": [],
   "source": [
    "# extract time_entry as hour, create new column 'entry_hour'\n",
    "raw['entry_hour'] = entry_dt.hour\n",
    "\n",
    "# extract time_exit as hour, create new column 'exit_hour'\n",
    "raw['exit_hour'] = exit_dt.hour"
   ]
  },
  {
   "cell_type": "code",
   "execution_count": 10,
   "metadata": {},
   "outputs": [
    {
     "data": {
      "text/html": [
       "<div>\n",
       "<style scoped>\n",
       "    .dataframe tbody tr th:only-of-type {\n",
       "        vertical-align: middle;\n",
       "    }\n",
       "\n",
       "    .dataframe tbody tr th {\n",
       "        vertical-align: top;\n",
       "    }\n",
       "\n",
       "    .dataframe thead th {\n",
       "        text-align: right;\n",
       "    }\n",
       "</style>\n",
       "<table border=\"1\" class=\"dataframe\">\n",
       "  <thead>\n",
       "    <tr style=\"text-align: right;\">\n",
       "      <th></th>\n",
       "      <th>hash</th>\n",
       "      <th>trajectory_id</th>\n",
       "      <th>time_entry</th>\n",
       "      <th>time_exit</th>\n",
       "      <th>vmax</th>\n",
       "      <th>vmin</th>\n",
       "      <th>vmean</th>\n",
       "      <th>x_entry</th>\n",
       "      <th>y_entry</th>\n",
       "      <th>x_exit</th>\n",
       "      <th>y_exit</th>\n",
       "      <th>entry_hour</th>\n",
       "      <th>exit_hour</th>\n",
       "    </tr>\n",
       "  </thead>\n",
       "  <tbody>\n",
       "    <tr>\n",
       "      <th>0</th>\n",
       "      <td>0000a8602cf2def930488dee7cdad104_1</td>\n",
       "      <td>traj_0000a8602cf2def930488dee7cdad104_1_0</td>\n",
       "      <td>2021-03-22 07:04:31</td>\n",
       "      <td>2021-03-22 07:08:32</td>\n",
       "      <td>NaN</td>\n",
       "      <td>NaN</td>\n",
       "      <td>NaN</td>\n",
       "      <td>3.751014e+06</td>\n",
       "      <td>-1.909398e+07</td>\n",
       "      <td>3.750326e+06</td>\n",
       "      <td>-1.913634e+07</td>\n",
       "      <td>7</td>\n",
       "      <td>7</td>\n",
       "    </tr>\n",
       "    <tr>\n",
       "      <th>1</th>\n",
       "      <td>0000a8602cf2def930488dee7cdad104_1</td>\n",
       "      <td>traj_0000a8602cf2def930488dee7cdad104_1_1</td>\n",
       "      <td>2021-03-22 07:20:34</td>\n",
       "      <td>2021-03-22 07:25:42</td>\n",
       "      <td>NaN</td>\n",
       "      <td>NaN</td>\n",
       "      <td>NaN</td>\n",
       "      <td>3.743937e+06</td>\n",
       "      <td>-1.932247e+07</td>\n",
       "      <td>3.744975e+06</td>\n",
       "      <td>-1.931966e+07</td>\n",
       "      <td>7</td>\n",
       "      <td>7</td>\n",
       "    </tr>\n",
       "    <tr>\n",
       "      <th>2</th>\n",
       "      <td>0000a8602cf2def930488dee7cdad104_1</td>\n",
       "      <td>traj_0000a8602cf2def930488dee7cdad104_1_2</td>\n",
       "      <td>2021-03-22 07:53:32</td>\n",
       "      <td>2021-03-22 08:03:25</td>\n",
       "      <td>NaN</td>\n",
       "      <td>NaN</td>\n",
       "      <td>NaN</td>\n",
       "      <td>3.744868e+06</td>\n",
       "      <td>-1.929356e+07</td>\n",
       "      <td>3.744816e+06</td>\n",
       "      <td>-1.929284e+07</td>\n",
       "      <td>7</td>\n",
       "      <td>8</td>\n",
       "    </tr>\n",
       "    <tr>\n",
       "      <th>3</th>\n",
       "      <td>0000a8602cf2def930488dee7cdad104_1</td>\n",
       "      <td>traj_0000a8602cf2def930488dee7cdad104_1_3</td>\n",
       "      <td>2021-03-22 08:17:50</td>\n",
       "      <td>2021-03-22 08:37:23</td>\n",
       "      <td>NaN</td>\n",
       "      <td>NaN</td>\n",
       "      <td>NaN</td>\n",
       "      <td>3.744880e+06</td>\n",
       "      <td>-1.929229e+07</td>\n",
       "      <td>3.744809e+06</td>\n",
       "      <td>-1.929049e+07</td>\n",
       "      <td>8</td>\n",
       "      <td>8</td>\n",
       "    </tr>\n",
       "    <tr>\n",
       "      <th>4</th>\n",
       "      <td>0000a8602cf2def930488dee7cdad104_1</td>\n",
       "      <td>traj_0000a8602cf2def930488dee7cdad104_1_4</td>\n",
       "      <td>2021-03-22 14:38:09</td>\n",
       "      <td>2021-03-22 14:38:09</td>\n",
       "      <td>NaN</td>\n",
       "      <td>NaN</td>\n",
       "      <td>NaN</td>\n",
       "      <td>3.744909e+06</td>\n",
       "      <td>-1.928558e+07</td>\n",
       "      <td>3.744909e+06</td>\n",
       "      <td>-1.928558e+07</td>\n",
       "      <td>14</td>\n",
       "      <td>14</td>\n",
       "    </tr>\n",
       "  </tbody>\n",
       "</table>\n",
       "</div>"
      ],
      "text/plain": [
       "                                 hash  \\\n",
       "0  0000a8602cf2def930488dee7cdad104_1   \n",
       "1  0000a8602cf2def930488dee7cdad104_1   \n",
       "2  0000a8602cf2def930488dee7cdad104_1   \n",
       "3  0000a8602cf2def930488dee7cdad104_1   \n",
       "4  0000a8602cf2def930488dee7cdad104_1   \n",
       "\n",
       "                               trajectory_id          time_entry  \\\n",
       "0  traj_0000a8602cf2def930488dee7cdad104_1_0 2021-03-22 07:04:31   \n",
       "1  traj_0000a8602cf2def930488dee7cdad104_1_1 2021-03-22 07:20:34   \n",
       "2  traj_0000a8602cf2def930488dee7cdad104_1_2 2021-03-22 07:53:32   \n",
       "3  traj_0000a8602cf2def930488dee7cdad104_1_3 2021-03-22 08:17:50   \n",
       "4  traj_0000a8602cf2def930488dee7cdad104_1_4 2021-03-22 14:38:09   \n",
       "\n",
       "            time_exit  vmax  vmin  vmean       x_entry       y_entry  \\\n",
       "0 2021-03-22 07:08:32   NaN   NaN    NaN  3.751014e+06 -1.909398e+07   \n",
       "1 2021-03-22 07:25:42   NaN   NaN    NaN  3.743937e+06 -1.932247e+07   \n",
       "2 2021-03-22 08:03:25   NaN   NaN    NaN  3.744868e+06 -1.929356e+07   \n",
       "3 2021-03-22 08:37:23   NaN   NaN    NaN  3.744880e+06 -1.929229e+07   \n",
       "4 2021-03-22 14:38:09   NaN   NaN    NaN  3.744909e+06 -1.928558e+07   \n",
       "\n",
       "         x_exit        y_exit  entry_hour  exit_hour  \n",
       "0  3.750326e+06 -1.913634e+07           7          7  \n",
       "1  3.744975e+06 -1.931966e+07           7          7  \n",
       "2  3.744816e+06 -1.929284e+07           7          8  \n",
       "3  3.744809e+06 -1.929049e+07           8          8  \n",
       "4  3.744909e+06 -1.928558e+07          14         14  "
      ]
     },
     "execution_count": 10,
     "metadata": {},
     "output_type": "execute_result"
    }
   ],
   "source": [
    "raw.head()"
   ]
  },
  {
   "cell_type": "code",
   "execution_count": 11,
   "metadata": {},
   "outputs": [
    {
     "name": "stdout",
     "output_type": "stream",
     "text": [
      "<class 'pandas.core.frame.DataFrame'>\n",
      "Int64Index: 814262 entries, 0 to 814261\n",
      "Data columns (total 13 columns):\n",
      " #   Column         Non-Null Count   Dtype         \n",
      "---  ------         --------------   -----         \n",
      " 0   hash           814262 non-null  object        \n",
      " 1   trajectory_id  814262 non-null  object        \n",
      " 2   time_entry     814262 non-null  datetime64[ns]\n",
      " 3   time_exit      814262 non-null  datetime64[ns]\n",
      " 4   vmax           256769 non-null  float64       \n",
      " 5   vmin           256769 non-null  float64       \n",
      " 6   vmean          270778 non-null  float64       \n",
      " 7   x_entry        814262 non-null  float64       \n",
      " 8   y_entry        814262 non-null  float64       \n",
      " 9   x_exit         814262 non-null  float64       \n",
      " 10  y_exit         814262 non-null  float64       \n",
      " 11  entry_hour     814262 non-null  int64         \n",
      " 12  exit_hour      814262 non-null  int64         \n",
      "dtypes: datetime64[ns](2), float64(7), int64(2), object(2)\n",
      "memory usage: 87.0+ MB\n"
     ]
    }
   ],
   "source": [
    "raw.info()"
   ]
  },
  {
   "cell_type": "code",
   "execution_count": 12,
   "metadata": {},
   "outputs": [
    {
     "data": {
      "text/plain": [
       "hash                  0\n",
       "trajectory_id         0\n",
       "time_entry            0\n",
       "time_exit             0\n",
       "vmax             557493\n",
       "vmin             557493\n",
       "vmean            543484\n",
       "x_entry               0\n",
       "y_entry               0\n",
       "x_exit                0\n",
       "y_exit                0\n",
       "entry_hour            0\n",
       "exit_hour             0\n",
       "dtype: int64"
      ]
     },
     "execution_count": 12,
     "metadata": {},
     "output_type": "execute_result"
    }
   ],
   "source": [
    "raw.isnull().sum()"
   ]
  },
  {
   "cell_type": "code",
   "execution_count": 13,
   "metadata": {},
   "outputs": [
    {
     "data": {
      "image/png": "[encoded data removed]",
      "text/plain": [
       "<Figure size 720x576 with 1 Axes>"
      ]
     },
     "metadata": {
      "needs_background": "light"
     },
     "output_type": "display_data"
    }
   ],
   "source": [
    "plt.figure(figsize=(10, 8))\n",
    "sns.heatmap(raw.isnull(),yticklabels=False,cbar=False,cmap='viridis')\n",
    "plt.show()"
   ]
  },
  {
   "cell_type": "markdown",
   "metadata": {},
   "source": [
    "### Insight:\n",
    "\n",
    "Most vmax, vmin, and vmean data are null"
   ]
  },
  {
   "cell_type": "code",
   "execution_count": 14,
   "metadata": {},
   "outputs": [
    {
     "data": {
      "text/html": [
       "<div>\n",
       "<style scoped>\n",
       "    .dataframe tbody tr th:only-of-type {\n",
       "        vertical-align: middle;\n",
       "    }\n",
       "\n",
       "    .dataframe tbody tr th {\n",
       "        vertical-align: top;\n",
       "    }\n",
       "\n",
       "    .dataframe thead th {\n",
       "        text-align: right;\n",
       "    }\n",
       "</style>\n",
       "<table border=\"1\" class=\"dataframe\">\n",
       "  <thead>\n",
       "    <tr style=\"text-align: right;\">\n",
       "      <th></th>\n",
       "      <th>count</th>\n",
       "      <th>mean</th>\n",
       "      <th>std</th>\n",
       "      <th>min</th>\n",
       "      <th>25%</th>\n",
       "      <th>50%</th>\n",
       "      <th>75%</th>\n",
       "      <th>max</th>\n",
       "    </tr>\n",
       "  </thead>\n",
       "  <tbody>\n",
       "    <tr>\n",
       "      <th>vmax</th>\n",
       "      <td>256769.0</td>\n",
       "      <td>2.680249</td>\n",
       "      <td>7.591053</td>\n",
       "      <td>-1.0</td>\n",
       "      <td>0.0</td>\n",
       "      <td>0.0</td>\n",
       "      <td>0.50</td>\n",
       "      <td>162.0</td>\n",
       "    </tr>\n",
       "    <tr>\n",
       "      <th>vmin</th>\n",
       "      <td>256769.0</td>\n",
       "      <td>2.279469</td>\n",
       "      <td>7.118452</td>\n",
       "      <td>-1.0</td>\n",
       "      <td>-1.0</td>\n",
       "      <td>0.0</td>\n",
       "      <td>0.22</td>\n",
       "      <td>162.0</td>\n",
       "    </tr>\n",
       "    <tr>\n",
       "      <th>vmean</th>\n",
       "      <td>270778.0</td>\n",
       "      <td>2.454799</td>\n",
       "      <td>7.160578</td>\n",
       "      <td>-1.0</td>\n",
       "      <td>0.0</td>\n",
       "      <td>0.0</td>\n",
       "      <td>0.44</td>\n",
       "      <td>162.0</td>\n",
       "    </tr>\n",
       "  </tbody>\n",
       "</table>\n",
       "</div>"
      ],
      "text/plain": [
       "          count      mean       std  min  25%  50%   75%    max\n",
       "vmax   256769.0  2.680249  7.591053 -1.0  0.0  0.0  0.50  162.0\n",
       "vmin   256769.0  2.279469  7.118452 -1.0 -1.0  0.0  0.22  162.0\n",
       "vmean  270778.0  2.454799  7.160578 -1.0  0.0  0.0  0.44  162.0"
      ]
     },
     "execution_count": 14,
     "metadata": {},
     "output_type": "execute_result"
    }
   ],
   "source": [
    "raw[['vmax', 'vmin', 'vmean']].describe().T"
   ]
  },
  {
   "cell_type": "code",
   "execution_count": 15,
   "metadata": {},
   "outputs": [
    {
     "data": {
      "text/plain": [
       "0"
      ]
     },
     "execution_count": 15,
     "metadata": {},
     "output_type": "execute_result"
    }
   ],
   "source": [
    "raw[(pd.notnull(raw['vmin']) == True) & (pd.notnull(raw['vmax']) == True)]['vmean'].isnull().sum()"
   ]
  },
  {
   "cell_type": "code",
   "execution_count": 16,
   "metadata": {},
   "outputs": [
    {
     "data": {
      "text/plain": [
       "0"
      ]
     },
     "execution_count": 16,
     "metadata": {},
     "output_type": "execute_result"
    }
   ],
   "source": [
    "raw[pd.notnull(raw['vmin']) == True]['vmax'].isnull().sum()"
   ]
  },
  {
   "cell_type": "code",
   "execution_count": 17,
   "metadata": {},
   "outputs": [
    {
     "data": {
      "text/plain": [
       "14009"
      ]
     },
     "execution_count": 17,
     "metadata": {},
     "output_type": "execute_result"
    }
   ],
   "source": [
    "raw[pd.notnull(raw['vmean']) == True]['vmax'].isnull().sum()"
   ]
  },
  {
   "cell_type": "markdown",
   "metadata": {},
   "source": [
    "### Insight\n",
    "\n",
    "1. Existing data with features vmin and vmax that are non-null have the same data points (256769). After being checked, all 256769 data are within the same data points, different case with existing vmean data.\n",
    "2. Existing data with vmean feature that are non-null are counted 270778 data points. In these data points, there are 14009 vmax and vmin data (which are the same data points) that are null."
   ]
  },
  {
   "cell_type": "code",
   "execution_count": 18,
   "metadata": {},
   "outputs": [],
   "source": [
    "raw['duration'] = raw['time_exit'] - raw['time_entry']"
   ]
  },
  {
   "cell_type": "code",
   "execution_count": 19,
   "metadata": {},
   "outputs": [
    {
     "name": "stdout",
     "output_type": "stream",
     "text": [
      "<class 'pandas.core.frame.DataFrame'>\n",
      "Int64Index: 814262 entries, 0 to 814261\n",
      "Data columns (total 14 columns):\n",
      " #   Column         Non-Null Count   Dtype          \n",
      "---  ------         --------------   -----          \n",
      " 0   hash           814262 non-null  object         \n",
      " 1   trajectory_id  814262 non-null  object         \n",
      " 2   time_entry     814262 non-null  datetime64[ns] \n",
      " 3   time_exit      814262 non-null  datetime64[ns] \n",
      " 4   vmax           256769 non-null  float64        \n",
      " 5   vmin           256769 non-null  float64        \n",
      " 6   vmean          270778 non-null  float64        \n",
      " 7   x_entry        814262 non-null  float64        \n",
      " 8   y_entry        814262 non-null  float64        \n",
      " 9   x_exit         814262 non-null  float64        \n",
      " 10  y_exit         814262 non-null  float64        \n",
      " 11  entry_hour     814262 non-null  int64          \n",
      " 12  exit_hour      814262 non-null  int64          \n",
      " 13  duration       814262 non-null  timedelta64[ns]\n",
      "dtypes: datetime64[ns](2), float64(7), int64(2), object(2), timedelta64[ns](1)\n",
      "memory usage: 93.2+ MB\n"
     ]
    }
   ],
   "source": [
    "raw.info()"
   ]
  },
  {
   "cell_type": "code",
   "execution_count": 20,
   "metadata": {},
   "outputs": [
    {
     "data": {
      "text/plain": [
       "count                    814262\n",
       "mean     0 days 00:05:47.010593\n",
       "std      0 days 00:10:23.143284\n",
       "min             0 days 00:00:00\n",
       "25%             0 days 00:00:00\n",
       "50%             0 days 00:00:00\n",
       "75%             0 days 00:08:00\n",
       "max             0 days 06:49:37\n",
       "Name: duration, dtype: object"
      ]
     },
     "execution_count": 20,
     "metadata": {},
     "output_type": "execute_result"
    }
   ],
   "source": [
    "raw['duration'].describe().T"
   ]
  },
  {
   "cell_type": "markdown",
   "metadata": {},
   "source": [
    "### Brainstorming:\n",
    "\n",
    "1. For features vmax, vmin, and vmean are redundant to each other since only one velocity data is already enough to give information to generete model.\n",
    "2. From the dataset, the coordinate x and y for points entry and exit are known, as well as the duration of the trip (difference between entry and exit time). These data could also give information about velocity (since velocity is equal to distance difference divided by duration of trip).\n",
    "\n",
    "#### Model will be generated with the existing data of coordinate (entry and exit) points and the duration of the trip. Velocity columns (vmin, vmax, and vmean) assumed to be represented by the division of distance to time difference (duration)."
   ]
  },
  {
   "cell_type": "code",
   "execution_count": 21,
   "metadata": {},
   "outputs": [],
   "source": [
    "desc = []\n",
    "\n",
    "for i in raw.columns:\n",
    "    desc.append([\n",
    "        i,\n",
    "        raw[i].dtypes,\n",
    "        raw[i].isnull().sum(),\n",
    "        round((((raw[i].isnull().sum())/(len(raw)))*100), 2),\n",
    "        raw[i].nunique(),\n",
    "        raw[i].drop_duplicates().sample(2).values\n",
    "    ])"
   ]
  },
  {
   "cell_type": "code",
   "execution_count": 22,
   "metadata": {},
   "outputs": [
    {
     "data": {
      "text/html": [
       "<div>\n",
       "<style scoped>\n",
       "    .dataframe tbody tr th:only-of-type {\n",
       "        vertical-align: middle;\n",
       "    }\n",
       "\n",
       "    .dataframe tbody tr th {\n",
       "        vertical-align: top;\n",
       "    }\n",
       "\n",
       "    .dataframe thead th {\n",
       "        text-align: right;\n",
       "    }\n",
       "</style>\n",
       "<table border=\"1\" class=\"dataframe\">\n",
       "  <thead>\n",
       "    <tr style=\"text-align: right;\">\n",
       "      <th></th>\n",
       "      <th>dataFeatures</th>\n",
       "      <th>dataType</th>\n",
       "      <th>null</th>\n",
       "      <th>nullPercentage</th>\n",
       "      <th>unique</th>\n",
       "      <th>uniqueSample</th>\n",
       "    </tr>\n",
       "  </thead>\n",
       "  <tbody>\n",
       "    <tr>\n",
       "      <th>0</th>\n",
       "      <td>hash</td>\n",
       "      <td>object</td>\n",
       "      <td>0</td>\n",
       "      <td>0.00</td>\n",
       "      <td>134063</td>\n",
       "      <td>[0d4395e044cc8971d72a6692292dfdcb_1, c2aa71510...</td>\n",
       "    </tr>\n",
       "    <tr>\n",
       "      <th>1</th>\n",
       "      <td>trajectory_id</td>\n",
       "      <td>object</td>\n",
       "      <td>0</td>\n",
       "      <td>0.00</td>\n",
       "      <td>814262</td>\n",
       "      <td>[traj_6a06b2b236097736982e902722b6d99c_23_12, ...</td>\n",
       "    </tr>\n",
       "    <tr>\n",
       "      <th>2</th>\n",
       "      <td>time_entry</td>\n",
       "      <td>datetime64[ns]</td>\n",
       "      <td>0</td>\n",
       "      <td>0.00</td>\n",
       "      <td>56765</td>\n",
       "      <td>[2021-03-22T06:43:01.000000000, 2021-03-22T03:...</td>\n",
       "    </tr>\n",
       "    <tr>\n",
       "      <th>3</th>\n",
       "      <td>time_exit</td>\n",
       "      <td>datetime64[ns]</td>\n",
       "      <td>0</td>\n",
       "      <td>0.00</td>\n",
       "      <td>56772</td>\n",
       "      <td>[2021-03-22T02:45:40.000000000, 2021-03-22T00:...</td>\n",
       "    </tr>\n",
       "    <tr>\n",
       "      <th>4</th>\n",
       "      <td>vmax</td>\n",
       "      <td>float64</td>\n",
       "      <td>557493</td>\n",
       "      <td>68.47</td>\n",
       "      <td>28296</td>\n",
       "      <td>[29.229883194, 0.9252733]</td>\n",
       "    </tr>\n",
       "    <tr>\n",
       "      <th>5</th>\n",
       "      <td>vmin</td>\n",
       "      <td>float64</td>\n",
       "      <td>557493</td>\n",
       "      <td>68.47</td>\n",
       "      <td>26528</td>\n",
       "      <td>[0.6200000047683716, 14.1899995804]</td>\n",
       "    </tr>\n",
       "    <tr>\n",
       "      <th>6</th>\n",
       "      <td>vmean</td>\n",
       "      <td>float64</td>\n",
       "      <td>543484</td>\n",
       "      <td>66.75</td>\n",
       "      <td>32935</td>\n",
       "      <td>[15.567601000000002, 2.9352991580963]</td>\n",
       "    </tr>\n",
       "    <tr>\n",
       "      <th>7</th>\n",
       "      <td>x_entry</td>\n",
       "      <td>float64</td>\n",
       "      <td>0</td>\n",
       "      <td>0.00</td>\n",
       "      <td>32269</td>\n",
       "      <td>[3767910.9549133005, 3756249.125057797]</td>\n",
       "    </tr>\n",
       "    <tr>\n",
       "      <th>8</th>\n",
       "      <td>y_entry</td>\n",
       "      <td>float64</td>\n",
       "      <td>0</td>\n",
       "      <td>0.00</td>\n",
       "      <td>29042</td>\n",
       "      <td>[-19107615.446382053, -19238847.013359807]</td>\n",
       "    </tr>\n",
       "    <tr>\n",
       "      <th>9</th>\n",
       "      <td>x_exit</td>\n",
       "      <td>float64</td>\n",
       "      <td>0</td>\n",
       "      <td>0.00</td>\n",
       "      <td>32255</td>\n",
       "      <td>[3763040.727191097, 3747679.7506565317]</td>\n",
       "    </tr>\n",
       "    <tr>\n",
       "      <th>10</th>\n",
       "      <td>y_exit</td>\n",
       "      <td>float64</td>\n",
       "      <td>0</td>\n",
       "      <td>0.00</td>\n",
       "      <td>29023</td>\n",
       "      <td>[-19164945.9568451, -19126851.532394428]</td>\n",
       "    </tr>\n",
       "    <tr>\n",
       "      <th>11</th>\n",
       "      <td>entry_hour</td>\n",
       "      <td>int64</td>\n",
       "      <td>0</td>\n",
       "      <td>0.00</td>\n",
       "      <td>17</td>\n",
       "      <td>[2, 15]</td>\n",
       "    </tr>\n",
       "    <tr>\n",
       "      <th>12</th>\n",
       "      <td>exit_hour</td>\n",
       "      <td>int64</td>\n",
       "      <td>0</td>\n",
       "      <td>0.00</td>\n",
       "      <td>17</td>\n",
       "      <td>[5, 12]</td>\n",
       "    </tr>\n",
       "    <tr>\n",
       "      <th>13</th>\n",
       "      <td>duration</td>\n",
       "      <td>timedelta64[ns]</td>\n",
       "      <td>0</td>\n",
       "      <td>0.00</td>\n",
       "      <td>5398</td>\n",
       "      <td>[2675000000000 nanoseconds, 4395000000000 nano...</td>\n",
       "    </tr>\n",
       "  </tbody>\n",
       "</table>\n",
       "</div>"
      ],
      "text/plain": [
       "     dataFeatures         dataType    null  nullPercentage  unique  \\\n",
       "0            hash           object       0            0.00  134063   \n",
       "1   trajectory_id           object       0            0.00  814262   \n",
       "2      time_entry   datetime64[ns]       0            0.00   56765   \n",
       "3       time_exit   datetime64[ns]       0            0.00   56772   \n",
       "4            vmax          float64  557493           68.47   28296   \n",
       "5            vmin          float64  557493           68.47   26528   \n",
       "6           vmean          float64  543484           66.75   32935   \n",
       "7         x_entry          float64       0            0.00   32269   \n",
       "8         y_entry          float64       0            0.00   29042   \n",
       "9          x_exit          float64       0            0.00   32255   \n",
       "10         y_exit          float64       0            0.00   29023   \n",
       "11     entry_hour            int64       0            0.00      17   \n",
       "12      exit_hour            int64       0            0.00      17   \n",
       "13       duration  timedelta64[ns]       0            0.00    5398   \n",
       "\n",
       "                                         uniqueSample  \n",
       "0   [0d4395e044cc8971d72a6692292dfdcb_1, c2aa71510...  \n",
       "1   [traj_6a06b2b236097736982e902722b6d99c_23_12, ...  \n",
       "2   [2021-03-22T06:43:01.000000000, 2021-03-22T03:...  \n",
       "3   [2021-03-22T02:45:40.000000000, 2021-03-22T00:...  \n",
       "4                           [29.229883194, 0.9252733]  \n",
       "5                 [0.6200000047683716, 14.1899995804]  \n",
       "6               [15.567601000000002, 2.9352991580963]  \n",
       "7             [3767910.9549133005, 3756249.125057797]  \n",
       "8          [-19107615.446382053, -19238847.013359807]  \n",
       "9             [3763040.727191097, 3747679.7506565317]  \n",
       "10           [-19164945.9568451, -19126851.532394428]  \n",
       "11                                            [2, 15]  \n",
       "12                                            [5, 12]  \n",
       "13  [2675000000000 nanoseconds, 4395000000000 nano...  "
      ]
     },
     "execution_count": 22,
     "metadata": {},
     "output_type": "execute_result"
    }
   ],
   "source": [
    "dfDesc = pd.DataFrame(desc, columns=['dataFeatures', 'dataType', 'null', 'nullPercentage', 'unique', 'uniqueSample'])\n",
    "dfDesc"
   ]
  },
  {
   "cell_type": "markdown",
   "metadata": {},
   "source": [
    "### Insights:\n",
    "\n",
    "for vmax, vmin, and vmean, null percentage are relatively high, so the non-null data are only around 30%. Since there are too much null data, vmax, vmin, and vmean will be dropped for further modeling."
   ]
  },
  {
   "cell_type": "code",
   "execution_count": 23,
   "metadata": {},
   "outputs": [],
   "source": [
    "df = raw.drop(columns=['vmax', 'vmin', 'vmean'])"
   ]
  },
  {
   "cell_type": "code",
   "execution_count": 24,
   "metadata": {},
   "outputs": [
    {
     "name": "stdout",
     "output_type": "stream",
     "text": [
      "<class 'pandas.core.frame.DataFrame'>\n",
      "Int64Index: 814262 entries, 0 to 814261\n",
      "Data columns (total 11 columns):\n",
      " #   Column         Non-Null Count   Dtype          \n",
      "---  ------         --------------   -----          \n",
      " 0   hash           814262 non-null  object         \n",
      " 1   trajectory_id  814262 non-null  object         \n",
      " 2   time_entry     814262 non-null  datetime64[ns] \n",
      " 3   time_exit      814262 non-null  datetime64[ns] \n",
      " 4   x_entry        814262 non-null  float64        \n",
      " 5   y_entry        814262 non-null  float64        \n",
      " 6   x_exit         814262 non-null  float64        \n",
      " 7   y_exit         814262 non-null  float64        \n",
      " 8   entry_hour     814262 non-null  int64          \n",
      " 9   exit_hour      814262 non-null  int64          \n",
      " 10  duration       814262 non-null  timedelta64[ns]\n",
      "dtypes: datetime64[ns](2), float64(4), int64(2), object(2), timedelta64[ns](1)\n",
      "memory usage: 74.5+ MB\n"
     ]
    }
   ],
   "source": [
    "df.info()"
   ]
  },
  {
   "cell_type": "code",
   "execution_count": 25,
   "metadata": {},
   "outputs": [
    {
     "data": {
      "text/plain": [
       "count                    814262\n",
       "mean     0 days 00:05:47.010593\n",
       "std      0 days 00:10:23.143284\n",
       "min             0 days 00:00:00\n",
       "25%             0 days 00:00:00\n",
       "50%             0 days 00:00:00\n",
       "75%             0 days 00:08:00\n",
       "max             0 days 06:49:37\n",
       "Name: duration, dtype: object"
      ]
     },
     "execution_count": 25,
     "metadata": {},
     "output_type": "execute_result"
    }
   ],
   "source": [
    "df['duration'].describe().T"
   ]
  },
  {
   "cell_type": "code",
   "execution_count": 26,
   "metadata": {},
   "outputs": [
    {
     "data": {
      "text/plain": [
       "0          241.0\n",
       "1          308.0\n",
       "2          593.0\n",
       "3         1173.0\n",
       "4            0.0\n",
       "           ...  \n",
       "814257       0.0\n",
       "814258       0.0\n",
       "814259       0.0\n",
       "814260     409.0\n",
       "814261     439.0\n",
       "Name: duration, Length: 814262, dtype: float64"
      ]
     },
     "execution_count": 26,
     "metadata": {},
     "output_type": "execute_result"
    }
   ],
   "source": [
    "df['duration']/np.timedelta64(1,'s')"
   ]
  },
  {
   "cell_type": "code",
   "execution_count": 27,
   "metadata": {},
   "outputs": [],
   "source": [
    "df['duration_s'] = df['duration']/np.timedelta64(1,'s')"
   ]
  },
  {
   "cell_type": "code",
   "execution_count": 28,
   "metadata": {},
   "outputs": [
    {
     "data": {
      "text/html": [
       "<div>\n",
       "<style scoped>\n",
       "    .dataframe tbody tr th:only-of-type {\n",
       "        vertical-align: middle;\n",
       "    }\n",
       "\n",
       "    .dataframe tbody tr th {\n",
       "        vertical-align: top;\n",
       "    }\n",
       "\n",
       "    .dataframe thead th {\n",
       "        text-align: right;\n",
       "    }\n",
       "</style>\n",
       "<table border=\"1\" class=\"dataframe\">\n",
       "  <thead>\n",
       "    <tr style=\"text-align: right;\">\n",
       "      <th></th>\n",
       "      <th>days</th>\n",
       "      <th>hours</th>\n",
       "      <th>minutes</th>\n",
       "      <th>seconds</th>\n",
       "      <th>milliseconds</th>\n",
       "      <th>microseconds</th>\n",
       "      <th>nanoseconds</th>\n",
       "    </tr>\n",
       "  </thead>\n",
       "  <tbody>\n",
       "    <tr>\n",
       "      <th>0</th>\n",
       "      <td>0</td>\n",
       "      <td>0</td>\n",
       "      <td>4</td>\n",
       "      <td>1</td>\n",
       "      <td>0</td>\n",
       "      <td>0</td>\n",
       "      <td>0</td>\n",
       "    </tr>\n",
       "    <tr>\n",
       "      <th>1</th>\n",
       "      <td>0</td>\n",
       "      <td>0</td>\n",
       "      <td>5</td>\n",
       "      <td>8</td>\n",
       "      <td>0</td>\n",
       "      <td>0</td>\n",
       "      <td>0</td>\n",
       "    </tr>\n",
       "    <tr>\n",
       "      <th>2</th>\n",
       "      <td>0</td>\n",
       "      <td>0</td>\n",
       "      <td>9</td>\n",
       "      <td>53</td>\n",
       "      <td>0</td>\n",
       "      <td>0</td>\n",
       "      <td>0</td>\n",
       "    </tr>\n",
       "    <tr>\n",
       "      <th>3</th>\n",
       "      <td>0</td>\n",
       "      <td>0</td>\n",
       "      <td>19</td>\n",
       "      <td>33</td>\n",
       "      <td>0</td>\n",
       "      <td>0</td>\n",
       "      <td>0</td>\n",
       "    </tr>\n",
       "    <tr>\n",
       "      <th>4</th>\n",
       "      <td>0</td>\n",
       "      <td>0</td>\n",
       "      <td>0</td>\n",
       "      <td>0</td>\n",
       "      <td>0</td>\n",
       "      <td>0</td>\n",
       "      <td>0</td>\n",
       "    </tr>\n",
       "    <tr>\n",
       "      <th>...</th>\n",
       "      <td>...</td>\n",
       "      <td>...</td>\n",
       "      <td>...</td>\n",
       "      <td>...</td>\n",
       "      <td>...</td>\n",
       "      <td>...</td>\n",
       "      <td>...</td>\n",
       "    </tr>\n",
       "    <tr>\n",
       "      <th>814257</th>\n",
       "      <td>0</td>\n",
       "      <td>0</td>\n",
       "      <td>0</td>\n",
       "      <td>0</td>\n",
       "      <td>0</td>\n",
       "      <td>0</td>\n",
       "      <td>0</td>\n",
       "    </tr>\n",
       "    <tr>\n",
       "      <th>814258</th>\n",
       "      <td>0</td>\n",
       "      <td>0</td>\n",
       "      <td>0</td>\n",
       "      <td>0</td>\n",
       "      <td>0</td>\n",
       "      <td>0</td>\n",
       "      <td>0</td>\n",
       "    </tr>\n",
       "    <tr>\n",
       "      <th>814259</th>\n",
       "      <td>0</td>\n",
       "      <td>0</td>\n",
       "      <td>0</td>\n",
       "      <td>0</td>\n",
       "      <td>0</td>\n",
       "      <td>0</td>\n",
       "      <td>0</td>\n",
       "    </tr>\n",
       "    <tr>\n",
       "      <th>814260</th>\n",
       "      <td>0</td>\n",
       "      <td>0</td>\n",
       "      <td>6</td>\n",
       "      <td>49</td>\n",
       "      <td>0</td>\n",
       "      <td>0</td>\n",
       "      <td>0</td>\n",
       "    </tr>\n",
       "    <tr>\n",
       "      <th>814261</th>\n",
       "      <td>0</td>\n",
       "      <td>0</td>\n",
       "      <td>7</td>\n",
       "      <td>19</td>\n",
       "      <td>0</td>\n",
       "      <td>0</td>\n",
       "      <td>0</td>\n",
       "    </tr>\n",
       "  </tbody>\n",
       "</table>\n",
       "<p>814262 rows × 7 columns</p>\n",
       "</div>"
      ],
      "text/plain": [
       "        days  hours  minutes  seconds  milliseconds  microseconds  nanoseconds\n",
       "0          0      0        4        1             0             0            0\n",
       "1          0      0        5        8             0             0            0\n",
       "2          0      0        9       53             0             0            0\n",
       "3          0      0       19       33             0             0            0\n",
       "4          0      0        0        0             0             0            0\n",
       "...      ...    ...      ...      ...           ...           ...          ...\n",
       "814257     0      0        0        0             0             0            0\n",
       "814258     0      0        0        0             0             0            0\n",
       "814259     0      0        0        0             0             0            0\n",
       "814260     0      0        6       49             0             0            0\n",
       "814261     0      0        7       19             0             0            0\n",
       "\n",
       "[814262 rows x 7 columns]"
      ]
     },
     "execution_count": 28,
     "metadata": {},
     "output_type": "execute_result"
    }
   ],
   "source": [
    "df['duration'].dt.components"
   ]
  },
  {
   "cell_type": "markdown",
   "metadata": {},
   "source": [
    "# ** EDA **"
   ]
  },
  {
   "cell_type": "markdown",
   "metadata": {},
   "source": [
    "## - duration -"
   ]
  },
  {
   "cell_type": "code",
   "execution_count": 29,
   "metadata": {},
   "outputs": [
    {
     "data": {
      "text/plain": [
       "count    814262.000000\n",
       "mean        347.010594\n",
       "std         623.143284\n",
       "min           0.000000\n",
       "25%           0.000000\n",
       "50%           0.000000\n",
       "75%         480.000000\n",
       "max       24577.000000\n",
       "Name: duration_s, dtype: float64"
      ]
     },
     "execution_count": 29,
     "metadata": {},
     "output_type": "execute_result"
    }
   ],
   "source": [
    "df['duration_s'].describe()"
   ]
  },
  {
   "cell_type": "code",
   "execution_count": 30,
   "metadata": {},
   "outputs": [
    {
     "data": {
      "image/png": "[encoded data removed]",
      "text/plain": [
       "<Figure size 720x576 with 1 Axes>"
      ]
     },
     "metadata": {
      "needs_background": "light"
     },
     "output_type": "display_data"
    }
   ],
   "source": [
    "plt.figure(figsize=(10, 8))\n",
    "sns.set(style='darkgrid')\n",
    "sns.distplot(df['duration_s'], bins=100, color='teal')\n",
    "plt.title('Duration between entry and exit point in seconds', fontsize=20)\n",
    "plt.xlabel('Seconds', fontsize=10)\n",
    "plt.ylabel('Frequency', fontsize=10)\n",
    "plt.axvline(x=300, linewidth=1, color = 'r')\n",
    "plt.axvline(x=600, linewidth=1, color = 'k')\n",
    "plt.axvline(x=3600, linewidth=1, color = 'b')\n",
    "plt.axvline(x=7200, linewidth=1, color = 'b')\n",
    "plt.axvline(x=10800, linewidth=1, color = 'b')\n",
    "plt.axvline(x=14400, linewidth=1, color = 'b')\n",
    "plt.axvline(x=18000, linewidth=1, color = 'b')\n",
    "plt.axvline(x=21600, linewidth=1, color = 'b')\n",
    "plt.axvline(x=25200, linewidth=1, color = 'b')\n",
    "\n",
    "plt.text(300, 0.0025, '5 minutes', fontsize=12)\n",
    "plt.text(600, 0.00225, '10 minutes', fontsize=12)\n",
    "plt.text(3600, 0.002, '1 hour', fontsize=12)\n",
    "plt.text(7200, 0.002, '2 hour', fontsize=12)\n",
    "plt.text(10800, 0.002, '3 hour', fontsize=12)\n",
    "plt.text(14400, 0.002, '4 hour', fontsize=12)\n",
    "plt.text(18000, 0.002, '5 hour', fontsize=12)\n",
    "plt.text(21600, 0.002, '6 hour', fontsize=12)\n",
    "plt.text(25200, 0.002, '7 hour', fontsize=12)\n",
    "plt.show()\n",
    "# plt.savefig('./plot/hist_price.png')"
   ]
  },
  {
   "cell_type": "code",
   "execution_count": 31,
   "metadata": {},
   "outputs": [
    {
     "data": {
      "image/png": "[encoded data removed]",
      "text/plain": [
       "<Figure size 720x576 with 1 Axes>"
      ]
     },
     "metadata": {},
     "output_type": "display_data"
    }
   ],
   "source": [
    "plt.figure(figsize=(10, 8))\n",
    "\n",
    "sns.boxplot(df['duration_s'], color='teal')\n",
    "plt.xlabel('Duration (seconds)', fontsize=13)\n",
    "plt.show()"
   ]
  },
  {
   "cell_type": "code",
   "execution_count": 32,
   "metadata": {},
   "outputs": [
    {
     "name": "stdout",
     "output_type": "stream",
     "text": [
      "Mean Duration in seconds = 347.01059364184994 seconds\n",
      "Median Duration in seconds = 0.0 seconds\n",
      "Median Duration in seconds = 24577.0 seconds\n"
     ]
    }
   ],
   "source": [
    "print(f\"Mean Duration in seconds = {df['duration_s'].mean()} seconds\")\n",
    "print(f\"Median Duration in seconds = {df['duration_s'].median()} seconds\")\n",
    "print(f\"Median Duration in seconds = {df['duration_s'].max()} seconds\")"
   ]
  },
  {
   "cell_type": "markdown",
   "metadata": {},
   "source": [
    "## Insight\n",
    "\n",
    "1. Average duration between entry and exit points is 347 seconds, or 5 minutes and 47 seconds.\n",
    "2. Median duration between entry and exit points, or the value which is most frequent in the dataset is 0 seconds.\n",
    "3. The maximum duration recorded is 24,577 seconds, or 6 hours, 49 minutes, and 37 seconds."
   ]
  },
  {
   "cell_type": "code",
   "execution_count": 33,
   "metadata": {},
   "outputs": [
    {
     "data": {
      "text/html": [
       "<div>\n",
       "<style scoped>\n",
       "    .dataframe tbody tr th:only-of-type {\n",
       "        vertical-align: middle;\n",
       "    }\n",
       "\n",
       "    .dataframe tbody tr th {\n",
       "        vertical-align: top;\n",
       "    }\n",
       "\n",
       "    .dataframe thead th {\n",
       "        text-align: right;\n",
       "    }\n",
       "</style>\n",
       "<table border=\"1\" class=\"dataframe\">\n",
       "  <thead>\n",
       "    <tr style=\"text-align: right;\">\n",
       "      <th></th>\n",
       "      <th>hash</th>\n",
       "      <th>trajectory_id</th>\n",
       "      <th>time_entry</th>\n",
       "      <th>time_exit</th>\n",
       "      <th>x_entry</th>\n",
       "      <th>y_entry</th>\n",
       "      <th>x_exit</th>\n",
       "      <th>y_exit</th>\n",
       "      <th>entry_hour</th>\n",
       "      <th>exit_hour</th>\n",
       "      <th>duration</th>\n",
       "      <th>duration_s</th>\n",
       "    </tr>\n",
       "  </thead>\n",
       "  <tbody>\n",
       "    <tr>\n",
       "      <th>0</th>\n",
       "      <td>0000a8602cf2def930488dee7cdad104_1</td>\n",
       "      <td>traj_0000a8602cf2def930488dee7cdad104_1_0</td>\n",
       "      <td>2021-03-22 07:04:31</td>\n",
       "      <td>2021-03-22 07:08:32</td>\n",
       "      <td>3.751014e+06</td>\n",
       "      <td>-1.909398e+07</td>\n",
       "      <td>3.750326e+06</td>\n",
       "      <td>-1.913634e+07</td>\n",
       "      <td>7</td>\n",
       "      <td>7</td>\n",
       "      <td>00:04:01</td>\n",
       "      <td>241.0</td>\n",
       "    </tr>\n",
       "    <tr>\n",
       "      <th>1</th>\n",
       "      <td>0000a8602cf2def930488dee7cdad104_1</td>\n",
       "      <td>traj_0000a8602cf2def930488dee7cdad104_1_1</td>\n",
       "      <td>2021-03-22 07:20:34</td>\n",
       "      <td>2021-03-22 07:25:42</td>\n",
       "      <td>3.743937e+06</td>\n",
       "      <td>-1.932247e+07</td>\n",
       "      <td>3.744975e+06</td>\n",
       "      <td>-1.931966e+07</td>\n",
       "      <td>7</td>\n",
       "      <td>7</td>\n",
       "      <td>00:05:08</td>\n",
       "      <td>308.0</td>\n",
       "    </tr>\n",
       "    <tr>\n",
       "      <th>2</th>\n",
       "      <td>0000a8602cf2def930488dee7cdad104_1</td>\n",
       "      <td>traj_0000a8602cf2def930488dee7cdad104_1_2</td>\n",
       "      <td>2021-03-22 07:53:32</td>\n",
       "      <td>2021-03-22 08:03:25</td>\n",
       "      <td>3.744868e+06</td>\n",
       "      <td>-1.929356e+07</td>\n",
       "      <td>3.744816e+06</td>\n",
       "      <td>-1.929284e+07</td>\n",
       "      <td>7</td>\n",
       "      <td>8</td>\n",
       "      <td>00:09:53</td>\n",
       "      <td>593.0</td>\n",
       "    </tr>\n",
       "    <tr>\n",
       "      <th>3</th>\n",
       "      <td>0000a8602cf2def930488dee7cdad104_1</td>\n",
       "      <td>traj_0000a8602cf2def930488dee7cdad104_1_3</td>\n",
       "      <td>2021-03-22 08:17:50</td>\n",
       "      <td>2021-03-22 08:37:23</td>\n",
       "      <td>3.744880e+06</td>\n",
       "      <td>-1.929229e+07</td>\n",
       "      <td>3.744809e+06</td>\n",
       "      <td>-1.929049e+07</td>\n",
       "      <td>8</td>\n",
       "      <td>8</td>\n",
       "      <td>00:19:33</td>\n",
       "      <td>1173.0</td>\n",
       "    </tr>\n",
       "    <tr>\n",
       "      <th>4</th>\n",
       "      <td>0000a8602cf2def930488dee7cdad104_1</td>\n",
       "      <td>traj_0000a8602cf2def930488dee7cdad104_1_4</td>\n",
       "      <td>2021-03-22 14:38:09</td>\n",
       "      <td>2021-03-22 14:38:09</td>\n",
       "      <td>3.744909e+06</td>\n",
       "      <td>-1.928558e+07</td>\n",
       "      <td>3.744909e+06</td>\n",
       "      <td>-1.928558e+07</td>\n",
       "      <td>14</td>\n",
       "      <td>14</td>\n",
       "      <td>00:00:00</td>\n",
       "      <td>0.0</td>\n",
       "    </tr>\n",
       "  </tbody>\n",
       "</table>\n",
       "</div>"
      ],
      "text/plain": [
       "                                 hash  \\\n",
       "0  0000a8602cf2def930488dee7cdad104_1   \n",
       "1  0000a8602cf2def930488dee7cdad104_1   \n",
       "2  0000a8602cf2def930488dee7cdad104_1   \n",
       "3  0000a8602cf2def930488dee7cdad104_1   \n",
       "4  0000a8602cf2def930488dee7cdad104_1   \n",
       "\n",
       "                               trajectory_id          time_entry  \\\n",
       "0  traj_0000a8602cf2def930488dee7cdad104_1_0 2021-03-22 07:04:31   \n",
       "1  traj_0000a8602cf2def930488dee7cdad104_1_1 2021-03-22 07:20:34   \n",
       "2  traj_0000a8602cf2def930488dee7cdad104_1_2 2021-03-22 07:53:32   \n",
       "3  traj_0000a8602cf2def930488dee7cdad104_1_3 2021-03-22 08:17:50   \n",
       "4  traj_0000a8602cf2def930488dee7cdad104_1_4 2021-03-22 14:38:09   \n",
       "\n",
       "            time_exit       x_entry       y_entry        x_exit        y_exit  \\\n",
       "0 2021-03-22 07:08:32  3.751014e+06 -1.909398e+07  3.750326e+06 -1.913634e+07   \n",
       "1 2021-03-22 07:25:42  3.743937e+06 -1.932247e+07  3.744975e+06 -1.931966e+07   \n",
       "2 2021-03-22 08:03:25  3.744868e+06 -1.929356e+07  3.744816e+06 -1.929284e+07   \n",
       "3 2021-03-22 08:37:23  3.744880e+06 -1.929229e+07  3.744809e+06 -1.929049e+07   \n",
       "4 2021-03-22 14:38:09  3.744909e+06 -1.928558e+07  3.744909e+06 -1.928558e+07   \n",
       "\n",
       "   entry_hour  exit_hour duration  duration_s  \n",
       "0           7          7 00:04:01       241.0  \n",
       "1           7          7 00:05:08       308.0  \n",
       "2           7          8 00:09:53       593.0  \n",
       "3           8          8 00:19:33      1173.0  \n",
       "4          14         14 00:00:00         0.0  "
      ]
     },
     "execution_count": 33,
     "metadata": {},
     "output_type": "execute_result"
    }
   ],
   "source": [
    "df.head()"
   ]
  },
  {
   "cell_type": "code",
   "execution_count": 34,
   "metadata": {},
   "outputs": [
    {
     "name": "stdout",
     "output_type": "stream",
     "text": [
      "<class 'pandas.core.frame.DataFrame'>\n",
      "Int64Index: 814262 entries, 0 to 814261\n",
      "Data columns (total 12 columns):\n",
      " #   Column         Non-Null Count   Dtype          \n",
      "---  ------         --------------   -----          \n",
      " 0   hash           814262 non-null  object         \n",
      " 1   trajectory_id  814262 non-null  object         \n",
      " 2   time_entry     814262 non-null  datetime64[ns] \n",
      " 3   time_exit      814262 non-null  datetime64[ns] \n",
      " 4   x_entry        814262 non-null  float64        \n",
      " 5   y_entry        814262 non-null  float64        \n",
      " 6   x_exit         814262 non-null  float64        \n",
      " 7   y_exit         814262 non-null  float64        \n",
      " 8   entry_hour     814262 non-null  int64          \n",
      " 9   exit_hour      814262 non-null  int64          \n",
      " 10  duration       814262 non-null  timedelta64[ns]\n",
      " 11  duration_s     814262 non-null  float64        \n",
      "dtypes: datetime64[ns](2), float64(5), int64(2), object(2), timedelta64[ns](1)\n",
      "memory usage: 80.8+ MB\n"
     ]
    }
   ],
   "source": [
    "df.info()"
   ]
  },
  {
   "cell_type": "code",
   "execution_count": 35,
   "metadata": {},
   "outputs": [],
   "source": [
    "# df[df['entry_hour'] != df['exit_hour']]"
   ]
  },
  {
   "cell_type": "code",
   "execution_count": 35,
   "metadata": {},
   "outputs": [
    {
     "data": {
      "text/html": [
       "<div>\n",
       "<style scoped>\n",
       "    .dataframe tbody tr th:only-of-type {\n",
       "        vertical-align: middle;\n",
       "    }\n",
       "\n",
       "    .dataframe tbody tr th {\n",
       "        vertical-align: top;\n",
       "    }\n",
       "\n",
       "    .dataframe thead th {\n",
       "        text-align: right;\n",
       "    }\n",
       "</style>\n",
       "<table border=\"1\" class=\"dataframe\">\n",
       "  <thead>\n",
       "    <tr style=\"text-align: right;\">\n",
       "      <th></th>\n",
       "      <th>hash</th>\n",
       "      <th>trajectory_id</th>\n",
       "      <th>time_entry</th>\n",
       "      <th>time_exit</th>\n",
       "      <th>x_entry</th>\n",
       "      <th>y_entry</th>\n",
       "      <th>x_exit</th>\n",
       "      <th>y_exit</th>\n",
       "      <th>entry_hour</th>\n",
       "      <th>exit_hour</th>\n",
       "      <th>duration</th>\n",
       "      <th>duration_s</th>\n",
       "    </tr>\n",
       "  </thead>\n",
       "  <tbody>\n",
       "    <tr>\n",
       "      <th>286283</th>\n",
       "      <td>59cccdcfeb502d705f22ae61fcc71327_3</td>\n",
       "      <td>traj_59cccdcfeb502d705f22ae61fcc71327_3_0</td>\n",
       "      <td>2021-03-22 06:05:03</td>\n",
       "      <td>2021-03-22 12:54:40</td>\n",
       "      <td>3.765199e+06</td>\n",
       "      <td>-1.934859e+07</td>\n",
       "      <td>3.767044e+06</td>\n",
       "      <td>-1.934461e+07</td>\n",
       "      <td>6</td>\n",
       "      <td>12</td>\n",
       "      <td>06:49:37</td>\n",
       "      <td>24577.0</td>\n",
       "    </tr>\n",
       "  </tbody>\n",
       "</table>\n",
       "</div>"
      ],
      "text/plain": [
       "                                      hash  \\\n",
       "286283  59cccdcfeb502d705f22ae61fcc71327_3   \n",
       "\n",
       "                                    trajectory_id          time_entry  \\\n",
       "286283  traj_59cccdcfeb502d705f22ae61fcc71327_3_0 2021-03-22 06:05:03   \n",
       "\n",
       "                 time_exit       x_entry       y_entry        x_exit  \\\n",
       "286283 2021-03-22 12:54:40  3.765199e+06 -1.934859e+07  3.767044e+06   \n",
       "\n",
       "              y_exit  entry_hour  exit_hour duration  duration_s  \n",
       "286283 -1.934461e+07           6         12 06:49:37     24577.0  "
      ]
     },
     "execution_count": 35,
     "metadata": {},
     "output_type": "execute_result"
    }
   ],
   "source": [
    "df[df['duration'] == df['duration'].max()]"
   ]
  },
  {
   "cell_type": "markdown",
   "metadata": {},
   "source": [
    "### Insight\n",
    "\n",
    "The longest duration, 24577 seconds, or more than 6 hours happens in the period of 6.00 to 12.00.\n",
    "\n",
    "The goal of this analysis and modeling is device's ID that is being in the certain location between 15.00 and 16.00.\n",
    "\n",
    "Device's ID (trajectory) that is already left the point before 15.00 are not target device to be reviewed whether being in the city center of Atlanta or not."
   ]
  },
  {
   "cell_type": "code",
   "execution_count": 36,
   "metadata": {},
   "outputs": [],
   "source": [
    "in_range = df[df['exit_hour'] >= 15]"
   ]
  },
  {
   "cell_type": "code",
   "execution_count": 37,
   "metadata": {},
   "outputs": [
    {
     "data": {
      "text/html": [
       "<div>\n",
       "<style scoped>\n",
       "    .dataframe tbody tr th:only-of-type {\n",
       "        vertical-align: middle;\n",
       "    }\n",
       "\n",
       "    .dataframe tbody tr th {\n",
       "        vertical-align: top;\n",
       "    }\n",
       "\n",
       "    .dataframe thead th {\n",
       "        text-align: right;\n",
       "    }\n",
       "</style>\n",
       "<table border=\"1\" class=\"dataframe\">\n",
       "  <thead>\n",
       "    <tr style=\"text-align: right;\">\n",
       "      <th></th>\n",
       "      <th>hash</th>\n",
       "      <th>trajectory_id</th>\n",
       "      <th>time_entry</th>\n",
       "      <th>time_exit</th>\n",
       "      <th>x_entry</th>\n",
       "      <th>y_entry</th>\n",
       "      <th>x_exit</th>\n",
       "      <th>y_exit</th>\n",
       "      <th>entry_hour</th>\n",
       "      <th>exit_hour</th>\n",
       "      <th>duration</th>\n",
       "      <th>duration_s</th>\n",
       "    </tr>\n",
       "  </thead>\n",
       "  <tbody>\n",
       "    <tr>\n",
       "      <th>5</th>\n",
       "      <td>0000a8602cf2def930488dee7cdad104_1</td>\n",
       "      <td>traj_0000a8602cf2def930488dee7cdad104_1_5</td>\n",
       "      <td>2021-03-22 15:02:31</td>\n",
       "      <td>2021-03-22 15:18:33</td>\n",
       "      <td>3.744945e+06</td>\n",
       "      <td>-1.928183e+07</td>\n",
       "      <td>3.744785e+06</td>\n",
       "      <td>-1.928148e+07</td>\n",
       "      <td>15</td>\n",
       "      <td>15</td>\n",
       "      <td>00:16:02</td>\n",
       "      <td>962.0</td>\n",
       "    </tr>\n",
       "    <tr>\n",
       "      <th>9</th>\n",
       "      <td>0000cf177130469eeac79f67b6bcf3df_9</td>\n",
       "      <td>traj_0000cf177130469eeac79f67b6bcf3df_9_3</td>\n",
       "      <td>2021-03-22 15:00:32</td>\n",
       "      <td>2021-03-22 15:29:48</td>\n",
       "      <td>3.749088e+06</td>\n",
       "      <td>-1.926605e+07</td>\n",
       "      <td>3.749610e+06</td>\n",
       "      <td>-1.926594e+07</td>\n",
       "      <td>15</td>\n",
       "      <td>15</td>\n",
       "      <td>00:29:16</td>\n",
       "      <td>1756.0</td>\n",
       "    </tr>\n",
       "    <tr>\n",
       "      <th>11</th>\n",
       "      <td>0001f97b99a80f18f62e2d44e54ef33d_3</td>\n",
       "      <td>traj_0001f97b99a80f18f62e2d44e54ef33d_3_1</td>\n",
       "      <td>2021-03-22 14:34:35</td>\n",
       "      <td>2021-03-22 15:19:51</td>\n",
       "      <td>3.758738e+06</td>\n",
       "      <td>-1.937594e+07</td>\n",
       "      <td>3.769687e+06</td>\n",
       "      <td>-1.914258e+07</td>\n",
       "      <td>14</td>\n",
       "      <td>15</td>\n",
       "      <td>00:45:16</td>\n",
       "      <td>2716.0</td>\n",
       "    </tr>\n",
       "    <tr>\n",
       "      <th>20</th>\n",
       "      <td>0002124248b0ca510dea42824723ccac_31</td>\n",
       "      <td>traj_0002124248b0ca510dea42824723ccac_31_10</td>\n",
       "      <td>2021-03-22 15:28:54</td>\n",
       "      <td>2021-03-22 15:28:54</td>\n",
       "      <td>3.767866e+06</td>\n",
       "      <td>-1.917797e+07</td>\n",
       "      <td>3.767866e+06</td>\n",
       "      <td>-1.917797e+07</td>\n",
       "      <td>15</td>\n",
       "      <td>15</td>\n",
       "      <td>00:00:00</td>\n",
       "      <td>0.0</td>\n",
       "    </tr>\n",
       "    <tr>\n",
       "      <th>28</th>\n",
       "      <td>000219c2a6380c307e8bffd85b5e404b_23</td>\n",
       "      <td>traj_000219c2a6380c307e8bffd85b5e404b_23_16</td>\n",
       "      <td>2021-03-22 15:08:05</td>\n",
       "      <td>2021-03-22 15:08:05</td>\n",
       "      <td>3.747641e+06</td>\n",
       "      <td>-1.922695e+07</td>\n",
       "      <td>3.747641e+06</td>\n",
       "      <td>-1.922695e+07</td>\n",
       "      <td>15</td>\n",
       "      <td>15</td>\n",
       "      <td>00:00:00</td>\n",
       "      <td>0.0</td>\n",
       "    </tr>\n",
       "  </tbody>\n",
       "</table>\n",
       "</div>"
      ],
      "text/plain": [
       "                                   hash  \\\n",
       "5    0000a8602cf2def930488dee7cdad104_1   \n",
       "9    0000cf177130469eeac79f67b6bcf3df_9   \n",
       "11   0001f97b99a80f18f62e2d44e54ef33d_3   \n",
       "20  0002124248b0ca510dea42824723ccac_31   \n",
       "28  000219c2a6380c307e8bffd85b5e404b_23   \n",
       "\n",
       "                                  trajectory_id          time_entry  \\\n",
       "5     traj_0000a8602cf2def930488dee7cdad104_1_5 2021-03-22 15:02:31   \n",
       "9     traj_0000cf177130469eeac79f67b6bcf3df_9_3 2021-03-22 15:00:32   \n",
       "11    traj_0001f97b99a80f18f62e2d44e54ef33d_3_1 2021-03-22 14:34:35   \n",
       "20  traj_0002124248b0ca510dea42824723ccac_31_10 2021-03-22 15:28:54   \n",
       "28  traj_000219c2a6380c307e8bffd85b5e404b_23_16 2021-03-22 15:08:05   \n",
       "\n",
       "             time_exit       x_entry       y_entry        x_exit  \\\n",
       "5  2021-03-22 15:18:33  3.744945e+06 -1.928183e+07  3.744785e+06   \n",
       "9  2021-03-22 15:29:48  3.749088e+06 -1.926605e+07  3.749610e+06   \n",
       "11 2021-03-22 15:19:51  3.758738e+06 -1.937594e+07  3.769687e+06   \n",
       "20 2021-03-22 15:28:54  3.767866e+06 -1.917797e+07  3.767866e+06   \n",
       "28 2021-03-22 15:08:05  3.747641e+06 -1.922695e+07  3.747641e+06   \n",
       "\n",
       "          y_exit  entry_hour  exit_hour duration  duration_s  \n",
       "5  -1.928148e+07          15         15 00:16:02       962.0  \n",
       "9  -1.926594e+07          15         15 00:29:16      1756.0  \n",
       "11 -1.914258e+07          14         15 00:45:16      2716.0  \n",
       "20 -1.917797e+07          15         15 00:00:00         0.0  \n",
       "28 -1.922695e+07          15         15 00:00:00         0.0  "
      ]
     },
     "execution_count": 37,
     "metadata": {},
     "output_type": "execute_result"
    }
   ],
   "source": [
    "in_range.head()"
   ]
  },
  {
   "cell_type": "code",
   "execution_count": 38,
   "metadata": {},
   "outputs": [
    {
     "name": "stdout",
     "output_type": "stream",
     "text": [
      "<class 'pandas.core.frame.DataFrame'>\n",
      "Int64Index: 134063 entries, 5 to 814261\n",
      "Data columns (total 12 columns):\n",
      " #   Column         Non-Null Count   Dtype          \n",
      "---  ------         --------------   -----          \n",
      " 0   hash           134063 non-null  object         \n",
      " 1   trajectory_id  134063 non-null  object         \n",
      " 2   time_entry     134063 non-null  datetime64[ns] \n",
      " 3   time_exit      134063 non-null  datetime64[ns] \n",
      " 4   x_entry        134063 non-null  float64        \n",
      " 5   y_entry        134063 non-null  float64        \n",
      " 6   x_exit         134063 non-null  float64        \n",
      " 7   y_exit         134063 non-null  float64        \n",
      " 8   entry_hour     134063 non-null  int64          \n",
      " 9   exit_hour      134063 non-null  int64          \n",
      " 10  duration       134063 non-null  timedelta64[ns]\n",
      " 11  duration_s     134063 non-null  float64        \n",
      "dtypes: datetime64[ns](2), float64(5), int64(2), object(2), timedelta64[ns](1)\n",
      "memory usage: 13.3+ MB\n"
     ]
    }
   ],
   "source": [
    "in_range.info()"
   ]
  },
  {
   "cell_type": "code",
   "execution_count": 39,
   "metadata": {},
   "outputs": [
    {
     "data": {
      "text/html": [
       "<div>\n",
       "<style scoped>\n",
       "    .dataframe tbody tr th:only-of-type {\n",
       "        vertical-align: middle;\n",
       "    }\n",
       "\n",
       "    .dataframe tbody tr th {\n",
       "        vertical-align: top;\n",
       "    }\n",
       "\n",
       "    .dataframe thead th {\n",
       "        text-align: right;\n",
       "    }\n",
       "</style>\n",
       "<table border=\"1\" class=\"dataframe\">\n",
       "  <thead>\n",
       "    <tr style=\"text-align: right;\">\n",
       "      <th></th>\n",
       "      <th>count</th>\n",
       "      <th>mean</th>\n",
       "      <th>std</th>\n",
       "      <th>min</th>\n",
       "      <th>25%</th>\n",
       "      <th>50%</th>\n",
       "      <th>75%</th>\n",
       "      <th>max</th>\n",
       "    </tr>\n",
       "  </thead>\n",
       "  <tbody>\n",
       "    <tr>\n",
       "      <th>x_entry</th>\n",
       "      <td>134063</td>\n",
       "      <td>3.76046e+06</td>\n",
       "      <td>9139.15</td>\n",
       "      <td>3.74103e+06</td>\n",
       "      <td>3.75514e+06</td>\n",
       "      <td>3.76018e+06</td>\n",
       "      <td>3.76769e+06</td>\n",
       "      <td>3.7771e+06</td>\n",
       "    </tr>\n",
       "    <tr>\n",
       "      <th>y_entry</th>\n",
       "      <td>134063</td>\n",
       "      <td>-1.9222e+07</td>\n",
       "      <td>76162.6</td>\n",
       "      <td>-1.93767e+07</td>\n",
       "      <td>-1.92762e+07</td>\n",
       "      <td>-1.92303e+07</td>\n",
       "      <td>-1.91716e+07</td>\n",
       "      <td>-1.90469e+07</td>\n",
       "    </tr>\n",
       "    <tr>\n",
       "      <th>x_exit</th>\n",
       "      <td>134063</td>\n",
       "      <td>3.76044e+06</td>\n",
       "      <td>9245.82</td>\n",
       "      <td>3.74103e+06</td>\n",
       "      <td>3.75475e+06</td>\n",
       "      <td>3.76013e+06</td>\n",
       "      <td>3.76777e+06</td>\n",
       "      <td>3.77705e+06</td>\n",
       "    </tr>\n",
       "    <tr>\n",
       "      <th>y_exit</th>\n",
       "      <td>134063</td>\n",
       "      <td>-1.92215e+07</td>\n",
       "      <td>78329</td>\n",
       "      <td>-1.93768e+07</td>\n",
       "      <td>-1.92783e+07</td>\n",
       "      <td>-1.923e+07</td>\n",
       "      <td>-1.91672e+07</td>\n",
       "      <td>-1.90467e+07</td>\n",
       "    </tr>\n",
       "    <tr>\n",
       "      <th>entry_hour</th>\n",
       "      <td>134063</td>\n",
       "      <td>14.8609</td>\n",
       "      <td>0.352727</td>\n",
       "      <td>10</td>\n",
       "      <td>15</td>\n",
       "      <td>15</td>\n",
       "      <td>15</td>\n",
       "      <td>16</td>\n",
       "    </tr>\n",
       "    <tr>\n",
       "      <th>exit_hour</th>\n",
       "      <td>134063</td>\n",
       "      <td>15.0002</td>\n",
       "      <td>0.0139249</td>\n",
       "      <td>15</td>\n",
       "      <td>15</td>\n",
       "      <td>15</td>\n",
       "      <td>15</td>\n",
       "      <td>16</td>\n",
       "    </tr>\n",
       "    <tr>\n",
       "      <th>duration</th>\n",
       "      <td>134063</td>\n",
       "      <td>0 days 00:06:55.005146</td>\n",
       "      <td>0 days 00:11:40.589215</td>\n",
       "      <td>0 days 00:00:00</td>\n",
       "      <td>0 days 00:00:00</td>\n",
       "      <td>0 days 00:00:01</td>\n",
       "      <td>0 days 00:09:54</td>\n",
       "      <td>0 days 05:19:00</td>\n",
       "    </tr>\n",
       "    <tr>\n",
       "      <th>duration_s</th>\n",
       "      <td>134063</td>\n",
       "      <td>415.005</td>\n",
       "      <td>700.589</td>\n",
       "      <td>0</td>\n",
       "      <td>0</td>\n",
       "      <td>1</td>\n",
       "      <td>594</td>\n",
       "      <td>19140</td>\n",
       "    </tr>\n",
       "  </tbody>\n",
       "</table>\n",
       "</div>"
      ],
      "text/plain": [
       "             count                    mean                     std  \\\n",
       "x_entry     134063             3.76046e+06                 9139.15   \n",
       "y_entry     134063             -1.9222e+07                 76162.6   \n",
       "x_exit      134063             3.76044e+06                 9245.82   \n",
       "y_exit      134063            -1.92215e+07                   78329   \n",
       "entry_hour  134063                 14.8609                0.352727   \n",
       "exit_hour   134063                 15.0002               0.0139249   \n",
       "duration    134063  0 days 00:06:55.005146  0 days 00:11:40.589215   \n",
       "duration_s  134063                 415.005                 700.589   \n",
       "\n",
       "                        min              25%              50%  \\\n",
       "x_entry         3.74103e+06      3.75514e+06      3.76018e+06   \n",
       "y_entry        -1.93767e+07     -1.92762e+07     -1.92303e+07   \n",
       "x_exit          3.74103e+06      3.75475e+06      3.76013e+06   \n",
       "y_exit         -1.93768e+07     -1.92783e+07       -1.923e+07   \n",
       "entry_hour               10               15               15   \n",
       "exit_hour                15               15               15   \n",
       "duration    0 days 00:00:00  0 days 00:00:00  0 days 00:00:01   \n",
       "duration_s                0                0                1   \n",
       "\n",
       "                        75%              max  \n",
       "x_entry         3.76769e+06       3.7771e+06  \n",
       "y_entry        -1.91716e+07     -1.90469e+07  \n",
       "x_exit          3.76777e+06      3.77705e+06  \n",
       "y_exit         -1.91672e+07     -1.90467e+07  \n",
       "entry_hour               15               16  \n",
       "exit_hour                15               16  \n",
       "duration    0 days 00:09:54  0 days 05:19:00  \n",
       "duration_s              594            19140  "
      ]
     },
     "execution_count": 39,
     "metadata": {},
     "output_type": "execute_result"
    }
   ],
   "source": [
    "in_range.describe().T"
   ]
  },
  {
   "cell_type": "code",
   "execution_count": 40,
   "metadata": {},
   "outputs": [
    {
     "data": {
      "text/html": [
       "<div>\n",
       "<style scoped>\n",
       "    .dataframe tbody tr th:only-of-type {\n",
       "        vertical-align: middle;\n",
       "    }\n",
       "\n",
       "    .dataframe tbody tr th {\n",
       "        vertical-align: top;\n",
       "    }\n",
       "\n",
       "    .dataframe thead th {\n",
       "        text-align: right;\n",
       "    }\n",
       "</style>\n",
       "<table border=\"1\" class=\"dataframe\">\n",
       "  <thead>\n",
       "    <tr style=\"text-align: right;\">\n",
       "      <th></th>\n",
       "      <th>count</th>\n",
       "      <th>unique</th>\n",
       "      <th>top</th>\n",
       "      <th>freq</th>\n",
       "    </tr>\n",
       "  </thead>\n",
       "  <tbody>\n",
       "    <tr>\n",
       "      <th>hash</th>\n",
       "      <td>134063</td>\n",
       "      <td>134063</td>\n",
       "      <td>9ee5b9f74e1e4f11302400f99305a5b0_1</td>\n",
       "      <td>1</td>\n",
       "    </tr>\n",
       "    <tr>\n",
       "      <th>trajectory_id</th>\n",
       "      <td>134063</td>\n",
       "      <td>134063</td>\n",
       "      <td>traj_6127f04d7fdc1eb5670fcbbc2ba53792_19_4</td>\n",
       "      <td>1</td>\n",
       "    </tr>\n",
       "  </tbody>\n",
       "</table>\n",
       "</div>"
      ],
      "text/plain": [
       "                count  unique                                         top freq\n",
       "hash           134063  134063          9ee5b9f74e1e4f11302400f99305a5b0_1    1\n",
       "trajectory_id  134063  134063  traj_6127f04d7fdc1eb5670fcbbc2ba53792_19_4    1"
      ]
     },
     "execution_count": 40,
     "metadata": {},
     "output_type": "execute_result"
    }
   ],
   "source": [
    "in_range.describe(include='O').T"
   ]
  },
  {
   "cell_type": "code",
   "execution_count": 41,
   "metadata": {},
   "outputs": [
    {
     "data": {
      "text/plain": [
       "14    18237\n",
       "13      164\n",
       "12       23\n",
       "11        5\n",
       "10        3\n",
       "Name: entry_hour, dtype: int64"
      ]
     },
     "execution_count": 41,
     "metadata": {},
     "output_type": "execute_result"
    }
   ],
   "source": [
    "in_range[in_range['entry_hour'] < 15]['entry_hour'].value_counts()"
   ]
  },
  {
   "cell_type": "code",
   "execution_count": 42,
   "metadata": {},
   "outputs": [
    {
     "data": {
      "text/plain": [
       "count                  134063\n",
       "unique                   3601\n",
       "top       2021-03-22 15:07:03\n",
       "freq                      104\n",
       "first     2021-03-22 15:00:00\n",
       "last      2021-03-22 16:00:00\n",
       "Name: time_exit, dtype: object"
      ]
     },
     "execution_count": 42,
     "metadata": {},
     "output_type": "execute_result"
    }
   ],
   "source": [
    "in_range['time_exit'].describe()"
   ]
  },
  {
   "cell_type": "code",
   "execution_count": 43,
   "metadata": {},
   "outputs": [
    {
     "data": {
      "text/plain": [
       "count                  134063\n",
       "unique                   6321\n",
       "top       2021-03-22 15:03:00\n",
       "freq                      103\n",
       "first     2021-03-22 10:33:25\n",
       "last      2021-03-22 16:00:00\n",
       "Name: time_entry, dtype: object"
      ]
     },
     "execution_count": 43,
     "metadata": {},
     "output_type": "execute_result"
    }
   ],
   "source": [
    "in_range['time_entry'].describe()"
   ]
  },
  {
   "cell_type": "code",
   "execution_count": 45,
   "metadata": {},
   "outputs": [
    {
     "data": {
      "text/plain": [
       "hash             0\n",
       "trajectory_id    0\n",
       "time_entry       0\n",
       "time_exit        0\n",
       "x_entry          0\n",
       "y_entry          0\n",
       "x_exit           0\n",
       "y_exit           0\n",
       "entry_hour       0\n",
       "exit_hour        0\n",
       "duration         0\n",
       "duration_s       0\n",
       "dtype: int64"
      ]
     },
     "execution_count": 45,
     "metadata": {},
     "output_type": "execute_result"
    }
   ],
   "source": [
    "df.isnull().sum()"
   ]
  },
  {
   "cell_type": "markdown",
   "metadata": {},
   "source": [
    "# ** FEATURE ENGINEERING & FEATURE SELECTION **\n",
    "\n",
    "Target column: exit point (x and y)"
   ]
  },
  {
   "cell_type": "code",
   "execution_count": 48,
   "metadata": {},
   "outputs": [
    {
     "data": {
      "text/html": [
       "<div>\n",
       "<style scoped>\n",
       "    .dataframe tbody tr th:only-of-type {\n",
       "        vertical-align: middle;\n",
       "    }\n",
       "\n",
       "    .dataframe tbody tr th {\n",
       "        vertical-align: top;\n",
       "    }\n",
       "\n",
       "    .dataframe thead th {\n",
       "        text-align: right;\n",
       "    }\n",
       "</style>\n",
       "<table border=\"1\" class=\"dataframe\">\n",
       "  <thead>\n",
       "    <tr style=\"text-align: right;\">\n",
       "      <th></th>\n",
       "      <th>count</th>\n",
       "      <th>unique</th>\n",
       "      <th>top</th>\n",
       "      <th>freq</th>\n",
       "    </tr>\n",
       "  </thead>\n",
       "  <tbody>\n",
       "    <tr>\n",
       "      <th>hash</th>\n",
       "      <td>814262</td>\n",
       "      <td>134063</td>\n",
       "      <td>679e95292c197c82fe7d93be0ca700b8_25</td>\n",
       "      <td>20</td>\n",
       "    </tr>\n",
       "    <tr>\n",
       "      <th>trajectory_id</th>\n",
       "      <td>814262</td>\n",
       "      <td>814262</td>\n",
       "      <td>traj_3b97f344ace06ede76d716e84d806bc6_9_2</td>\n",
       "      <td>1</td>\n",
       "    </tr>\n",
       "  </tbody>\n",
       "</table>\n",
       "</div>"
      ],
      "text/plain": [
       "                count  unique                                        top freq\n",
       "hash           814262  134063        679e95292c197c82fe7d93be0ca700b8_25   20\n",
       "trajectory_id  814262  814262  traj_3b97f344ace06ede76d716e84d806bc6_9_2    1"
      ]
     },
     "execution_count": 48,
     "metadata": {},
     "output_type": "execute_result"
    }
   ],
   "source": [
    "df.describe(include='O').T"
   ]
  },
  {
   "cell_type": "code",
   "execution_count": 87,
   "metadata": {},
   "outputs": [
    {
     "data": {
      "text/plain": [
       "814262"
      ]
     },
     "execution_count": 87,
     "metadata": {},
     "output_type": "execute_result"
    }
   ],
   "source": [
    "df['trajectory_id'].nunique()"
   ]
  },
  {
   "cell_type": "code",
   "execution_count": 88,
   "metadata": {},
   "outputs": [
    {
     "data": {
      "text/plain": [
       "134063"
      ]
     },
     "execution_count": 88,
     "metadata": {},
     "output_type": "execute_result"
    }
   ],
   "source": [
    "df['hash'].nunique()"
   ]
  },
  {
   "cell_type": "markdown",
   "metadata": {},
   "source": [
    "Since we only analyse device's ID represented by trajectory_id, 'hash' feature assumed to give similar information as trajectory_id, therefore this can be eliminated for further analysis and modeling."
   ]
  },
  {
   "cell_type": "code",
   "execution_count": 102,
   "metadata": {},
   "outputs": [
    {
     "data": {
      "text/html": [
       "<div>\n",
       "<style scoped>\n",
       "    .dataframe tbody tr th:only-of-type {\n",
       "        vertical-align: middle;\n",
       "    }\n",
       "\n",
       "    .dataframe tbody tr th {\n",
       "        vertical-align: top;\n",
       "    }\n",
       "\n",
       "    .dataframe thead th {\n",
       "        text-align: right;\n",
       "    }\n",
       "</style>\n",
       "<table border=\"1\" class=\"dataframe\">\n",
       "  <thead>\n",
       "    <tr style=\"text-align: right;\">\n",
       "      <th></th>\n",
       "      <th>trajectory_id</th>\n",
       "      <th>x_entry</th>\n",
       "      <th>y_entry</th>\n",
       "      <th>x_exit</th>\n",
       "      <th>y_exit</th>\n",
       "      <th>entry_hour</th>\n",
       "      <th>exit_hour</th>\n",
       "      <th>duration_s</th>\n",
       "    </tr>\n",
       "  </thead>\n",
       "  <tbody>\n",
       "    <tr>\n",
       "      <th>0</th>\n",
       "      <td>traj_0000a8602cf2def930488dee7cdad104_1_0</td>\n",
       "      <td>3.751014e+06</td>\n",
       "      <td>-1.909398e+07</td>\n",
       "      <td>3.750326e+06</td>\n",
       "      <td>-1.913634e+07</td>\n",
       "      <td>7</td>\n",
       "      <td>7</td>\n",
       "      <td>241.0</td>\n",
       "    </tr>\n",
       "    <tr>\n",
       "      <th>1</th>\n",
       "      <td>traj_0000a8602cf2def930488dee7cdad104_1_1</td>\n",
       "      <td>3.743937e+06</td>\n",
       "      <td>-1.932247e+07</td>\n",
       "      <td>3.744975e+06</td>\n",
       "      <td>-1.931966e+07</td>\n",
       "      <td>7</td>\n",
       "      <td>7</td>\n",
       "      <td>308.0</td>\n",
       "    </tr>\n",
       "    <tr>\n",
       "      <th>2</th>\n",
       "      <td>traj_0000a8602cf2def930488dee7cdad104_1_2</td>\n",
       "      <td>3.744868e+06</td>\n",
       "      <td>-1.929356e+07</td>\n",
       "      <td>3.744816e+06</td>\n",
       "      <td>-1.929284e+07</td>\n",
       "      <td>7</td>\n",
       "      <td>8</td>\n",
       "      <td>593.0</td>\n",
       "    </tr>\n",
       "    <tr>\n",
       "      <th>3</th>\n",
       "      <td>traj_0000a8602cf2def930488dee7cdad104_1_3</td>\n",
       "      <td>3.744880e+06</td>\n",
       "      <td>-1.929229e+07</td>\n",
       "      <td>3.744809e+06</td>\n",
       "      <td>-1.929049e+07</td>\n",
       "      <td>8</td>\n",
       "      <td>8</td>\n",
       "      <td>1173.0</td>\n",
       "    </tr>\n",
       "    <tr>\n",
       "      <th>4</th>\n",
       "      <td>traj_0000a8602cf2def930488dee7cdad104_1_4</td>\n",
       "      <td>3.744909e+06</td>\n",
       "      <td>-1.928558e+07</td>\n",
       "      <td>3.744909e+06</td>\n",
       "      <td>-1.928558e+07</td>\n",
       "      <td>14</td>\n",
       "      <td>14</td>\n",
       "      <td>0.0</td>\n",
       "    </tr>\n",
       "  </tbody>\n",
       "</table>\n",
       "</div>"
      ],
      "text/plain": [
       "                               trajectory_id       x_entry       y_entry  \\\n",
       "0  traj_0000a8602cf2def930488dee7cdad104_1_0  3.751014e+06 -1.909398e+07   \n",
       "1  traj_0000a8602cf2def930488dee7cdad104_1_1  3.743937e+06 -1.932247e+07   \n",
       "2  traj_0000a8602cf2def930488dee7cdad104_1_2  3.744868e+06 -1.929356e+07   \n",
       "3  traj_0000a8602cf2def930488dee7cdad104_1_3  3.744880e+06 -1.929229e+07   \n",
       "4  traj_0000a8602cf2def930488dee7cdad104_1_4  3.744909e+06 -1.928558e+07   \n",
       "\n",
       "         x_exit        y_exit  entry_hour  exit_hour  duration_s  \n",
       "0  3.750326e+06 -1.913634e+07           7          7       241.0  \n",
       "1  3.744975e+06 -1.931966e+07           7          7       308.0  \n",
       "2  3.744816e+06 -1.929284e+07           7          8       593.0  \n",
       "3  3.744809e+06 -1.929049e+07           8          8      1173.0  \n",
       "4  3.744909e+06 -1.928558e+07          14         14         0.0  "
      ]
     },
     "execution_count": 102,
     "metadata": {},
     "output_type": "execute_result"
    }
   ],
   "source": [
    "train = df.drop(columns=['hash', 'time_entry', 'time_exit', 'duration'])\n",
    "train.head()"
   ]
  },
  {
   "cell_type": "code",
   "execution_count": 114,
   "metadata": {},
   "outputs": [],
   "source": [
    "# train.to_csv('train_reg.csv')"
   ]
  },
  {
   "cell_type": "code",
   "execution_count": 92,
   "metadata": {},
   "outputs": [
    {
     "data": {
      "image/png": "[encoded data removed]",
      "text/plain": [
       "<Figure size 1080x576 with 2 Axes>"
      ]
     },
     "metadata": {},
     "output_type": "display_data"
    }
   ],
   "source": [
    "plt.figure(figsize=(15, 8))\n",
    "sns.heatmap(train.corr(), annot=True)\n",
    "plt.show()"
   ]
  },
  {
   "cell_type": "code",
   "execution_count": null,
   "metadata": {},
   "outputs": [],
   "source": []
  },
  {
   "cell_type": "markdown",
   "metadata": {},
   "source": [
    "# ** Train Test Split **\n",
    "\n",
    "## 1. Predict x_exit"
   ]
  },
  {
   "cell_type": "code",
   "execution_count": 103,
   "metadata": {},
   "outputs": [],
   "source": [
    "from sklearn.model_selection import train_test_split"
   ]
  },
  {
   "cell_type": "code",
   "execution_count": 104,
   "metadata": {},
   "outputs": [],
   "source": [
    "X = train.drop(columns=['x_exit', 'y_exit'])\n",
    "y = train['x_exit']"
   ]
  },
  {
   "cell_type": "code",
   "execution_count": 95,
   "metadata": {},
   "outputs": [],
   "source": [
    "X_train, X_test, y_train, y_test = train_test_split(X, y, test_size=0.3, random_state=42)"
   ]
  },
  {
   "cell_type": "markdown",
   "metadata": {},
   "source": [
    "### 1. LinearRegression"
   ]
  },
  {
   "cell_type": "code",
   "execution_count": 105,
   "metadata": {},
   "outputs": [],
   "source": [
    "from sklearn.linear_model import LinearRegression, Ridge\n",
    "from sklearn.pipeline import Pipeline\n",
    "from sklearn.preprocessing import StandardScaler, RobustScaler, OneHotEncoder\n",
    "from sklearn.compose import ColumnTransformer"
   ]
  },
  {
   "cell_type": "code",
   "execution_count": 106,
   "metadata": {},
   "outputs": [
    {
     "name": "stdout",
     "output_type": "stream",
     "text": [
      "<class 'pandas.core.frame.DataFrame'>\n",
      "Int64Index: 569983 entries, 333923 to 121958\n",
      "Data columns (total 6 columns):\n",
      " #   Column         Non-Null Count   Dtype  \n",
      "---  ------         --------------   -----  \n",
      " 0   trajectory_id  569983 non-null  object \n",
      " 1   x_entry        569983 non-null  float64\n",
      " 2   y_entry        569983 non-null  float64\n",
      " 3   entry_hour     569983 non-null  int64  \n",
      " 4   exit_hour      569983 non-null  int64  \n",
      " 5   duration_s     569983 non-null  float64\n",
      "dtypes: float64(3), int64(2), object(1)\n",
      "memory usage: 30.4+ MB\n"
     ]
    }
   ],
   "source": [
    "X_train.info()"
   ]
  },
  {
   "cell_type": "code",
   "execution_count": 110,
   "metadata": {},
   "outputs": [],
   "source": [
    "scaledLin = Pipeline([\n",
    "    ('algo', LinearRegression())\n",
    "])"
   ]
  },
  {
   "cell_type": "code",
   "execution_count": 115,
   "metadata": {},
   "outputs": [
    {
     "data": {
      "text/plain": [
       "Pipeline(steps=[('prep',\n",
       "                 ColumnTransformer(remainder='passthrough',\n",
       "                                   transformers=[('encode', OneHotEncoder(),\n",
       "                                                  ['trajectory_id'])])),\n",
       "                ('algo', LinearRegression())])"
      ]
     },
     "execution_count": 115,
     "metadata": {},
     "output_type": "execute_result"
    }
   ],
   "source": [
    "scaledLin.fit(X_train, y_train)"
   ]
  },
  {
   "cell_type": "code",
   "execution_count": 119,
   "metadata": {},
   "outputs": [],
   "source": [
    "y_predReg = scaledLin.predict(X_test)"
   ]
  },
  {
   "cell_type": "code",
   "execution_count": 152,
   "metadata": {},
   "outputs": [],
   "source": [
    "# Evaluation\n",
    "\n",
    "from sklearn.metrics import r2_score"
   ]
  },
  {
   "cell_type": "code",
   "execution_count": 153,
   "metadata": {},
   "outputs": [
    {
     "data": {
      "text/plain": [
       "0.8284390278368062"
      ]
     },
     "execution_count": 153,
     "metadata": {},
     "output_type": "execute_result"
    }
   ],
   "source": [
    "r2_score(y_test, y_predReg)"
   ]
  },
  {
   "cell_type": "markdown",
   "metadata": {},
   "source": [
    "### 2. Linear Regression with Scaler"
   ]
  },
  {
   "cell_type": "code",
   "execution_count": 120,
   "metadata": {},
   "outputs": [],
   "source": [
    "prep = ColumnTransformer([\n",
    "    ('scale', StandardScaler(), ['x_entry', 'y_entry', 'entry_hour', 'exit_hour', 'duration_s']),\n",
    "    ('encode', OneHotEncoder(), ['trajectory_id'])\n",
    "])\n",
    "\n",
    "scaledLin = Pipeline([\n",
    "    ('transform', prep),\n",
    "    ('algo', LinearRegression())\n",
    "])"
   ]
  },
  {
   "cell_type": "code",
   "execution_count": 121,
   "metadata": {},
   "outputs": [
    {
     "data": {
      "text/plain": [
       "Pipeline(steps=[('transform',\n",
       "                 ColumnTransformer(transformers=[('scale', StandardScaler(),\n",
       "                                                  ['x_entry', 'y_entry',\n",
       "                                                   'entry_hour', 'exit_hour',\n",
       "                                                   'duration_s']),\n",
       "                                                 ('encode', OneHotEncoder(),\n",
       "                                                  ['trajectory_id'])])),\n",
       "                ('algo', LinearRegression())])"
      ]
     },
     "execution_count": 121,
     "metadata": {},
     "output_type": "execute_result"
    }
   ],
   "source": [
    "scaledLin.fit(X_train, y_train)"
   ]
  },
  {
   "cell_type": "code",
   "execution_count": 123,
   "metadata": {},
   "outputs": [],
   "source": [
    "y_predScaled = scaledLin.predict(X_test)"
   ]
  },
  {
   "cell_type": "code",
   "execution_count": 157,
   "metadata": {},
   "outputs": [
    {
     "data": {
      "text/plain": [
       "0.8284390278368062"
      ]
     },
     "execution_count": 157,
     "metadata": {},
     "output_type": "execute_result"
    }
   ],
   "source": [
    "r2_score(y_test, y_predScaled)"
   ]
  },
  {
   "cell_type": "markdown",
   "metadata": {},
   "source": [
    "### 3. Ridge"
   ]
  },
  {
   "cell_type": "code",
   "execution_count": 158,
   "metadata": {},
   "outputs": [],
   "source": [
    "ridge = Ridge()"
   ]
  },
  {
   "cell_type": "code",
   "execution_count": 159,
   "metadata": {},
   "outputs": [
    {
     "data": {
      "text/plain": [
       "Ridge()"
      ]
     },
     "execution_count": 159,
     "metadata": {},
     "output_type": "execute_result"
    }
   ],
   "source": [
    "ridge.fit(X_train, y_train)"
   ]
  },
  {
   "cell_type": "code",
   "execution_count": 160,
   "metadata": {},
   "outputs": [],
   "source": [
    "y_predRidge = ridge.predict(X_test)"
   ]
  },
  {
   "cell_type": "code",
   "execution_count": 161,
   "metadata": {},
   "outputs": [
    {
     "data": {
      "text/plain": [
       "0.8284390280576795"
      ]
     },
     "execution_count": 161,
     "metadata": {},
     "output_type": "execute_result"
    }
   ],
   "source": [
    "r2_score(y_test, y_predRidge)"
   ]
  },
  {
   "cell_type": "markdown",
   "metadata": {},
   "source": [
    "### 4. RandomForest"
   ]
  },
  {
   "cell_type": "code",
   "execution_count": 162,
   "metadata": {},
   "outputs": [],
   "source": [
    "from sklearn.ensemble import RandomForestRegressor"
   ]
  },
  {
   "cell_type": "code",
   "execution_count": 163,
   "metadata": {},
   "outputs": [],
   "source": [
    "rf = RandomForestRegressor()"
   ]
  },
  {
   "cell_type": "code",
   "execution_count": 164,
   "metadata": {},
   "outputs": [
    {
     "data": {
      "text/plain": [
       "RandomForestRegressor()"
      ]
     },
     "execution_count": 164,
     "metadata": {},
     "output_type": "execute_result"
    }
   ],
   "source": [
    "rf.fit(X_train, y_train)"
   ]
  },
  {
   "cell_type": "code",
   "execution_count": 165,
   "metadata": {},
   "outputs": [],
   "source": [
    "y_predRF = rf.predict(X_test)"
   ]
  },
  {
   "cell_type": "code",
   "execution_count": 166,
   "metadata": {},
   "outputs": [
    {
     "data": {
      "text/plain": [
       "0.8809275000998182"
      ]
     },
     "execution_count": 166,
     "metadata": {},
     "output_type": "execute_result"
    }
   ],
   "source": [
    "r2_score(y_test, y_predRF)"
   ]
  },
  {
   "cell_type": "markdown",
   "metadata": {},
   "source": [
    "### 5. XGBoost"
   ]
  },
  {
   "cell_type": "code",
   "execution_count": 167,
   "metadata": {},
   "outputs": [],
   "source": [
    "from xgboost import XGBRFRegressor"
   ]
  },
  {
   "cell_type": "code",
   "execution_count": 168,
   "metadata": {},
   "outputs": [],
   "source": [
    "model_xgb = XGBRFRegressor()"
   ]
  },
  {
   "cell_type": "code",
   "execution_count": 169,
   "metadata": {},
   "outputs": [
    {
     "data": {
      "text/plain": [
       "XGBRFRegressor(base_score=0.5, booster='gbtree', colsample_bylevel=1,\n",
       "               colsample_bytree=1, gamma=0, gpu_id=-1, importance_type='gain',\n",
       "               interaction_constraints='', max_delta_step=0, max_depth=6,\n",
       "               min_child_weight=1, missing=nan, monotone_constraints='()',\n",
       "               n_estimators=100, n_jobs=0, num_parallel_tree=100,\n",
       "               objective='reg:squarederror', random_state=0, reg_alpha=0,\n",
       "               scale_pos_weight=1, tree_method='exact', validate_parameters=1,\n",
       "               verbosity=None)"
      ]
     },
     "execution_count": 169,
     "metadata": {},
     "output_type": "execute_result"
    }
   ],
   "source": [
    "model_xgb.fit(X_train, y_train)"
   ]
  },
  {
   "cell_type": "code",
   "execution_count": 170,
   "metadata": {},
   "outputs": [],
   "source": [
    "y_predxgb = model_xgb.predict(X_test)"
   ]
  },
  {
   "cell_type": "code",
   "execution_count": 171,
   "metadata": {},
   "outputs": [
    {
     "data": {
      "text/plain": [
       "0.8636602846845456"
      ]
     },
     "execution_count": 171,
     "metadata": {},
     "output_type": "execute_result"
    }
   ],
   "source": [
    "r2_score(y_test, y_predxgb)"
   ]
  },
  {
   "cell_type": "markdown",
   "metadata": {},
   "source": [
    "### Evaluation"
   ]
  },
  {
   "cell_type": "code",
   "execution_count": 172,
   "metadata": {},
   "outputs": [],
   "source": [
    "from sklearn.metrics import mean_absolute_error, mean_squared_error"
   ]
  },
  {
   "cell_type": "code",
   "execution_count": 173,
   "metadata": {},
   "outputs": [],
   "source": [
    "summary = pd.DataFrame()"
   ]
  },
  {
   "cell_type": "code",
   "execution_count": 174,
   "metadata": {},
   "outputs": [],
   "source": [
    "summary['model'] = ['Linear Regression', 'Linear Regression with Scaler', 'Ridge Regression', 'RandomForest', 'XGBoostRegressor']"
   ]
  },
  {
   "cell_type": "code",
   "execution_count": 175,
   "metadata": {},
   "outputs": [],
   "source": [
    "summary['MAE'] = [mean_absolute_error(y_test, y_predReg), mean_absolute_error(y_test, y_predScaled), mean_absolute_error(y_test, y_predRidge), mean_absolute_error(y_test, y_predRF), mean_absolute_error(y_test, y_predxgb)]\n",
    "summary['MSE'] = [mean_squared_error(y_test, y_predReg), mean_squared_error(y_test, y_predScaled), mean_squared_error(y_test, y_predRidge), mean_squared_error(y_test, y_predRF), mean_squared_error(y_test, y_predxgb)]\n",
    "summary['RMSE'] = [np.sqrt(mean_squared_error(y_test, y_predReg)), np.sqrt(mean_squared_error(y_test, y_predScaled)), np.sqrt(mean_squared_error(y_test, y_predRidge)), np.sqrt(mean_squared_error(y_test, y_predRF)), np.sqrt(mean_squared_error(y_test, y_predxgb)) ]\n",
    "summary['r2_score'] = [r2_score(y_test, y_predReg), r2_score(y_test, y_predScaled), r2_score(y_test, y_predRidge), r2_score(y_test, y_predRF), r2_score(y_test, y_predxgb)]"
   ]
  },
  {
   "cell_type": "code",
   "execution_count": 176,
   "metadata": {},
   "outputs": [
    {
     "data": {
      "text/html": [
       "<div>\n",
       "<style scoped>\n",
       "    .dataframe tbody tr th:only-of-type {\n",
       "        vertical-align: middle;\n",
       "    }\n",
       "\n",
       "    .dataframe tbody tr th {\n",
       "        vertical-align: top;\n",
       "    }\n",
       "\n",
       "    .dataframe thead th {\n",
       "        text-align: right;\n",
       "    }\n",
       "</style>\n",
       "<table border=\"1\" class=\"dataframe\">\n",
       "  <thead>\n",
       "    <tr style=\"text-align: right;\">\n",
       "      <th></th>\n",
       "      <th>model</th>\n",
       "      <th>MAE</th>\n",
       "      <th>MSE</th>\n",
       "      <th>RMSE</th>\n",
       "      <th>r2_score</th>\n",
       "    </tr>\n",
       "  </thead>\n",
       "  <tbody>\n",
       "    <tr>\n",
       "      <th>0</th>\n",
       "      <td>Linear Regression</td>\n",
       "      <td>1733.698788</td>\n",
       "      <td>1.357778e+07</td>\n",
       "      <td>3684.803539</td>\n",
       "      <td>0.828439</td>\n",
       "    </tr>\n",
       "    <tr>\n",
       "      <th>1</th>\n",
       "      <td>Linear Regression with Scaler</td>\n",
       "      <td>1733.698788</td>\n",
       "      <td>1.357778e+07</td>\n",
       "      <td>3684.803539</td>\n",
       "      <td>0.828439</td>\n",
       "    </tr>\n",
       "    <tr>\n",
       "      <th>2</th>\n",
       "      <td>Ridge Regression</td>\n",
       "      <td>1733.698786</td>\n",
       "      <td>1.357778e+07</td>\n",
       "      <td>3684.803537</td>\n",
       "      <td>0.828439</td>\n",
       "    </tr>\n",
       "    <tr>\n",
       "      <th>3</th>\n",
       "      <td>RandomForest</td>\n",
       "      <td>1211.651853</td>\n",
       "      <td>9.423704e+06</td>\n",
       "      <td>3069.805249</td>\n",
       "      <td>0.880928</td>\n",
       "    </tr>\n",
       "    <tr>\n",
       "      <th>4</th>\n",
       "      <td>XGBoostRegressor</td>\n",
       "      <td>1624.248193</td>\n",
       "      <td>1.079028e+07</td>\n",
       "      <td>3284.855576</td>\n",
       "      <td>0.863660</td>\n",
       "    </tr>\n",
       "  </tbody>\n",
       "</table>\n",
       "</div>"
      ],
      "text/plain": [
       "                           model          MAE           MSE         RMSE  \\\n",
       "0              Linear Regression  1733.698788  1.357778e+07  3684.803539   \n",
       "1  Linear Regression with Scaler  1733.698788  1.357778e+07  3684.803539   \n",
       "2               Ridge Regression  1733.698786  1.357778e+07  3684.803537   \n",
       "3                   RandomForest  1211.651853  9.423704e+06  3069.805249   \n",
       "4               XGBoostRegressor  1624.248193  1.079028e+07  3284.855576   \n",
       "\n",
       "   r2_score  \n",
       "0  0.828439  \n",
       "1  0.828439  \n",
       "2  0.828439  \n",
       "3  0.880928  \n",
       "4  0.863660  "
      ]
     },
     "execution_count": 176,
     "metadata": {},
     "output_type": "execute_result"
    }
   ],
   "source": [
    "summary"
   ]
  },
  {
   "cell_type": "markdown",
   "metadata": {},
   "source": [
    "#### Conclusion: RandomForest gives best performance with r2 score of 88%"
   ]
  },
  {
   "cell_type": "markdown",
   "metadata": {},
   "source": [
    "## Export Model"
   ]
  },
  {
   "cell_type": "code",
   "execution_count": 177,
   "metadata": {},
   "outputs": [],
   "source": [
    "import joblib"
   ]
  },
  {
   "cell_type": "code",
   "execution_count": 178,
   "metadata": {},
   "outputs": [
    {
     "data": {
      "text/plain": [
       "['model_x']"
      ]
     },
     "execution_count": 178,
     "metadata": {},
     "output_type": "execute_result"
    }
   ],
   "source": [
    "joblib.dump(rf, 'model_x')"
   ]
  },
  {
   "cell_type": "markdown",
   "metadata": {},
   "source": [
    "## Test Dataset"
   ]
  },
  {
   "cell_type": "code",
   "execution_count": 179,
   "metadata": {},
   "outputs": [],
   "source": [
    "test = pd.read_csv('data_test.csv', index_col=0)"
   ]
  },
  {
   "cell_type": "code",
   "execution_count": 180,
   "metadata": {},
   "outputs": [
    {
     "data": {
      "text/html": [
       "<div>\n",
       "<style scoped>\n",
       "    .dataframe tbody tr th:only-of-type {\n",
       "        vertical-align: middle;\n",
       "    }\n",
       "\n",
       "    .dataframe tbody tr th {\n",
       "        vertical-align: top;\n",
       "    }\n",
       "\n",
       "    .dataframe thead th {\n",
       "        text-align: right;\n",
       "    }\n",
       "</style>\n",
       "<table border=\"1\" class=\"dataframe\">\n",
       "  <thead>\n",
       "    <tr style=\"text-align: right;\">\n",
       "      <th></th>\n",
       "      <th>hash</th>\n",
       "      <th>trajectory_id</th>\n",
       "      <th>time_entry</th>\n",
       "      <th>time_exit</th>\n",
       "      <th>vmax</th>\n",
       "      <th>vmin</th>\n",
       "      <th>vmean</th>\n",
       "      <th>x_entry</th>\n",
       "      <th>y_entry</th>\n",
       "      <th>x_exit</th>\n",
       "      <th>y_exit</th>\n",
       "    </tr>\n",
       "  </thead>\n",
       "  <tbody>\n",
       "    <tr>\n",
       "      <th>0</th>\n",
       "      <td>00032f51796fd5437b238e3a9823d13d_31</td>\n",
       "      <td>traj_00032f51796fd5437b238e3a9823d13d_31_0</td>\n",
       "      <td>11:43:17</td>\n",
       "      <td>11:50:17</td>\n",
       "      <td>NaN</td>\n",
       "      <td>NaN</td>\n",
       "      <td>NaN</td>\n",
       "      <td>3.773413e+06</td>\n",
       "      <td>-1.909828e+07</td>\n",
       "      <td>3.773111e+06</td>\n",
       "      <td>-1.914508e+07</td>\n",
       "    </tr>\n",
       "    <tr>\n",
       "      <th>1</th>\n",
       "      <td>00032f51796fd5437b238e3a9823d13d_31</td>\n",
       "      <td>traj_00032f51796fd5437b238e3a9823d13d_31_2</td>\n",
       "      <td>12:21:37</td>\n",
       "      <td>12:21:37</td>\n",
       "      <td>0.0</td>\n",
       "      <td>0.0</td>\n",
       "      <td>0.0</td>\n",
       "      <td>3.773199e+06</td>\n",
       "      <td>-1.914354e+07</td>\n",
       "      <td>3.773199e+06</td>\n",
       "      <td>-1.914354e+07</td>\n",
       "    </tr>\n",
       "    <tr>\n",
       "      <th>2</th>\n",
       "      <td>00032f51796fd5437b238e3a9823d13d_31</td>\n",
       "      <td>traj_00032f51796fd5437b238e3a9823d13d_31_3</td>\n",
       "      <td>12:34:27</td>\n",
       "      <td>13:14:11</td>\n",
       "      <td>NaN</td>\n",
       "      <td>NaN</td>\n",
       "      <td>NaN</td>\n",
       "      <td>3.763760e+06</td>\n",
       "      <td>-1.921342e+07</td>\n",
       "      <td>3.771757e+06</td>\n",
       "      <td>-1.911092e+07</td>\n",
       "    </tr>\n",
       "    <tr>\n",
       "      <th>3</th>\n",
       "      <td>00032f51796fd5437b238e3a9823d13d_31</td>\n",
       "      <td>traj_00032f51796fd5437b238e3a9823d13d_31_4</td>\n",
       "      <td>13:25:33</td>\n",
       "      <td>13:43:13</td>\n",
       "      <td>NaN</td>\n",
       "      <td>NaN</td>\n",
       "      <td>NaN</td>\n",
       "      <td>3.773385e+06</td>\n",
       "      <td>-1.911344e+07</td>\n",
       "      <td>3.773131e+06</td>\n",
       "      <td>-1.914465e+07</td>\n",
       "    </tr>\n",
       "    <tr>\n",
       "      <th>4</th>\n",
       "      <td>00032f51796fd5437b238e3a9823d13d_31</td>\n",
       "      <td>traj_00032f51796fd5437b238e3a9823d13d_31_5</td>\n",
       "      <td>15:03:32</td>\n",
       "      <td>15:10:32</td>\n",
       "      <td>NaN</td>\n",
       "      <td>NaN</td>\n",
       "      <td>NaN</td>\n",
       "      <td>3.773118e+06</td>\n",
       "      <td>-1.914490e+07</td>\n",
       "      <td>NaN</td>\n",
       "      <td>NaN</td>\n",
       "    </tr>\n",
       "  </tbody>\n",
       "</table>\n",
       "</div>"
      ],
      "text/plain": [
       "                                  hash  \\\n",
       "0  00032f51796fd5437b238e3a9823d13d_31   \n",
       "1  00032f51796fd5437b238e3a9823d13d_31   \n",
       "2  00032f51796fd5437b238e3a9823d13d_31   \n",
       "3  00032f51796fd5437b238e3a9823d13d_31   \n",
       "4  00032f51796fd5437b238e3a9823d13d_31   \n",
       "\n",
       "                                trajectory_id time_entry time_exit  vmax  \\\n",
       "0  traj_00032f51796fd5437b238e3a9823d13d_31_0   11:43:17  11:50:17   NaN   \n",
       "1  traj_00032f51796fd5437b238e3a9823d13d_31_2   12:21:37  12:21:37   0.0   \n",
       "2  traj_00032f51796fd5437b238e3a9823d13d_31_3   12:34:27  13:14:11   NaN   \n",
       "3  traj_00032f51796fd5437b238e3a9823d13d_31_4   13:25:33  13:43:13   NaN   \n",
       "4  traj_00032f51796fd5437b238e3a9823d13d_31_5   15:03:32  15:10:32   NaN   \n",
       "\n",
       "   vmin  vmean       x_entry       y_entry        x_exit        y_exit  \n",
       "0   NaN    NaN  3.773413e+06 -1.909828e+07  3.773111e+06 -1.914508e+07  \n",
       "1   0.0    0.0  3.773199e+06 -1.914354e+07  3.773199e+06 -1.914354e+07  \n",
       "2   NaN    NaN  3.763760e+06 -1.921342e+07  3.771757e+06 -1.911092e+07  \n",
       "3   NaN    NaN  3.773385e+06 -1.911344e+07  3.773131e+06 -1.914465e+07  \n",
       "4   NaN    NaN  3.773118e+06 -1.914490e+07           NaN           NaN  "
      ]
     },
     "execution_count": 180,
     "metadata": {},
     "output_type": "execute_result"
    }
   ],
   "source": [
    "test.head()"
   ]
  },
  {
   "cell_type": "code",
   "execution_count": 181,
   "metadata": {},
   "outputs": [],
   "source": [
    "load_model = joblib.load('model_x')"
   ]
  },
  {
   "cell_type": "markdown",
   "metadata": {},
   "source": [
    "==========================================================================="
   ]
  },
  {
   "cell_type": "markdown",
   "metadata": {},
   "source": [
    "## 2. Predict y_exit"
   ]
  },
  {
   "cell_type": "code",
   "execution_count": 52,
   "metadata": {},
   "outputs": [],
   "source": [
    "X = train.drop(columns=['x_exit', 'y_exit'])\n",
    "y = train['y_exit']"
   ]
  },
  {
   "cell_type": "code",
   "execution_count": 53,
   "metadata": {},
   "outputs": [],
   "source": [
    "X_train, X_test, y_train, y_test = train_test_split(X, y, test_size=0.3, random_state=42)"
   ]
  },
  {
   "cell_type": "markdown",
   "metadata": {},
   "source": [
    "### 1. LinearRegression"
   ]
  },
  {
   "cell_type": "code",
   "execution_count": 54,
   "metadata": {},
   "outputs": [],
   "source": [
    "from sklearn.linear_model import LinearRegression, Ridge\n",
    "from sklearn.pipeline import Pipeline\n",
    "from sklearn.preprocessing import StandardScaler, RobustScaler\n",
    "from sklearn.compose import ColumnTransformer"
   ]
  },
  {
   "cell_type": "code",
   "execution_count": 55,
   "metadata": {},
   "outputs": [
    {
     "name": "stdout",
     "output_type": "stream",
     "text": [
      "<class 'pandas.core.frame.DataFrame'>\n",
      "Int64Index: 569983 entries, 333923 to 121958\n",
      "Data columns (total 5 columns):\n",
      " #   Column      Non-Null Count   Dtype  \n",
      "---  ------      --------------   -----  \n",
      " 0   x_entry     569983 non-null  float64\n",
      " 1   y_entry     569983 non-null  float64\n",
      " 2   entry_hour  569983 non-null  int64  \n",
      " 3   exit_hour   569983 non-null  int64  \n",
      " 4   duration_s  569983 non-null  float64\n",
      "dtypes: float64(3), int64(2)\n",
      "memory usage: 26.1 MB\n"
     ]
    }
   ],
   "source": [
    "X_train.info()"
   ]
  },
  {
   "cell_type": "code",
   "execution_count": 56,
   "metadata": {},
   "outputs": [],
   "source": [
    "model_lm = LinearRegression()"
   ]
  },
  {
   "cell_type": "code",
   "execution_count": 57,
   "metadata": {},
   "outputs": [
    {
     "data": {
      "text/plain": [
       "LinearRegression()"
      ]
     },
     "execution_count": 57,
     "metadata": {},
     "output_type": "execute_result"
    }
   ],
   "source": [
    "model_lm.fit(X_train, y_train)"
   ]
  },
  {
   "cell_type": "code",
   "execution_count": 58,
   "metadata": {},
   "outputs": [],
   "source": [
    "y_predReg_y = model_lm.predict(X_test)"
   ]
  },
  {
   "cell_type": "code",
   "execution_count": 59,
   "metadata": {},
   "outputs": [],
   "source": [
    "# Evaluation\n",
    "\n",
    "from sklearn.metrics import r2_score"
   ]
  },
  {
   "cell_type": "code",
   "execution_count": 60,
   "metadata": {},
   "outputs": [
    {
     "data": {
      "text/plain": [
       "0.7939862137230903"
      ]
     },
     "execution_count": 60,
     "metadata": {},
     "output_type": "execute_result"
    }
   ],
   "source": [
    "r2_score(y_test, y_predReg_y)"
   ]
  },
  {
   "cell_type": "markdown",
   "metadata": {},
   "source": [
    "### 2. Linear Regression with Scaler"
   ]
  },
  {
   "cell_type": "code",
   "execution_count": 61,
   "metadata": {},
   "outputs": [],
   "source": [
    "prep = ColumnTransformer([\n",
    "    ('scale', StandardScaler(), ['x_entry', 'y_entry', 'entry_hour', 'exit_hour', 'duration_s'])\n",
    "])\n",
    "\n",
    "model_scaledLin = Pipeline([\n",
    "    ('transform', prep),\n",
    "    ('algo', LinearRegression())\n",
    "])"
   ]
  },
  {
   "cell_type": "code",
   "execution_count": 62,
   "metadata": {},
   "outputs": [
    {
     "data": {
      "text/plain": [
       "Pipeline(steps=[('transform',\n",
       "                 ColumnTransformer(transformers=[('scale', StandardScaler(),\n",
       "                                                  ['x_entry', 'y_entry',\n",
       "                                                   'entry_hour', 'exit_hour',\n",
       "                                                   'duration_s'])])),\n",
       "                ('algo', LinearRegression())])"
      ]
     },
     "execution_count": 62,
     "metadata": {},
     "output_type": "execute_result"
    }
   ],
   "source": [
    "model_scaledLin.fit(X_train, y_train)"
   ]
  },
  {
   "cell_type": "code",
   "execution_count": 63,
   "metadata": {},
   "outputs": [],
   "source": [
    "y_predScaled_y = model_scaledLin.predict(X_test)"
   ]
  },
  {
   "cell_type": "code",
   "execution_count": 64,
   "metadata": {},
   "outputs": [
    {
     "data": {
      "text/plain": [
       "0.7939862137230906"
      ]
     },
     "execution_count": 64,
     "metadata": {},
     "output_type": "execute_result"
    }
   ],
   "source": [
    "r2_score(y_test, y_predScaled_y)"
   ]
  },
  {
   "cell_type": "markdown",
   "metadata": {},
   "source": [
    "### 3. Ridge"
   ]
  },
  {
   "cell_type": "code",
   "execution_count": 65,
   "metadata": {},
   "outputs": [],
   "source": [
    "model_ridge = Ridge()"
   ]
  },
  {
   "cell_type": "code",
   "execution_count": 66,
   "metadata": {},
   "outputs": [
    {
     "data": {
      "text/plain": [
       "Ridge()"
      ]
     },
     "execution_count": 66,
     "metadata": {},
     "output_type": "execute_result"
    }
   ],
   "source": [
    "model_ridge.fit(X_train, y_train)"
   ]
  },
  {
   "cell_type": "code",
   "execution_count": 68,
   "metadata": {},
   "outputs": [],
   "source": [
    "y_predRidge_y = model_ridge.predict(X_test)"
   ]
  },
  {
   "cell_type": "code",
   "execution_count": 69,
   "metadata": {},
   "outputs": [
    {
     "data": {
      "text/plain": [
       "0.7939862138833995"
      ]
     },
     "execution_count": 69,
     "metadata": {},
     "output_type": "execute_result"
    }
   ],
   "source": [
    "r2_score(y_test, y_predRidge_y)"
   ]
  },
  {
   "cell_type": "markdown",
   "metadata": {},
   "source": [
    "### 4. RandomForest"
   ]
  },
  {
   "cell_type": "code",
   "execution_count": 70,
   "metadata": {},
   "outputs": [],
   "source": [
    "from sklearn.ensemble import RandomForestRegressor"
   ]
  },
  {
   "cell_type": "code",
   "execution_count": 71,
   "metadata": {},
   "outputs": [],
   "source": [
    "model_rf = RandomForestRegressor()"
   ]
  },
  {
   "cell_type": "code",
   "execution_count": 72,
   "metadata": {},
   "outputs": [
    {
     "data": {
      "text/plain": [
       "RandomForestRegressor()"
      ]
     },
     "execution_count": 72,
     "metadata": {},
     "output_type": "execute_result"
    }
   ],
   "source": [
    "model_rf.fit(X_train, y_train)"
   ]
  },
  {
   "cell_type": "code",
   "execution_count": 73,
   "metadata": {},
   "outputs": [],
   "source": [
    "y_predRF_y = model_rf.predict(X_test)"
   ]
  },
  {
   "cell_type": "code",
   "execution_count": 74,
   "metadata": {},
   "outputs": [
    {
     "data": {
      "text/plain": [
       "0.8527806819724919"
      ]
     },
     "execution_count": 74,
     "metadata": {},
     "output_type": "execute_result"
    }
   ],
   "source": [
    "r2_score(y_test, y_predRF_y)"
   ]
  },
  {
   "cell_type": "markdown",
   "metadata": {},
   "source": [
    "### 5. XGBoost"
   ]
  },
  {
   "cell_type": "code",
   "execution_count": 75,
   "metadata": {},
   "outputs": [],
   "source": [
    "from xgboost import XGBRFRegressor"
   ]
  },
  {
   "cell_type": "code",
   "execution_count": 76,
   "metadata": {},
   "outputs": [],
   "source": [
    "xgb = XGBRFRegressor()"
   ]
  },
  {
   "cell_type": "code",
   "execution_count": 77,
   "metadata": {},
   "outputs": [
    {
     "data": {
      "text/plain": [
       "XGBRFRegressor(base_score=0.5, booster='gbtree', colsample_bylevel=1,\n",
       "               colsample_bytree=1, gamma=0, gpu_id=-1, importance_type='gain',\n",
       "               interaction_constraints='', max_delta_step=0, max_depth=6,\n",
       "               min_child_weight=1, missing=nan, monotone_constraints='()',\n",
       "               n_estimators=100, n_jobs=0, num_parallel_tree=100,\n",
       "               objective='reg:squarederror', random_state=0, reg_alpha=0,\n",
       "               scale_pos_weight=1, tree_method='exact', validate_parameters=1,\n",
       "               verbosity=None)"
      ]
     },
     "execution_count": 77,
     "metadata": {},
     "output_type": "execute_result"
    }
   ],
   "source": [
    "xgb.fit(X_train, y_train)"
   ]
  },
  {
   "cell_type": "code",
   "execution_count": 78,
   "metadata": {},
   "outputs": [],
   "source": [
    "y_predxgb_y = xgb.predict(X_test)"
   ]
  },
  {
   "cell_type": "code",
   "execution_count": 79,
   "metadata": {},
   "outputs": [
    {
     "data": {
      "text/plain": [
       "0.843808346216885"
      ]
     },
     "execution_count": 79,
     "metadata": {},
     "output_type": "execute_result"
    }
   ],
   "source": [
    "r2_score(y_test, y_predxgb_y)"
   ]
  },
  {
   "cell_type": "markdown",
   "metadata": {},
   "source": [
    "### Evaluation"
   ]
  },
  {
   "cell_type": "code",
   "execution_count": 80,
   "metadata": {},
   "outputs": [],
   "source": [
    "from sklearn.metrics import mean_absolute_error, mean_squared_error"
   ]
  },
  {
   "cell_type": "code",
   "execution_count": 81,
   "metadata": {},
   "outputs": [],
   "source": [
    "summary = pd.DataFrame()"
   ]
  },
  {
   "cell_type": "code",
   "execution_count": 82,
   "metadata": {},
   "outputs": [],
   "source": [
    "summary['model'] = ['Linear Regression', 'Linear Regression with Scaler', 'Ridge Regression', 'RandomForest', 'XGBoostRegressor']"
   ]
  },
  {
   "cell_type": "code",
   "execution_count": 83,
   "metadata": {},
   "outputs": [],
   "source": [
    "summary['MAE'] = [mean_absolute_error(y_test, y_predReg_y), mean_absolute_error(y_test, y_predScaled_y), mean_absolute_error(y_test, y_predRidge_y), mean_absolute_error(y_test, y_predRF_y), mean_absolute_error(y_test, y_predxgb_y)]\n",
    "summary['MSE'] = [mean_squared_error(y_test, y_predReg_y), mean_squared_error(y_test, y_predScaled_y), mean_squared_error(y_test, y_predRidge_y), mean_squared_error(y_test, y_predRF_y), mean_squared_error(y_test, y_predxgb_y)]\n",
    "summary['RMSE'] = [np.sqrt(mean_squared_error(y_test, y_predReg_y)), np.sqrt(mean_squared_error(y_test, y_predScaled_y)), np.sqrt(mean_squared_error(y_test, y_predRidge_y)), np.sqrt(mean_squared_error(y_test, y_predRF_y)), np.sqrt(mean_squared_error(y_test, y_predxgb_y)) ]\n",
    "summary['r2_score'] = [r2_score(y_test, y_predReg_y), r2_score(y_test, y_predScaled_y), r2_score(y_test, y_predRidge_y), r2_score(y_test, y_predRF_y), r2_score(y_test, y_predxgb_y)]"
   ]
  },
  {
   "cell_type": "code",
   "execution_count": 84,
   "metadata": {},
   "outputs": [
    {
     "data": {
      "text/html": [
       "<div>\n",
       "<style scoped>\n",
       "    .dataframe tbody tr th:only-of-type {\n",
       "        vertical-align: middle;\n",
       "    }\n",
       "\n",
       "    .dataframe tbody tr th {\n",
       "        vertical-align: top;\n",
       "    }\n",
       "\n",
       "    .dataframe thead th {\n",
       "        text-align: right;\n",
       "    }\n",
       "</style>\n",
       "<table border=\"1\" class=\"dataframe\">\n",
       "  <thead>\n",
       "    <tr style=\"text-align: right;\">\n",
       "      <th></th>\n",
       "      <th>model</th>\n",
       "      <th>MAE</th>\n",
       "      <th>MSE</th>\n",
       "      <th>RMSE</th>\n",
       "      <th>r2_score</th>\n",
       "    </tr>\n",
       "  </thead>\n",
       "  <tbody>\n",
       "    <tr>\n",
       "      <th>0</th>\n",
       "      <td>Linear Regression</td>\n",
       "      <td>16955.602933</td>\n",
       "      <td>1.162840e+09</td>\n",
       "      <td>34100.433122</td>\n",
       "      <td>0.793986</td>\n",
       "    </tr>\n",
       "    <tr>\n",
       "      <th>1</th>\n",
       "      <td>Linear Regression with Scaler</td>\n",
       "      <td>16955.602933</td>\n",
       "      <td>1.162840e+09</td>\n",
       "      <td>34100.433122</td>\n",
       "      <td>0.793986</td>\n",
       "    </tr>\n",
       "    <tr>\n",
       "      <th>2</th>\n",
       "      <td>Ridge Regression</td>\n",
       "      <td>16955.602910</td>\n",
       "      <td>1.162840e+09</td>\n",
       "      <td>34100.433108</td>\n",
       "      <td>0.793986</td>\n",
       "    </tr>\n",
       "    <tr>\n",
       "      <th>3</th>\n",
       "      <td>RandomForest</td>\n",
       "      <td>11715.368630</td>\n",
       "      <td>8.309757e+08</td>\n",
       "      <td>28826.648595</td>\n",
       "      <td>0.852781</td>\n",
       "    </tr>\n",
       "    <tr>\n",
       "      <th>4</th>\n",
       "      <td>XGBoostRegressor</td>\n",
       "      <td>13666.588533</td>\n",
       "      <td>8.816198e+08</td>\n",
       "      <td>29692.082927</td>\n",
       "      <td>0.843808</td>\n",
       "    </tr>\n",
       "  </tbody>\n",
       "</table>\n",
       "</div>"
      ],
      "text/plain": [
       "                           model           MAE           MSE          RMSE  \\\n",
       "0              Linear Regression  16955.602933  1.162840e+09  34100.433122   \n",
       "1  Linear Regression with Scaler  16955.602933  1.162840e+09  34100.433122   \n",
       "2               Ridge Regression  16955.602910  1.162840e+09  34100.433108   \n",
       "3                   RandomForest  11715.368630  8.309757e+08  28826.648595   \n",
       "4               XGBoostRegressor  13666.588533  8.816198e+08  29692.082927   \n",
       "\n",
       "   r2_score  \n",
       "0  0.793986  \n",
       "1  0.793986  \n",
       "2  0.793986  \n",
       "3  0.852781  \n",
       "4  0.843808  "
      ]
     },
     "execution_count": 84,
     "metadata": {},
     "output_type": "execute_result"
    }
   ],
   "source": [
    "summary"
   ]
  },
  {
   "cell_type": "markdown",
   "metadata": {},
   "source": [
    "#### Conclusion: RandomForest gives best performance with r2 score of 85%"
   ]
  },
  {
   "cell_type": "markdown",
   "metadata": {},
   "source": [
    "## Export Model"
   ]
  },
  {
   "cell_type": "code",
   "execution_count": 85,
   "metadata": {},
   "outputs": [],
   "source": [
    "import joblib"
   ]
  },
  {
   "cell_type": "code",
   "execution_count": 86,
   "metadata": {},
   "outputs": [
    {
     "data": {
      "text/plain": [
       "['model_y']"
      ]
     },
     "execution_count": 86,
     "metadata": {},
     "output_type": "execute_result"
    }
   ],
   "source": [
    "joblib.dump(model_rf, 'model_y')"
   ]
  },
  {
   "cell_type": "code",
   "execution_count": 216,
   "metadata": {},
   "outputs": [
    {
     "name": "stdout",
     "output_type": "stream",
     "text": [
      "<class 'pandas.core.frame.DataFrame'>\n",
      "Int64Index: 814262 entries, 0 to 814261\n",
      "Data columns (total 12 columns):\n",
      " #   Column         Non-Null Count   Dtype          \n",
      "---  ------         --------------   -----          \n",
      " 0   hash           814262 non-null  object         \n",
      " 1   trajectory_id  814262 non-null  object         \n",
      " 2   time_entry     814262 non-null  datetime64[ns] \n",
      " 3   time_exit      814262 non-null  datetime64[ns] \n",
      " 4   x_entry        814262 non-null  float64        \n",
      " 5   y_entry        814262 non-null  float64        \n",
      " 6   x_exit         814262 non-null  float64        \n",
      " 7   y_exit         814262 non-null  float64        \n",
      " 8   entry_hour     814262 non-null  int64          \n",
      " 9   exit_hour      814262 non-null  int64          \n",
      " 10  duration       814262 non-null  timedelta64[ns]\n",
      " 11  duration_s     814262 non-null  float64        \n",
      "dtypes: datetime64[ns](2), float64(5), int64(2), object(2), timedelta64[ns](1)\n",
      "memory usage: 80.8+ MB\n"
     ]
    }
   ],
   "source": [
    "df.info()"
   ]
  },
  {
   "cell_type": "code",
   "execution_count": 217,
   "metadata": {},
   "outputs": [],
   "source": [
    "df.to_csv('raw_train.csv')"
   ]
  },
  {
   "cell_type": "code",
   "execution_count": null,
   "metadata": {},
   "outputs": [],
   "source": []
  }
 ],
 "metadata": {
  "kernelspec": {
   "display_name": "Python 3",
   "language": "python",
   "name": "python3"
  },
  "language_info": {
   "codemirror_mode": {
    "name": "ipython",
    "version": 3
   },
   "file_extension": ".py",
   "mimetype": "text/x-python",
   "name": "python",
   "nbconvert_exporter": "python",
   "pygments_lexer": "ipython3",
   "version": "3.8.3"
  }
 },
 "nbformat": 4,
 "nbformat_minor": 4
}
